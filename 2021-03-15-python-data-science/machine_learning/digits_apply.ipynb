{
 "metadata": {
  "language_info": {
   "codemirror_mode": {
    "name": "ipython",
    "version": 3
   },
   "file_extension": ".py",
   "mimetype": "text/x-python",
   "name": "python",
   "nbconvert_exporter": "python",
   "pygments_lexer": "ipython3",
   "version": "3.9.1-final"
  },
  "orig_nbformat": 2,
  "kernelspec": {
   "name": "python3",
   "display_name": "Python 3.9.1 64-bit",
   "metadata": {
    "interpreter": {
     "hash": "ae90dfe03a2ff2a8ba59a379b95d74bdb27cf9a7ce93f86ebd19f2fc7c49c750"
    }
   }
  }
 },
 "nbformat": 4,
 "nbformat_minor": 2,
 "cells": [
  {
   "cell_type": "code",
   "execution_count": 1,
   "metadata": {},
   "outputs": [],
   "source": [
    "import pickle\n",
    "\n",
    "with open(\"model.pickle\", mode=\"rb\") as picklefile:\n",
    "    model = pickle.load(picklefile)\n",
    "\n",
    "#model.predict(data)"
   ]
  },
  {
   "cell_type": "code",
   "execution_count": 4,
   "metadata": {},
   "outputs": [],
   "source": [
    "import numpy as np\n",
    "digit = np.array([[ 0.,  0.,  5., 13.,  9.,  1.,  0.,  0.],\n",
    "       [ 0.,  0., 13., 15., 10., 15.,  5.,  0.],\n",
    "       [ 0.,  3., 15.,  2.,  0., 11.,  8.,  0.],\n",
    "       [ 0.,  4., 12.,  0.,  0.,  8.,  8.,  0.],\n",
    "       [ 0.,  5.,  8.,  0.,  0.,  9.,  8.,  0.],\n",
    "       [ 0.,  4., 11.,  0.,  1., 12.,  7.,  0.],\n",
    "       [ 0.,  2., 14.,  5., 10., 12.,  0.,  0.],\n",
    "       [ 0.,  0.,  6., 13., 10.,  0.,  0.,  0.]])"
   ]
  },
  {
   "cell_type": "code",
   "execution_count": 5,
   "metadata": {},
   "outputs": [],
   "source": [
    "digit = digit.ravel()"
   ]
  },
  {
   "cell_type": "code",
   "execution_count": 8,
   "metadata": {},
   "outputs": [],
   "source": [
    "digit_in = np.array([digit])"
   ]
  },
  {
   "cell_type": "code",
   "execution_count": 9,
   "metadata": {},
   "outputs": [
    {
     "output_type": "execute_result",
     "data": {
      "text/plain": [
       "array([0])"
      ]
     },
     "metadata": {},
     "execution_count": 9
    }
   ],
   "source": [
    "model.predict(digit_in)"
   ]
  },
  {
   "cell_type": "code",
   "execution_count": null,
   "metadata": {},
   "outputs": [],
   "source": []
  }
 ]
}