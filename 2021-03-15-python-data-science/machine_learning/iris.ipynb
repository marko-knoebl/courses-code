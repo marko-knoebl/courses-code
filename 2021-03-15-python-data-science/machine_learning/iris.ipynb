{
 "metadata": {
  "language_info": {
   "codemirror_mode": {
    "name": "ipython",
    "version": 3
   },
   "file_extension": ".py",
   "mimetype": "text/x-python",
   "name": "python",
   "nbconvert_exporter": "python",
   "pygments_lexer": "ipython3",
   "version": "3.9.1-final"
  },
  "orig_nbformat": 2,
  "kernelspec": {
   "name": "python3",
   "display_name": "Python 3.9.1 64-bit",
   "metadata": {
    "interpreter": {
     "hash": "ae90dfe03a2ff2a8ba59a379b95d74bdb27cf9a7ce93f86ebd19f2fc7c49c750"
    }
   }
  }
 },
 "nbformat": 4,
 "nbformat_minor": 2,
 "cells": [
  {
   "cell_type": "code",
   "execution_count": 54,
   "metadata": {},
   "outputs": [],
   "source": [
    "import sklearn\n",
    "import sklearn.datasets"
   ]
  },
  {
   "cell_type": "code",
   "execution_count": 55,
   "metadata": {},
   "outputs": [],
   "source": [
    "iris = sklearn.datasets.load_iris()\n",
    "\n",
    "x = iris.data\n",
    "# 0: setosa, 1: virginica, 2: versicolor\n",
    "y = iris.target"
   ]
  },
  {
   "cell_type": "code",
   "execution_count": 56,
   "metadata": {},
   "outputs": [],
   "source": [
    "import pandas as pd\n",
    "from sklearn.preprocessing import LabelEncoder, StandardScaler\n",
    "\n",
    "iris = pd.read_csv(\n",
    "    \"http://archive.ics.uci.edu/ml/\" +\n",
    "    \"machine-learning-databases/iris/iris.data\",\n",
    "    header=None)\n",
    "iris_measures = iris.iloc[:, :4].to_numpy()\n",
    "iris_species = iris.iloc[:, 4].to_numpy()\n",
    "iris_species\n",
    "\n",
    "encoder = LabelEncoder()\n",
    "encoder.fit(iris_species)\n",
    "iris_species_one_hot = encoder.transform(iris_species)\n",
    "\n",
    "scaler = StandardScaler()\n",
    "scaler.fit(iris_measures)\n",
    "iris_measures_scaled = scaler.transform(iris_measures)\n",
    "\n",
    "iris_measures_scaled\n",
    "\n",
    "x = iris_measures_scaled\n",
    "y = iris_species_one_hot"
   ]
  },
  {
   "cell_type": "code",
   "execution_count": 57,
   "metadata": {},
   "outputs": [],
   "source": [
    "# [5, 3, 1.5, 0.2] -> 0"
   ]
  },
  {
   "cell_type": "code",
   "execution_count": 58,
   "metadata": {},
   "outputs": [],
   "source": [
    "from sklearn.model_selection import train_test_split\n",
    "\n",
    "x_train, x_test, y_train, y_test = train_test_split(x, y)"
   ]
  },
  {
   "cell_type": "code",
   "execution_count": 59,
   "metadata": {},
   "outputs": [
    {
     "output_type": "execute_result",
     "data": {
      "text/plain": [
       "KNeighborsClassifier()"
      ]
     },
     "metadata": {},
     "execution_count": 59
    }
   ],
   "source": [
    "from sklearn.neighbors import KNeighborsClassifier\n",
    "\n",
    "model = KNeighborsClassifier(n_neighbors=5)\n",
    "\n",
    "model.fit(x_train, y_train)"
   ]
  },
  {
   "cell_type": "code",
   "execution_count": 60,
   "metadata": {},
   "outputs": [],
   "source": [
    "import numpy as np\n",
    "\n",
    "test_data = np.array([\n",
    "    [5.3, 3.4, 1.9, 0.6],\n",
    "    [6.0, 3.0, 4.7, 1.5],\n",
    "    [6.5, 3.1, 5.0, 1.7]\n",
    "])"
   ]
  },
  {
   "cell_type": "code",
   "execution_count": 61,
   "metadata": {},
   "outputs": [
    {
     "output_type": "execute_result",
     "data": {
      "text/plain": [
       "array([[0., 0., 1.],\n",
       "       [0., 0., 1.],\n",
       "       [0., 0., 1.]])"
      ]
     },
     "metadata": {},
     "execution_count": 61
    }
   ],
   "source": [
    "model.predict_proba(test_data)"
   ]
  },
  {
   "cell_type": "code",
   "execution_count": 62,
   "metadata": {},
   "outputs": [],
   "source": [
    "from sklearn.tree import DecisionTreeClassifier\n",
    "from sklearn.svm import SVC\n",
    "from sklearn.naive_bayes import GaussianNB"
   ]
  },
  {
   "cell_type": "code",
   "execution_count": 67,
   "metadata": {},
   "outputs": [
    {
     "output_type": "execute_result",
     "data": {
      "text/plain": [
       "0.8947368421052632"
      ]
     },
     "metadata": {},
     "execution_count": 67
    }
   ],
   "source": [
    "model = DecisionTreeClassifier(max_depth=2)\n",
    "\n",
    "model.fit(x_train, y_train)\n",
    "\n",
    "y_prediction = model.predict(x_test)\n",
    "\n",
    "from sklearn import metrics\n",
    "metrics.accuracy_score(y_prediction, y_test)"
   ]
  },
  {
   "cell_type": "code",
   "execution_count": 66,
   "metadata": {},
   "outputs": [
    {
     "output_type": "stream",
     "name": "stdout",
     "text": [
      "training DecisionTreeClassifier()\n[2 2 2]\ntraining DecisionTreeClassifier(max_depth=3)\n[2 2 2]\ntraining SVC()\n[0 0 0]\ntraining SVC(kernel='linear')\n[1 2 2]\ntraining GaussianNB()\n[2 2 2]\n"
     ]
    }
   ],
   "source": [
    "classifiers = [\n",
    "    DecisionTreeClassifier(),\n",
    "    DecisionTreeClassifier(max_depth=3),\n",
    "    SVC(),\n",
    "    SVC(kernel=\"linear\"),\n",
    "    GaussianNB()\n",
    "]\n",
    "\n",
    "for classifier in classifiers:\n",
    "    print(\"training\", classifier)\n",
    "    classifier.fit(x, y)\n",
    "    print(classifier.predict(test_data))\n"
   ]
  },
  {
   "cell_type": "code",
   "execution_count": null,
   "metadata": {},
   "outputs": [],
   "source": []
  }
 ]
}