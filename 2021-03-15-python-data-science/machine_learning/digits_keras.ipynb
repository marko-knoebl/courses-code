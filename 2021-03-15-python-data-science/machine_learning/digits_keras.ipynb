{
 "metadata": {
  "language_info": {
   "codemirror_mode": {
    "name": "ipython",
    "version": 3
   },
   "file_extension": ".py",
   "mimetype": "text/x-python",
   "name": "python",
   "nbconvert_exporter": "python",
   "pygments_lexer": "ipython3",
   "version": "3.9.1-final"
  },
  "orig_nbformat": 2,
  "kernelspec": {
   "name": "python3",
   "display_name": "Python 3.9.1 64-bit",
   "metadata": {
    "interpreter": {
     "hash": "ae90dfe03a2ff2a8ba59a379b95d74bdb27cf9a7ce93f86ebd19f2fc7c49c750"
    }
   }
  }
 },
 "nbformat": 4,
 "nbformat_minor": 2,
 "cells": [
  {
   "cell_type": "code",
   "execution_count": 1,
   "metadata": {},
   "outputs": [],
   "source": [
    "from tensorflow import keras\n",
    "\n",
    "(\n",
    "    (x_train, y_train),\n",
    "    (x_test, y_test),\n",
    ") = keras.datasets.mnist.load_data()"
   ]
  },
  {
   "cell_type": "code",
   "execution_count": 2,
   "metadata": {},
   "outputs": [],
   "source": [
    "model = keras.Sequential([\n",
    "    keras.layers.Flatten(input_shape=[28, 28]),\n",
    "    keras.layers.Dense(128, activation=\"relu\"),\n",
    "    keras.layers.Dense(10, activation=\"softmax\"),\n",
    "])"
   ]
  },
  {
   "cell_type": "code",
   "execution_count": 4,
   "metadata": {},
   "outputs": [
    {
     "output_type": "stream",
     "name": "stdout",
     "text": [
      "Epoch 1/15\n",
      "1688/1688 [==============================] - 12s 7ms/step - loss: 8.7554 - accuracy: 0.8072 - val_loss: 0.4179 - val_accuracy: 0.9032\n",
      "Epoch 2/15\n",
      "1688/1688 [==============================] - 13s 7ms/step - loss: 0.4212 - accuracy: 0.8989 - val_loss: 0.2855 - val_accuracy: 0.9337\n",
      "Epoch 3/15\n",
      "1688/1688 [==============================] - 13s 8ms/step - loss: 0.3029 - accuracy: 0.9233 - val_loss: 0.2786 - val_accuracy: 0.9333\n",
      "Epoch 4/15\n",
      "1688/1688 [==============================] - 12s 7ms/step - loss: 0.2516 - accuracy: 0.9333 - val_loss: 0.2271 - val_accuracy: 0.9455\n",
      "Epoch 5/15\n",
      "1688/1688 [==============================] - 13s 8ms/step - loss: 0.2441 - accuracy: 0.9364 - val_loss: 0.2316 - val_accuracy: 0.9470\n",
      "Epoch 6/15\n",
      "1688/1688 [==============================] - 12s 7ms/step - loss: 0.2198 - accuracy: 0.9409 - val_loss: 0.2120 - val_accuracy: 0.9510\n",
      "Epoch 7/15\n",
      "1688/1688 [==============================] - 10s 6ms/step - loss: 0.2009 - accuracy: 0.9469 - val_loss: 0.2278 - val_accuracy: 0.9478\n",
      "Epoch 8/15\n",
      "1688/1688 [==============================] - 11s 6ms/step - loss: 0.1845 - accuracy: 0.9526 - val_loss: 0.2274 - val_accuracy: 0.9518\n",
      "Epoch 9/15\n",
      "1688/1688 [==============================] - 10s 6ms/step - loss: 0.1789 - accuracy: 0.9529 - val_loss: 0.2402 - val_accuracy: 0.9447\n",
      "Epoch 10/15\n",
      "1688/1688 [==============================] - 11s 6ms/step - loss: 0.1777 - accuracy: 0.9550 - val_loss: 0.2333 - val_accuracy: 0.9482\n",
      "Epoch 11/15\n",
      "1688/1688 [==============================] - 12s 7ms/step - loss: 0.1707 - accuracy: 0.9563 - val_loss: 0.2406 - val_accuracy: 0.9502\n",
      "Epoch 12/15\n",
      "1688/1688 [==============================] - 11s 6ms/step - loss: 0.1592 - accuracy: 0.9591 - val_loss: 0.2252 - val_accuracy: 0.9535\n",
      "Epoch 13/15\n",
      "1688/1688 [==============================] - 10s 6ms/step - loss: 0.1563 - accuracy: 0.9583 - val_loss: 0.2295 - val_accuracy: 0.9512\n",
      "Epoch 14/15\n",
      "1688/1688 [==============================] - 11s 6ms/step - loss: 0.1538 - accuracy: 0.9612 - val_loss: 0.2422 - val_accuracy: 0.9507\n",
      "Epoch 15/15\n",
      "1688/1688 [==============================] - 10s 6ms/step - loss: 0.1578 - accuracy: 0.9597 - val_loss: 0.2343 - val_accuracy: 0.9565\n"
     ]
    },
    {
     "output_type": "execute_result",
     "data": {
      "text/plain": [
       "<tensorflow.python.keras.callbacks.History at 0x2214903fdc0>"
      ]
     },
     "metadata": {},
     "execution_count": 4
    }
   ],
   "source": [
    "model.compile(\n",
    "    optimizer=\"adam\",\n",
    "    loss=\"sparse_categorical_crossentropy\",\n",
    "    metrics=[\"accuracy\"],\n",
    ")\n",
    "model.fit(x_train, y_train, epochs=15, validation_split=0.1)"
   ]
  },
  {
   "cell_type": "code",
   "execution_count": null,
   "metadata": {},
   "outputs": [],
   "source": []
  }
 ]
}