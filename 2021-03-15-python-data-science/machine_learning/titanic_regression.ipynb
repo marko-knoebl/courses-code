{
 "metadata": {
  "language_info": {
   "codemirror_mode": {
    "name": "ipython",
    "version": 3
   },
   "file_extension": ".py",
   "mimetype": "text/x-python",
   "name": "python",
   "nbconvert_exporter": "python",
   "pygments_lexer": "ipython3",
   "version": "3.9.1-final"
  },
  "orig_nbformat": 2,
  "kernelspec": {
   "name": "python3",
   "display_name": "Python 3.9.1 64-bit",
   "metadata": {
    "interpreter": {
     "hash": "ae90dfe03a2ff2a8ba59a379b95d74bdb27cf9a7ce93f86ebd19f2fc7c49c750"
    }
   }
  }
 },
 "nbformat": 4,
 "nbformat_minor": 2,
 "cells": [
  {
   "cell_type": "code",
   "execution_count": 1,
   "metadata": {},
   "outputs": [],
   "source": [
    "import pandas as pd\n",
    "\n",
    "titanic = pd.read_csv(\n",
    "    \"https://public.opendatasoft.com/explore/dataset/titanic-passengers/download\",\n",
    "    sep=\";\",\n",
    ")"
   ]
  },
  {
   "cell_type": "code",
   "execution_count": 30,
   "metadata": {},
   "outputs": [
    {
     "output_type": "execute_result",
     "data": {
      "text/plain": [
       "     survived  pclass   age  sibsp      fare  female\n",
       "0        True       1  28.0      0   26.5500   False\n",
       "1       False       3  36.0      0    7.4958   False\n",
       "2        True       2   3.0      1   41.5792    True\n",
       "3        True       2  40.0      0   13.0000    True\n",
       "4       False       3  32.0      0    7.7500   False\n",
       "..        ...     ...   ...    ...       ...     ...\n",
       "886      True       1  21.0      2  262.3750    True\n",
       "887      True       1  51.0      1   77.9583    True\n",
       "888     False       3  28.0      0    9.5000   False\n",
       "889      True       3   5.0      2   19.2583    True\n",
       "890     False       1  64.0      0   26.0000   False\n",
       "\n",
       "[891 rows x 6 columns]"
      ],
      "text/html": "<div>\n<style scoped>\n    .dataframe tbody tr th:only-of-type {\n        vertical-align: middle;\n    }\n\n    .dataframe tbody tr th {\n        vertical-align: top;\n    }\n\n    .dataframe thead th {\n        text-align: right;\n    }\n</style>\n<table border=\"1\" class=\"dataframe\">\n  <thead>\n    <tr style=\"text-align: right;\">\n      <th></th>\n      <th>survived</th>\n      <th>pclass</th>\n      <th>age</th>\n      <th>sibsp</th>\n      <th>fare</th>\n      <th>female</th>\n    </tr>\n  </thead>\n  <tbody>\n    <tr>\n      <th>0</th>\n      <td>True</td>\n      <td>1</td>\n      <td>28.0</td>\n      <td>0</td>\n      <td>26.5500</td>\n      <td>False</td>\n    </tr>\n    <tr>\n      <th>1</th>\n      <td>False</td>\n      <td>3</td>\n      <td>36.0</td>\n      <td>0</td>\n      <td>7.4958</td>\n      <td>False</td>\n    </tr>\n    <tr>\n      <th>2</th>\n      <td>True</td>\n      <td>2</td>\n      <td>3.0</td>\n      <td>1</td>\n      <td>41.5792</td>\n      <td>True</td>\n    </tr>\n    <tr>\n      <th>3</th>\n      <td>True</td>\n      <td>2</td>\n      <td>40.0</td>\n      <td>0</td>\n      <td>13.0000</td>\n      <td>True</td>\n    </tr>\n    <tr>\n      <th>4</th>\n      <td>False</td>\n      <td>3</td>\n      <td>32.0</td>\n      <td>0</td>\n      <td>7.7500</td>\n      <td>False</td>\n    </tr>\n    <tr>\n      <th>...</th>\n      <td>...</td>\n      <td>...</td>\n      <td>...</td>\n      <td>...</td>\n      <td>...</td>\n      <td>...</td>\n    </tr>\n    <tr>\n      <th>886</th>\n      <td>True</td>\n      <td>1</td>\n      <td>21.0</td>\n      <td>2</td>\n      <td>262.3750</td>\n      <td>True</td>\n    </tr>\n    <tr>\n      <th>887</th>\n      <td>True</td>\n      <td>1</td>\n      <td>51.0</td>\n      <td>1</td>\n      <td>77.9583</td>\n      <td>True</td>\n    </tr>\n    <tr>\n      <th>888</th>\n      <td>False</td>\n      <td>3</td>\n      <td>28.0</td>\n      <td>0</td>\n      <td>9.5000</td>\n      <td>False</td>\n    </tr>\n    <tr>\n      <th>889</th>\n      <td>True</td>\n      <td>3</td>\n      <td>5.0</td>\n      <td>2</td>\n      <td>19.2583</td>\n      <td>True</td>\n    </tr>\n    <tr>\n      <th>890</th>\n      <td>False</td>\n      <td>1</td>\n      <td>64.0</td>\n      <td>0</td>\n      <td>26.0000</td>\n      <td>False</td>\n    </tr>\n  </tbody>\n</table>\n<p>891 rows × 6 columns</p>\n</div>"
     },
     "metadata": {},
     "execution_count": 30
    }
   ],
   "source": [
    "titanic_1 = titanic.drop(columns=[\"name\", \"ticket\", \"cabin\", \"passengerid\", \"embarked\", \"parch\", \"survived_bool\"])\n",
    "titanic_1[\"survived\"] = titanic_1[\"survived\"].replace({\"Yes\": True, \"No\": False})\n",
    "titanic_1[\"female\"] = titanic_1[\"sex\"].replace({\"male\": False, \"female\": True})\n",
    "titanic_1 = titanic_1.drop(columns=[\"sex\"])\n",
    "titanic_1"
   ]
  },
  {
   "cell_type": "code",
   "execution_count": 10,
   "metadata": {},
   "outputs": [],
   "source": [
    "from sklearn.linear_model import LinearRegression"
   ]
  },
  {
   "cell_type": "code",
   "execution_count": 11,
   "metadata": {},
   "outputs": [],
   "source": [
    "from sklearn.model_selection import train_test_split\n",
    "from sklearn import metrics"
   ]
  },
  {
   "cell_type": "code",
   "execution_count": 31,
   "metadata": {},
   "outputs": [],
   "source": [
    "titanic_1 = titanic_1.dropna()"
   ]
  },
  {
   "cell_type": "code",
   "execution_count": 32,
   "metadata": {},
   "outputs": [
    {
     "output_type": "execute_result",
     "data": {
      "text/plain": [
       "array([[1, 28.0, 0, 26.55, False],\n",
       "       [3, 36.0, 0, 7.4958, False],\n",
       "       [2, 3.0, 1, 41.5792, True],\n",
       "       ...,\n",
       "       [3, 28.0, 0, 9.5, False],\n",
       "       [3, 5.0, 2, 19.2583, True],\n",
       "       [1, 64.0, 0, 26.0, False]], dtype=object)"
      ]
     },
     "metadata": {},
     "execution_count": 32
    }
   ],
   "source": [
    "y = titanic_1[\"survived\"].to_numpy()\n",
    "x = titanic_1.loc[:, \"pclass\":\"female\"].to_numpy()\n",
    "x"
   ]
  },
  {
   "cell_type": "code",
   "execution_count": 33,
   "metadata": {},
   "outputs": [
    {
     "output_type": "execute_result",
     "data": {
      "text/plain": [
       "LinearRegression()"
      ]
     },
     "metadata": {},
     "execution_count": 33
    }
   ],
   "source": [
    "model = LinearRegression()\n",
    "\n",
    "model.fit(x, y)"
   ]
  },
  {
   "cell_type": "code",
   "execution_count": 34,
   "metadata": {},
   "outputs": [
    {
     "output_type": "execute_result",
     "data": {
      "text/plain": [
       "array([0.50890563, 0.06078746, 0.90727721, 0.71613172, 0.08683347,\n",
       "       0.21746109, 0.40154597, 0.02206357, 0.13229273, 0.03054742])"
      ]
     },
     "metadata": {},
     "execution_count": 34
    }
   ],
   "source": [
    "model.predict(x)[:10]"
   ]
  },
  {
   "cell_type": "code",
   "execution_count": 35,
   "metadata": {},
   "outputs": [
    {
     "output_type": "execute_result",
     "data": {
      "text/plain": [
       "array([ True, False,  True,  True, False, False, False, False, False,\n",
       "       False])"
      ]
     },
     "metadata": {},
     "execution_count": 35
    }
   ],
   "source": [
    "y[:10]"
   ]
  },
  {
   "cell_type": "code",
   "execution_count": null,
   "metadata": {},
   "outputs": [],
   "source": []
  }
 ]
}