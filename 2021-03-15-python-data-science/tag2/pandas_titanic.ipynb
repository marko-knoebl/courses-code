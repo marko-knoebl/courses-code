{
 "metadata": {
  "language_info": {
   "codemirror_mode": {
    "name": "ipython",
    "version": 3
   },
   "file_extension": ".py",
   "mimetype": "text/x-python",
   "name": "python",
   "nbconvert_exporter": "python",
   "pygments_lexer": "ipython3",
   "version": "3.9.1-final"
  },
  "orig_nbformat": 2,
  "kernelspec": {
   "name": "python3",
   "display_name": "Python 3.9.1 64-bit",
   "metadata": {
    "interpreter": {
     "hash": "ae90dfe03a2ff2a8ba59a379b95d74bdb27cf9a7ce93f86ebd19f2fc7c49c750"
    }
   }
  }
 },
 "nbformat": 4,
 "nbformat_minor": 2,
 "cells": [
  {
   "cell_type": "code",
   "execution_count": 1,
   "metadata": {},
   "outputs": [],
   "source": [
    "import pandas as pd\n",
    "\n",
    "titanic = pd.read_csv(\n",
    "    \"https://public.opendatasoft.com/explore/dataset/titanic-passengers/download\",\n",
    "    sep=\";\",\n",
    ")"
   ]
  },
  {
   "cell_type": "code",
   "execution_count": 3,
   "metadata": {},
   "outputs": [],
   "source": [
    "titanic_1 = titanic.drop(columns=[\"name\", \"ticket\", \"cabin\"])"
   ]
  },
  {
   "cell_type": "code",
   "execution_count": 7,
   "metadata": {},
   "outputs": [],
   "source": [
    "titanic_1[\"survived\"] = titanic_1[\"survived\"].replace({\"Yes\": True, \"No\": False})"
   ]
  },
  {
   "cell_type": "code",
   "execution_count": 9,
   "metadata": {},
   "outputs": [],
   "source": [
    "titanic[\"survived_bool\"] = titanic_1[\"survived\"].replace({\"Yes\": True, \"No\": False})"
   ]
  },
  {
   "cell_type": "code",
   "execution_count": 10,
   "metadata": {},
   "outputs": [
    {
     "output_type": "execute_result",
     "data": {
      "text/plain": [
       "     passengerid survived  pclass                                       name  \\\n",
       "0            431      Yes       1  Bjornstrom-Steffansson, Mr. Mauritz Hakan   \n",
       "1            664       No       3                           Coleff, Mr. Peju   \n",
       "2             44      Yes       2   Laroche, Miss. Simonne Marie Anne Andree   \n",
       "3            347      Yes       2                  Smith, Miss. Marion Elsie   \n",
       "4            891       No       3                        Dooley, Mr. Patrick   \n",
       "..           ...      ...     ...                                        ...   \n",
       "886          743      Yes       1      Ryerson, Miss. Susan Parker \"Suzette\"   \n",
       "887          766      Yes       1       Hogeboom, Mrs. John C (Anna Andrews)   \n",
       "888          356       No       3                Vanden Steen, Mr. Leo Peter   \n",
       "889          449      Yes       3             Baclini, Miss. Marie Catherine   \n",
       "890          546       No       1               Nicholson, Mr. Arthur Ernest   \n",
       "\n",
       "        sex   age  sibsp  parch         ticket      fare            cabin  \\\n",
       "0      male  28.0      0      0         110564   26.5500              C52   \n",
       "1      male  36.0      0      0         349210    7.4958              NaN   \n",
       "2    female   3.0      1      2  SC/Paris 2123   41.5792              NaN   \n",
       "3    female  40.0      0      0          31418   13.0000              NaN   \n",
       "4      male  32.0      0      0         370376    7.7500              NaN   \n",
       "..      ...   ...    ...    ...            ...       ...              ...   \n",
       "886  female  21.0      2      2       PC 17608  262.3750  B57 B59 B63 B66   \n",
       "887  female  51.0      1      0          13502   77.9583              D11   \n",
       "888    male  28.0      0      0         345783    9.5000              NaN   \n",
       "889  female   5.0      2      1           2666   19.2583              NaN   \n",
       "890    male  64.0      0      0            693   26.0000              NaN   \n",
       "\n",
       "    embarked  survived_bool  \n",
       "0          S           True  \n",
       "1          S          False  \n",
       "2          C           True  \n",
       "3          S           True  \n",
       "4          Q          False  \n",
       "..       ...            ...  \n",
       "886        C           True  \n",
       "887        S           True  \n",
       "888        S          False  \n",
       "889        C           True  \n",
       "890        S          False  \n",
       "\n",
       "[891 rows x 13 columns]"
      ],
      "text/html": "<div>\n<style scoped>\n    .dataframe tbody tr th:only-of-type {\n        vertical-align: middle;\n    }\n\n    .dataframe tbody tr th {\n        vertical-align: top;\n    }\n\n    .dataframe thead th {\n        text-align: right;\n    }\n</style>\n<table border=\"1\" class=\"dataframe\">\n  <thead>\n    <tr style=\"text-align: right;\">\n      <th></th>\n      <th>passengerid</th>\n      <th>survived</th>\n      <th>pclass</th>\n      <th>name</th>\n      <th>sex</th>\n      <th>age</th>\n      <th>sibsp</th>\n      <th>parch</th>\n      <th>ticket</th>\n      <th>fare</th>\n      <th>cabin</th>\n      <th>embarked</th>\n      <th>survived_bool</th>\n    </tr>\n  </thead>\n  <tbody>\n    <tr>\n      <th>0</th>\n      <td>431</td>\n      <td>Yes</td>\n      <td>1</td>\n      <td>Bjornstrom-Steffansson, Mr. Mauritz Hakan</td>\n      <td>male</td>\n      <td>28.0</td>\n      <td>0</td>\n      <td>0</td>\n      <td>110564</td>\n      <td>26.5500</td>\n      <td>C52</td>\n      <td>S</td>\n      <td>True</td>\n    </tr>\n    <tr>\n      <th>1</th>\n      <td>664</td>\n      <td>No</td>\n      <td>3</td>\n      <td>Coleff, Mr. Peju</td>\n      <td>male</td>\n      <td>36.0</td>\n      <td>0</td>\n      <td>0</td>\n      <td>349210</td>\n      <td>7.4958</td>\n      <td>NaN</td>\n      <td>S</td>\n      <td>False</td>\n    </tr>\n    <tr>\n      <th>2</th>\n      <td>44</td>\n      <td>Yes</td>\n      <td>2</td>\n      <td>Laroche, Miss. Simonne Marie Anne Andree</td>\n      <td>female</td>\n      <td>3.0</td>\n      <td>1</td>\n      <td>2</td>\n      <td>SC/Paris 2123</td>\n      <td>41.5792</td>\n      <td>NaN</td>\n      <td>C</td>\n      <td>True</td>\n    </tr>\n    <tr>\n      <th>3</th>\n      <td>347</td>\n      <td>Yes</td>\n      <td>2</td>\n      <td>Smith, Miss. Marion Elsie</td>\n      <td>female</td>\n      <td>40.0</td>\n      <td>0</td>\n      <td>0</td>\n      <td>31418</td>\n      <td>13.0000</td>\n      <td>NaN</td>\n      <td>S</td>\n      <td>True</td>\n    </tr>\n    <tr>\n      <th>4</th>\n      <td>891</td>\n      <td>No</td>\n      <td>3</td>\n      <td>Dooley, Mr. Patrick</td>\n      <td>male</td>\n      <td>32.0</td>\n      <td>0</td>\n      <td>0</td>\n      <td>370376</td>\n      <td>7.7500</td>\n      <td>NaN</td>\n      <td>Q</td>\n      <td>False</td>\n    </tr>\n    <tr>\n      <th>...</th>\n      <td>...</td>\n      <td>...</td>\n      <td>...</td>\n      <td>...</td>\n      <td>...</td>\n      <td>...</td>\n      <td>...</td>\n      <td>...</td>\n      <td>...</td>\n      <td>...</td>\n      <td>...</td>\n      <td>...</td>\n      <td>...</td>\n    </tr>\n    <tr>\n      <th>886</th>\n      <td>743</td>\n      <td>Yes</td>\n      <td>1</td>\n      <td>Ryerson, Miss. Susan Parker \"Suzette\"</td>\n      <td>female</td>\n      <td>21.0</td>\n      <td>2</td>\n      <td>2</td>\n      <td>PC 17608</td>\n      <td>262.3750</td>\n      <td>B57 B59 B63 B66</td>\n      <td>C</td>\n      <td>True</td>\n    </tr>\n    <tr>\n      <th>887</th>\n      <td>766</td>\n      <td>Yes</td>\n      <td>1</td>\n      <td>Hogeboom, Mrs. John C (Anna Andrews)</td>\n      <td>female</td>\n      <td>51.0</td>\n      <td>1</td>\n      <td>0</td>\n      <td>13502</td>\n      <td>77.9583</td>\n      <td>D11</td>\n      <td>S</td>\n      <td>True</td>\n    </tr>\n    <tr>\n      <th>888</th>\n      <td>356</td>\n      <td>No</td>\n      <td>3</td>\n      <td>Vanden Steen, Mr. Leo Peter</td>\n      <td>male</td>\n      <td>28.0</td>\n      <td>0</td>\n      <td>0</td>\n      <td>345783</td>\n      <td>9.5000</td>\n      <td>NaN</td>\n      <td>S</td>\n      <td>False</td>\n    </tr>\n    <tr>\n      <th>889</th>\n      <td>449</td>\n      <td>Yes</td>\n      <td>3</td>\n      <td>Baclini, Miss. Marie Catherine</td>\n      <td>female</td>\n      <td>5.0</td>\n      <td>2</td>\n      <td>1</td>\n      <td>2666</td>\n      <td>19.2583</td>\n      <td>NaN</td>\n      <td>C</td>\n      <td>True</td>\n    </tr>\n    <tr>\n      <th>890</th>\n      <td>546</td>\n      <td>No</td>\n      <td>1</td>\n      <td>Nicholson, Mr. Arthur Ernest</td>\n      <td>male</td>\n      <td>64.0</td>\n      <td>0</td>\n      <td>0</td>\n      <td>693</td>\n      <td>26.0000</td>\n      <td>NaN</td>\n      <td>S</td>\n      <td>False</td>\n    </tr>\n  </tbody>\n</table>\n<p>891 rows × 13 columns</p>\n</div>"
     },
     "metadata": {},
     "execution_count": 10
    }
   ],
   "source": [
    "titanic"
   ]
  },
  {
   "cell_type": "code",
   "execution_count": null,
   "metadata": {},
   "outputs": [],
   "source": []
  }
 ]
}