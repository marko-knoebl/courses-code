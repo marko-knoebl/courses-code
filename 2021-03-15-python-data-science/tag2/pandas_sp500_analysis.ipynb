{
 "metadata": {
  "language_info": {
   "codemirror_mode": {
    "name": "ipython",
    "version": 3
   },
   "file_extension": ".py",
   "mimetype": "text/x-python",
   "name": "python",
   "nbconvert_exporter": "python",
   "pygments_lexer": "ipython3",
   "version": "3.9.1-final"
  },
  "orig_nbformat": 2,
  "kernelspec": {
   "name": "python3",
   "display_name": "Python 3.9.1 64-bit",
   "metadata": {
    "interpreter": {
     "hash": "ae90dfe03a2ff2a8ba59a379b95d74bdb27cf9a7ce93f86ebd19f2fc7c49c750"
    }
   }
  }
 },
 "nbformat": 4,
 "nbformat_minor": 2,
 "cells": [
  {
   "cell_type": "code",
   "execution_count": 1,
   "metadata": {},
   "outputs": [],
   "source": [
    "import pandas as pd\n",
    "\n",
    "sp500 = pd.read_csv(\n",
    "    \"https://datahub.io/core/s-and-p-500/r/data.csv\",\n",
    "    index_col=\"Date\",\n",
    "    parse_dates=[\"Date\"],\n",
    ")"
   ]
  },
  {
   "cell_type": "code",
   "execution_count": 2,
   "metadata": {},
   "outputs": [
    {
     "output_type": "execute_result",
     "data": {
      "text/plain": [
       "              SP500  Dividend  Earnings  Consumer Price Index  \\\n",
       "Date                                                            \n",
       "1871-01-01     4.44      0.26      0.40                 12.46   \n",
       "1871-02-01     4.50      0.26      0.40                 12.84   \n",
       "1871-03-01     4.61      0.26      0.40                 13.03   \n",
       "1871-04-01     4.74      0.26      0.40                 12.56   \n",
       "1871-05-01     4.86      0.26      0.40                 12.27   \n",
       "...             ...       ...       ...                   ...   \n",
       "2017-12-01  2664.34     48.93    109.88                246.52   \n",
       "2018-01-01  2789.80     49.29       NaN                247.87   \n",
       "2018-02-01  2705.16     49.64       NaN                248.99   \n",
       "2018-03-01  2702.77     50.00       NaN                249.55   \n",
       "2018-04-01  2642.19       NaN       NaN                249.84   \n",
       "\n",
       "            Long Interest Rate  Real Price  Real Dividend  Real Earnings  \\\n",
       "Date                                                                       \n",
       "1871-01-01                5.32       89.00           5.21           8.02   \n",
       "1871-02-01                5.32       87.53           5.06           7.78   \n",
       "1871-03-01                5.33       88.36           4.98           7.67   \n",
       "1871-04-01                5.33       94.29           5.17           7.96   \n",
       "1871-05-01                5.33       98.93           5.29           8.14   \n",
       "...                        ...         ...            ...            ...   \n",
       "2017-12-01                2.40     2700.13          49.59         111.36   \n",
       "2018-01-01                2.58     2811.96          49.68            NaN   \n",
       "2018-02-01                2.86     2714.34          49.81            NaN   \n",
       "2018-03-01                2.84     2705.82          50.06            NaN   \n",
       "2018-04-01                2.80     2642.19            NaN            NaN   \n",
       "\n",
       "             PE10  \n",
       "Date               \n",
       "1871-01-01    NaN  \n",
       "1871-02-01    NaN  \n",
       "1871-03-01    NaN  \n",
       "1871-04-01    NaN  \n",
       "1871-05-01    NaN  \n",
       "...           ...  \n",
       "2017-12-01  32.09  \n",
       "2018-01-01  33.31  \n",
       "2018-02-01  32.12  \n",
       "2018-03-01  31.99  \n",
       "2018-04-01  31.19  \n",
       "\n",
       "[1768 rows x 9 columns]"
      ],
      "text/html": "<div>\n<style scoped>\n    .dataframe tbody tr th:only-of-type {\n        vertical-align: middle;\n    }\n\n    .dataframe tbody tr th {\n        vertical-align: top;\n    }\n\n    .dataframe thead th {\n        text-align: right;\n    }\n</style>\n<table border=\"1\" class=\"dataframe\">\n  <thead>\n    <tr style=\"text-align: right;\">\n      <th></th>\n      <th>SP500</th>\n      <th>Dividend</th>\n      <th>Earnings</th>\n      <th>Consumer Price Index</th>\n      <th>Long Interest Rate</th>\n      <th>Real Price</th>\n      <th>Real Dividend</th>\n      <th>Real Earnings</th>\n      <th>PE10</th>\n    </tr>\n    <tr>\n      <th>Date</th>\n      <th></th>\n      <th></th>\n      <th></th>\n      <th></th>\n      <th></th>\n      <th></th>\n      <th></th>\n      <th></th>\n      <th></th>\n    </tr>\n  </thead>\n  <tbody>\n    <tr>\n      <th>1871-01-01</th>\n      <td>4.44</td>\n      <td>0.26</td>\n      <td>0.40</td>\n      <td>12.46</td>\n      <td>5.32</td>\n      <td>89.00</td>\n      <td>5.21</td>\n      <td>8.02</td>\n      <td>NaN</td>\n    </tr>\n    <tr>\n      <th>1871-02-01</th>\n      <td>4.50</td>\n      <td>0.26</td>\n      <td>0.40</td>\n      <td>12.84</td>\n      <td>5.32</td>\n      <td>87.53</td>\n      <td>5.06</td>\n      <td>7.78</td>\n      <td>NaN</td>\n    </tr>\n    <tr>\n      <th>1871-03-01</th>\n      <td>4.61</td>\n      <td>0.26</td>\n      <td>0.40</td>\n      <td>13.03</td>\n      <td>5.33</td>\n      <td>88.36</td>\n      <td>4.98</td>\n      <td>7.67</td>\n      <td>NaN</td>\n    </tr>\n    <tr>\n      <th>1871-04-01</th>\n      <td>4.74</td>\n      <td>0.26</td>\n      <td>0.40</td>\n      <td>12.56</td>\n      <td>5.33</td>\n      <td>94.29</td>\n      <td>5.17</td>\n      <td>7.96</td>\n      <td>NaN</td>\n    </tr>\n    <tr>\n      <th>1871-05-01</th>\n      <td>4.86</td>\n      <td>0.26</td>\n      <td>0.40</td>\n      <td>12.27</td>\n      <td>5.33</td>\n      <td>98.93</td>\n      <td>5.29</td>\n      <td>8.14</td>\n      <td>NaN</td>\n    </tr>\n    <tr>\n      <th>...</th>\n      <td>...</td>\n      <td>...</td>\n      <td>...</td>\n      <td>...</td>\n      <td>...</td>\n      <td>...</td>\n      <td>...</td>\n      <td>...</td>\n      <td>...</td>\n    </tr>\n    <tr>\n      <th>2017-12-01</th>\n      <td>2664.34</td>\n      <td>48.93</td>\n      <td>109.88</td>\n      <td>246.52</td>\n      <td>2.40</td>\n      <td>2700.13</td>\n      <td>49.59</td>\n      <td>111.36</td>\n      <td>32.09</td>\n    </tr>\n    <tr>\n      <th>2018-01-01</th>\n      <td>2789.80</td>\n      <td>49.29</td>\n      <td>NaN</td>\n      <td>247.87</td>\n      <td>2.58</td>\n      <td>2811.96</td>\n      <td>49.68</td>\n      <td>NaN</td>\n      <td>33.31</td>\n    </tr>\n    <tr>\n      <th>2018-02-01</th>\n      <td>2705.16</td>\n      <td>49.64</td>\n      <td>NaN</td>\n      <td>248.99</td>\n      <td>2.86</td>\n      <td>2714.34</td>\n      <td>49.81</td>\n      <td>NaN</td>\n      <td>32.12</td>\n    </tr>\n    <tr>\n      <th>2018-03-01</th>\n      <td>2702.77</td>\n      <td>50.00</td>\n      <td>NaN</td>\n      <td>249.55</td>\n      <td>2.84</td>\n      <td>2705.82</td>\n      <td>50.06</td>\n      <td>NaN</td>\n      <td>31.99</td>\n    </tr>\n    <tr>\n      <th>2018-04-01</th>\n      <td>2642.19</td>\n      <td>NaN</td>\n      <td>NaN</td>\n      <td>249.84</td>\n      <td>2.80</td>\n      <td>2642.19</td>\n      <td>NaN</td>\n      <td>NaN</td>\n      <td>31.19</td>\n    </tr>\n  </tbody>\n</table>\n<p>1768 rows × 9 columns</p>\n</div>"
     },
     "metadata": {},
     "execution_count": 2
    }
   ],
   "source": [
    "sp500"
   ]
  },
  {
   "cell_type": "code",
   "execution_count": 4,
   "metadata": {},
   "outputs": [
    {
     "output_type": "execute_result",
     "data": {
      "text/plain": [
       "Date\n",
       "1871-01-01       4.44\n",
       "1871-02-01       4.50\n",
       "1871-03-01       4.61\n",
       "1871-04-01       4.74\n",
       "1871-05-01       4.86\n",
       "               ...   \n",
       "2017-12-01    2664.34\n",
       "2018-01-01    2789.80\n",
       "2018-02-01    2705.16\n",
       "2018-03-01    2702.77\n",
       "2018-04-01    2642.19\n",
       "Name: SP500, Length: 1768, dtype: float64"
      ]
     },
     "metadata": {},
     "execution_count": 4
    }
   ],
   "source": [
    "values = sp500[\"SP500\"]\n",
    "values"
   ]
  },
  {
   "cell_type": "code",
   "execution_count": 14,
   "metadata": {},
   "outputs": [
    {
     "output_type": "execute_result",
     "data": {
      "text/plain": [
       "array([   4.44,    4.5 ,    4.61, ..., 2705.16, 2702.77, 2642.19])"
      ]
     },
     "metadata": {},
     "execution_count": 14
    }
   ],
   "source": [
    "values_numpy = values.to_numpy()\n",
    "values_numpy"
   ]
  },
  {
   "cell_type": "code",
   "execution_count": 20,
   "metadata": {},
   "outputs": [
    {
     "output_type": "execute_result",
     "data": {
      "text/plain": [
       "array([       nan,  6.000e-02,  1.100e-01, ..., -8.464e+01, -2.390e+00,\n",
       "       -6.058e+01])"
      ]
     },
     "metadata": {},
     "execution_count": 20
    }
   ],
   "source": [
    "import numpy as np\n",
    "diffs = values_numpy[1:] - values_numpy[:-1]\n",
    "diffs\n",
    "diffs = np.concatenate([[np.nan], diffs])\n",
    "diffs"
   ]
  },
  {
   "cell_type": "code",
   "execution_count": 22,
   "metadata": {},
   "outputs": [],
   "source": [
    "sp500[\"Diff\"] = diffs"
   ]
  },
  {
   "cell_type": "code",
   "execution_count": 25,
   "metadata": {},
   "outputs": [
    {
     "output_type": "execute_result",
     "data": {
      "text/plain": [
       "              SP500  Dividend  Earnings  Consumer Price Index  \\\n",
       "Date                                                            \n",
       "1871-01-01     4.44      0.26      0.40                 12.46   \n",
       "1871-02-01     4.50      0.26      0.40                 12.84   \n",
       "1871-03-01     4.61      0.26      0.40                 13.03   \n",
       "1871-04-01     4.74      0.26      0.40                 12.56   \n",
       "1871-05-01     4.86      0.26      0.40                 12.27   \n",
       "...             ...       ...       ...                   ...   \n",
       "2017-12-01  2664.34     48.93    109.88                246.52   \n",
       "2018-01-01  2789.80     49.29       NaN                247.87   \n",
       "2018-02-01  2705.16     49.64       NaN                248.99   \n",
       "2018-03-01  2702.77     50.00       NaN                249.55   \n",
       "2018-04-01  2642.19       NaN       NaN                249.84   \n",
       "\n",
       "            Long Interest Rate  Real Price  Real Dividend  Real Earnings  \\\n",
       "Date                                                                       \n",
       "1871-01-01                5.32       89.00           5.21           8.02   \n",
       "1871-02-01                5.32       87.53           5.06           7.78   \n",
       "1871-03-01                5.33       88.36           4.98           7.67   \n",
       "1871-04-01                5.33       94.29           5.17           7.96   \n",
       "1871-05-01                5.33       98.93           5.29           8.14   \n",
       "...                        ...         ...            ...            ...   \n",
       "2017-12-01                2.40     2700.13          49.59         111.36   \n",
       "2018-01-01                2.58     2811.96          49.68            NaN   \n",
       "2018-02-01                2.86     2714.34          49.81            NaN   \n",
       "2018-03-01                2.84     2705.82          50.06            NaN   \n",
       "2018-04-01                2.80     2642.19            NaN            NaN   \n",
       "\n",
       "             PE10    Diff  Diff_Rel  \n",
       "Date                                 \n",
       "1871-01-01    NaN     NaN       NaN  \n",
       "1871-02-01    NaN    0.06  0.013333  \n",
       "1871-03-01    NaN    0.11  0.023861  \n",
       "1871-04-01    NaN    0.13  0.027426  \n",
       "1871-05-01    NaN    0.12  0.024691  \n",
       "...           ...     ...       ...  \n",
       "2017-12-01  32.09   70.73  0.026547  \n",
       "2018-01-01  33.31  125.46  0.044971  \n",
       "2018-02-01  32.12  -84.64 -0.031288  \n",
       "2018-03-01  31.99   -2.39 -0.000884  \n",
       "2018-04-01  31.19  -60.58 -0.022928  \n",
       "\n",
       "[1768 rows x 11 columns]"
      ],
      "text/html": "<div>\n<style scoped>\n    .dataframe tbody tr th:only-of-type {\n        vertical-align: middle;\n    }\n\n    .dataframe tbody tr th {\n        vertical-align: top;\n    }\n\n    .dataframe thead th {\n        text-align: right;\n    }\n</style>\n<table border=\"1\" class=\"dataframe\">\n  <thead>\n    <tr style=\"text-align: right;\">\n      <th></th>\n      <th>SP500</th>\n      <th>Dividend</th>\n      <th>Earnings</th>\n      <th>Consumer Price Index</th>\n      <th>Long Interest Rate</th>\n      <th>Real Price</th>\n      <th>Real Dividend</th>\n      <th>Real Earnings</th>\n      <th>PE10</th>\n      <th>Diff</th>\n      <th>Diff_Rel</th>\n    </tr>\n    <tr>\n      <th>Date</th>\n      <th></th>\n      <th></th>\n      <th></th>\n      <th></th>\n      <th></th>\n      <th></th>\n      <th></th>\n      <th></th>\n      <th></th>\n      <th></th>\n      <th></th>\n    </tr>\n  </thead>\n  <tbody>\n    <tr>\n      <th>1871-01-01</th>\n      <td>4.44</td>\n      <td>0.26</td>\n      <td>0.40</td>\n      <td>12.46</td>\n      <td>5.32</td>\n      <td>89.00</td>\n      <td>5.21</td>\n      <td>8.02</td>\n      <td>NaN</td>\n      <td>NaN</td>\n      <td>NaN</td>\n    </tr>\n    <tr>\n      <th>1871-02-01</th>\n      <td>4.50</td>\n      <td>0.26</td>\n      <td>0.40</td>\n      <td>12.84</td>\n      <td>5.32</td>\n      <td>87.53</td>\n      <td>5.06</td>\n      <td>7.78</td>\n      <td>NaN</td>\n      <td>0.06</td>\n      <td>0.013333</td>\n    </tr>\n    <tr>\n      <th>1871-03-01</th>\n      <td>4.61</td>\n      <td>0.26</td>\n      <td>0.40</td>\n      <td>13.03</td>\n      <td>5.33</td>\n      <td>88.36</td>\n      <td>4.98</td>\n      <td>7.67</td>\n      <td>NaN</td>\n      <td>0.11</td>\n      <td>0.023861</td>\n    </tr>\n    <tr>\n      <th>1871-04-01</th>\n      <td>4.74</td>\n      <td>0.26</td>\n      <td>0.40</td>\n      <td>12.56</td>\n      <td>5.33</td>\n      <td>94.29</td>\n      <td>5.17</td>\n      <td>7.96</td>\n      <td>NaN</td>\n      <td>0.13</td>\n      <td>0.027426</td>\n    </tr>\n    <tr>\n      <th>1871-05-01</th>\n      <td>4.86</td>\n      <td>0.26</td>\n      <td>0.40</td>\n      <td>12.27</td>\n      <td>5.33</td>\n      <td>98.93</td>\n      <td>5.29</td>\n      <td>8.14</td>\n      <td>NaN</td>\n      <td>0.12</td>\n      <td>0.024691</td>\n    </tr>\n    <tr>\n      <th>...</th>\n      <td>...</td>\n      <td>...</td>\n      <td>...</td>\n      <td>...</td>\n      <td>...</td>\n      <td>...</td>\n      <td>...</td>\n      <td>...</td>\n      <td>...</td>\n      <td>...</td>\n      <td>...</td>\n    </tr>\n    <tr>\n      <th>2017-12-01</th>\n      <td>2664.34</td>\n      <td>48.93</td>\n      <td>109.88</td>\n      <td>246.52</td>\n      <td>2.40</td>\n      <td>2700.13</td>\n      <td>49.59</td>\n      <td>111.36</td>\n      <td>32.09</td>\n      <td>70.73</td>\n      <td>0.026547</td>\n    </tr>\n    <tr>\n      <th>2018-01-01</th>\n      <td>2789.80</td>\n      <td>49.29</td>\n      <td>NaN</td>\n      <td>247.87</td>\n      <td>2.58</td>\n      <td>2811.96</td>\n      <td>49.68</td>\n      <td>NaN</td>\n      <td>33.31</td>\n      <td>125.46</td>\n      <td>0.044971</td>\n    </tr>\n    <tr>\n      <th>2018-02-01</th>\n      <td>2705.16</td>\n      <td>49.64</td>\n      <td>NaN</td>\n      <td>248.99</td>\n      <td>2.86</td>\n      <td>2714.34</td>\n      <td>49.81</td>\n      <td>NaN</td>\n      <td>32.12</td>\n      <td>-84.64</td>\n      <td>-0.031288</td>\n    </tr>\n    <tr>\n      <th>2018-03-01</th>\n      <td>2702.77</td>\n      <td>50.00</td>\n      <td>NaN</td>\n      <td>249.55</td>\n      <td>2.84</td>\n      <td>2705.82</td>\n      <td>50.06</td>\n      <td>NaN</td>\n      <td>31.99</td>\n      <td>-2.39</td>\n      <td>-0.000884</td>\n    </tr>\n    <tr>\n      <th>2018-04-01</th>\n      <td>2642.19</td>\n      <td>NaN</td>\n      <td>NaN</td>\n      <td>249.84</td>\n      <td>2.80</td>\n      <td>2642.19</td>\n      <td>NaN</td>\n      <td>NaN</td>\n      <td>31.19</td>\n      <td>-60.58</td>\n      <td>-0.022928</td>\n    </tr>\n  </tbody>\n</table>\n<p>1768 rows × 11 columns</p>\n</div>"
     },
     "metadata": {},
     "execution_count": 25
    }
   ],
   "source": [
    "sp500[\"Diff_Rel\"] = sp500[\"Diff\"] / sp500[\"SP500\"]\n",
    "sp500"
   ]
  },
  {
   "cell_type": "code",
   "execution_count": 32,
   "metadata": {},
   "outputs": [
    {
     "output_type": "execute_result",
     "data": {
      "text/plain": [
       "Timestamp('1929-11-01 00:00:00')"
      ]
     },
     "metadata": {},
     "execution_count": 32
    }
   ],
   "source": [
    "sp500[\"Diff_Rel\"].idxmin()"
   ]
  },
  {
   "cell_type": "code",
   "execution_count": 33,
   "metadata": {},
   "outputs": [
    {
     "output_type": "execute_result",
     "data": {
      "text/plain": [
       "-0.3600583090379009"
      ]
     },
     "metadata": {},
     "execution_count": 33
    }
   ],
   "source": [
    "sp500[\"Diff_Rel\"].min()"
   ]
  },
  {
   "cell_type": "code",
   "execution_count": 37,
   "metadata": {},
   "outputs": [],
   "source": [
    "def classifier(value):\n",
    "    if value < -0.02:\n",
    "        return -1\n",
    "    elif value < 0.02:\n",
    "        return 0\n",
    "    else:\n",
    "        return 1\n",
    "\n",
    "sp500[\"Class\"] = sp500[\"Diff_Rel\"].apply(classifier)\n",
    "#df[\"class\"] = df[\"value\"].apply(classifier)"
   ]
  },
  {
   "cell_type": "code",
   "execution_count": 38,
   "metadata": {},
   "outputs": [
    {
     "output_type": "execute_result",
     "data": {
      "text/plain": [
       "              SP500  Dividend  Earnings  Consumer Price Index  \\\n",
       "Date                                                            \n",
       "1935-06-01    10.12      0.44      0.81                 13.70   \n",
       "1959-11-01    57.23      1.82      3.40                 29.40   \n",
       "1996-04-01   647.17     14.16     34.33                156.30   \n",
       "2005-09-01  1225.92     21.47     66.47                198.80   \n",
       "1874-08-01     4.47      0.33      0.46                 11.80   \n",
       "1977-03-01   100.60      4.19     10.08                 59.50   \n",
       "1992-02-01   412.56     12.28     16.12                138.60   \n",
       "1972-11-01   115.10      3.13      6.33                 42.40   \n",
       "1944-11-01    12.82      0.64      0.92                 17.70   \n",
       "2016-07-01  2148.90     44.65     87.64                240.63   \n",
       "1888-12-01     5.14      0.23      0.26                  8.28   \n",
       "1917-04-01     9.17      0.60      1.45                 12.60   \n",
       "1939-08-01    11.54      0.55      0.79                 13.80   \n",
       "1968-05-01    97.87      2.98      5.53                 34.50   \n",
       "1880-10-01     5.33      0.25      0.47                  9.32   \n",
       "1973-07-01   105.80      3.24      7.38                 44.30   \n",
       "1961-10-01    68.00      1.98      3.10                 30.00   \n",
       "1970-07-01    75.72      3.18      5.47                 39.00   \n",
       "1884-02-01     5.32      0.33      0.39                  9.23   \n",
       "1989-05-01   313.90     10.19     25.13                123.80   \n",
       "1923-09-01     8.15      0.53      0.91                 17.20   \n",
       "1932-05-01     5.51      0.69      0.53                 13.70   \n",
       "1986-05-01   238.50      8.07     14.65                108.90   \n",
       "1908-12-01     9.03      0.40      0.58                  9.04   \n",
       "2007-07-01  1520.71     26.44     82.81                208.30   \n",
       "1972-05-01   107.70      3.07      5.92                 41.60   \n",
       "1941-02-01     9.89      0.68      1.06                 14.10   \n",
       "2014-11-01  2044.57     39.12    103.53                236.15   \n",
       "1893-10-01     4.50      0.25      0.28                  7.33   \n",
       "1993-03-01   450.16     12.48     19.84                143.60   \n",
       "\n",
       "            Long Interest Rate  Real Price  Real Dividend  Real Earnings  \\\n",
       "Date                                                                       \n",
       "1935-06-01                2.73      184.55           8.02          14.77   \n",
       "1959-11-01                4.53      486.33          15.49          28.92   \n",
       "1996-04-01                6.51     1034.46          22.63          54.87   \n",
       "2005-09-01                4.20     1540.64          26.98          83.53   \n",
       "1874-08-01                5.24       94.66           6.99           9.74   \n",
       "1977-03-01                7.46      422.41          17.59          42.33   \n",
       "1992-02-01                7.34      743.67          22.14          29.06   \n",
       "1972-11-01                6.28      678.21          18.42          37.28   \n",
       "1944-11-01                2.39      180.95           9.03          12.99   \n",
       "2016-07-01                1.50     2231.13          46.36          91.00   \n",
       "1888-12-01                3.47      155.13           6.94           7.85   \n",
       "1917-04-01                4.32      181.82          11.96          28.69   \n",
       "1939-08-01                2.27      208.92           9.96          14.36   \n",
       "1968-05-01                5.87      708.74          21.56          40.02   \n",
       "1880-10-01                3.78      142.81           6.70          12.64   \n",
       "1973-07-01                7.13      596.67          18.25          41.64   \n",
       "1961-10-01                3.92      566.29          16.49          25.79   \n",
       "1970-07-01                7.46      485.07          20.39          35.02   \n",
       "1884-02-01                3.61      144.01           8.84          10.42   \n",
       "1989-05-01                8.86      633.47          20.57          50.72   \n",
       "1923-09-01                4.16      118.38           7.63          13.18   \n",
       "1932-05-01                3.56      100.48          12.52           9.60   \n",
       "1986-05-01                7.71      547.16          18.52          33.60   \n",
       "1908-12-01                3.77      249.59          11.06          16.03   \n",
       "2007-07-01                5.00     1823.95          31.71          99.33   \n",
       "1972-05-01                6.13      646.81          18.44          35.53   \n",
       "1941-02-01                1.99      175.24          11.99          18.72   \n",
       "2014-11-01                2.33     2163.05          41.39         109.53   \n",
       "1893-10-01                3.71      153.46           8.47           9.49   \n",
       "1993-03-01                5.98      783.19          21.71          34.52   \n",
       "\n",
       "             PE10    Diff  Diff_Rel  Class  \n",
       "Date                                        \n",
       "1935-06-01  12.54    0.37  0.036561      1  \n",
       "1959-11-01  18.07    0.23  0.004019      0  \n",
       "1996-04-01  25.42    0.10  0.000155      0  \n",
       "2005-09-01  25.73    1.65  0.001346      0  \n",
       "1874-08-01    NaN    0.01  0.002237      0  \n",
       "1977-03-01  10.90   -0.40 -0.003976      0  \n",
       "1992-02-01  19.58   -3.52 -0.008532      0  \n",
       "1972-11-01  18.34    5.50  0.047785      1  \n",
       "1944-11-01  11.48   -0.09 -0.007020      0  \n",
       "2016-07-01  26.69   65.01  0.030253      1  \n",
       "1888-12-01  14.95   -0.10 -0.019455      0  \n",
       "1917-04-01   9.64   -0.14 -0.015267      0  \n",
       "1939-08-01  15.12   -0.17 -0.014731      0  \n",
       "1968-05-01  21.63    2.20  0.022479      1  \n",
       "1880-10-01    NaN    0.15  0.028143      1  \n",
       "1973-07-01  15.89    1.00  0.009452      0  \n",
       "1961-10-01  20.92    0.74  0.010882      0  \n",
       "1970-07-01  13.73    0.13  0.001717      0  \n",
       "1884-02-01  14.81    0.14  0.026316      1  \n",
       "1989-05-01  16.19   11.60  0.036954      1  \n",
       "1923-09-01   7.46    0.05  0.006135      0  \n",
       "1932-05-01   6.39   -0.77 -0.139746     -1  \n",
       "1986-05-01  13.56    0.50  0.002096      0  \n",
       "1908-12-01  14.58    0.20  0.022148      1  \n",
       "2007-07-01  27.41    6.52  0.004287      0  \n",
       "1972-05-01  17.66   -1.10 -0.010214      0  \n",
       "1941-02-01  13.00   -0.66 -0.066734     -1  \n",
       "2014-11-01  26.61  107.30  0.052480      1  \n",
       "1893-10-01  15.27    0.13  0.028889      1  \n",
       "1993-03-01  20.86    8.46  0.018793      0  "
      ],
      "text/html": "<div>\n<style scoped>\n    .dataframe tbody tr th:only-of-type {\n        vertical-align: middle;\n    }\n\n    .dataframe tbody tr th {\n        vertical-align: top;\n    }\n\n    .dataframe thead th {\n        text-align: right;\n    }\n</style>\n<table border=\"1\" class=\"dataframe\">\n  <thead>\n    <tr style=\"text-align: right;\">\n      <th></th>\n      <th>SP500</th>\n      <th>Dividend</th>\n      <th>Earnings</th>\n      <th>Consumer Price Index</th>\n      <th>Long Interest Rate</th>\n      <th>Real Price</th>\n      <th>Real Dividend</th>\n      <th>Real Earnings</th>\n      <th>PE10</th>\n      <th>Diff</th>\n      <th>Diff_Rel</th>\n      <th>Class</th>\n    </tr>\n    <tr>\n      <th>Date</th>\n      <th></th>\n      <th></th>\n      <th></th>\n      <th></th>\n      <th></th>\n      <th></th>\n      <th></th>\n      <th></th>\n      <th></th>\n      <th></th>\n      <th></th>\n      <th></th>\n    </tr>\n  </thead>\n  <tbody>\n    <tr>\n      <th>1935-06-01</th>\n      <td>10.12</td>\n      <td>0.44</td>\n      <td>0.81</td>\n      <td>13.70</td>\n      <td>2.73</td>\n      <td>184.55</td>\n      <td>8.02</td>\n      <td>14.77</td>\n      <td>12.54</td>\n      <td>0.37</td>\n      <td>0.036561</td>\n      <td>1</td>\n    </tr>\n    <tr>\n      <th>1959-11-01</th>\n      <td>57.23</td>\n      <td>1.82</td>\n      <td>3.40</td>\n      <td>29.40</td>\n      <td>4.53</td>\n      <td>486.33</td>\n      <td>15.49</td>\n      <td>28.92</td>\n      <td>18.07</td>\n      <td>0.23</td>\n      <td>0.004019</td>\n      <td>0</td>\n    </tr>\n    <tr>\n      <th>1996-04-01</th>\n      <td>647.17</td>\n      <td>14.16</td>\n      <td>34.33</td>\n      <td>156.30</td>\n      <td>6.51</td>\n      <td>1034.46</td>\n      <td>22.63</td>\n      <td>54.87</td>\n      <td>25.42</td>\n      <td>0.10</td>\n      <td>0.000155</td>\n      <td>0</td>\n    </tr>\n    <tr>\n      <th>2005-09-01</th>\n      <td>1225.92</td>\n      <td>21.47</td>\n      <td>66.47</td>\n      <td>198.80</td>\n      <td>4.20</td>\n      <td>1540.64</td>\n      <td>26.98</td>\n      <td>83.53</td>\n      <td>25.73</td>\n      <td>1.65</td>\n      <td>0.001346</td>\n      <td>0</td>\n    </tr>\n    <tr>\n      <th>1874-08-01</th>\n      <td>4.47</td>\n      <td>0.33</td>\n      <td>0.46</td>\n      <td>11.80</td>\n      <td>5.24</td>\n      <td>94.66</td>\n      <td>6.99</td>\n      <td>9.74</td>\n      <td>NaN</td>\n      <td>0.01</td>\n      <td>0.002237</td>\n      <td>0</td>\n    </tr>\n    <tr>\n      <th>1977-03-01</th>\n      <td>100.60</td>\n      <td>4.19</td>\n      <td>10.08</td>\n      <td>59.50</td>\n      <td>7.46</td>\n      <td>422.41</td>\n      <td>17.59</td>\n      <td>42.33</td>\n      <td>10.90</td>\n      <td>-0.40</td>\n      <td>-0.003976</td>\n      <td>0</td>\n    </tr>\n    <tr>\n      <th>1992-02-01</th>\n      <td>412.56</td>\n      <td>12.28</td>\n      <td>16.12</td>\n      <td>138.60</td>\n      <td>7.34</td>\n      <td>743.67</td>\n      <td>22.14</td>\n      <td>29.06</td>\n      <td>19.58</td>\n      <td>-3.52</td>\n      <td>-0.008532</td>\n      <td>0</td>\n    </tr>\n    <tr>\n      <th>1972-11-01</th>\n      <td>115.10</td>\n      <td>3.13</td>\n      <td>6.33</td>\n      <td>42.40</td>\n      <td>6.28</td>\n      <td>678.21</td>\n      <td>18.42</td>\n      <td>37.28</td>\n      <td>18.34</td>\n      <td>5.50</td>\n      <td>0.047785</td>\n      <td>1</td>\n    </tr>\n    <tr>\n      <th>1944-11-01</th>\n      <td>12.82</td>\n      <td>0.64</td>\n      <td>0.92</td>\n      <td>17.70</td>\n      <td>2.39</td>\n      <td>180.95</td>\n      <td>9.03</td>\n      <td>12.99</td>\n      <td>11.48</td>\n      <td>-0.09</td>\n      <td>-0.007020</td>\n      <td>0</td>\n    </tr>\n    <tr>\n      <th>2016-07-01</th>\n      <td>2148.90</td>\n      <td>44.65</td>\n      <td>87.64</td>\n      <td>240.63</td>\n      <td>1.50</td>\n      <td>2231.13</td>\n      <td>46.36</td>\n      <td>91.00</td>\n      <td>26.69</td>\n      <td>65.01</td>\n      <td>0.030253</td>\n      <td>1</td>\n    </tr>\n    <tr>\n      <th>1888-12-01</th>\n      <td>5.14</td>\n      <td>0.23</td>\n      <td>0.26</td>\n      <td>8.28</td>\n      <td>3.47</td>\n      <td>155.13</td>\n      <td>6.94</td>\n      <td>7.85</td>\n      <td>14.95</td>\n      <td>-0.10</td>\n      <td>-0.019455</td>\n      <td>0</td>\n    </tr>\n    <tr>\n      <th>1917-04-01</th>\n      <td>9.17</td>\n      <td>0.60</td>\n      <td>1.45</td>\n      <td>12.60</td>\n      <td>4.32</td>\n      <td>181.82</td>\n      <td>11.96</td>\n      <td>28.69</td>\n      <td>9.64</td>\n      <td>-0.14</td>\n      <td>-0.015267</td>\n      <td>0</td>\n    </tr>\n    <tr>\n      <th>1939-08-01</th>\n      <td>11.54</td>\n      <td>0.55</td>\n      <td>0.79</td>\n      <td>13.80</td>\n      <td>2.27</td>\n      <td>208.92</td>\n      <td>9.96</td>\n      <td>14.36</td>\n      <td>15.12</td>\n      <td>-0.17</td>\n      <td>-0.014731</td>\n      <td>0</td>\n    </tr>\n    <tr>\n      <th>1968-05-01</th>\n      <td>97.87</td>\n      <td>2.98</td>\n      <td>5.53</td>\n      <td>34.50</td>\n      <td>5.87</td>\n      <td>708.74</td>\n      <td>21.56</td>\n      <td>40.02</td>\n      <td>21.63</td>\n      <td>2.20</td>\n      <td>0.022479</td>\n      <td>1</td>\n    </tr>\n    <tr>\n      <th>1880-10-01</th>\n      <td>5.33</td>\n      <td>0.25</td>\n      <td>0.47</td>\n      <td>9.32</td>\n      <td>3.78</td>\n      <td>142.81</td>\n      <td>6.70</td>\n      <td>12.64</td>\n      <td>NaN</td>\n      <td>0.15</td>\n      <td>0.028143</td>\n      <td>1</td>\n    </tr>\n    <tr>\n      <th>1973-07-01</th>\n      <td>105.80</td>\n      <td>3.24</td>\n      <td>7.38</td>\n      <td>44.30</td>\n      <td>7.13</td>\n      <td>596.67</td>\n      <td>18.25</td>\n      <td>41.64</td>\n      <td>15.89</td>\n      <td>1.00</td>\n      <td>0.009452</td>\n      <td>0</td>\n    </tr>\n    <tr>\n      <th>1961-10-01</th>\n      <td>68.00</td>\n      <td>1.98</td>\n      <td>3.10</td>\n      <td>30.00</td>\n      <td>3.92</td>\n      <td>566.29</td>\n      <td>16.49</td>\n      <td>25.79</td>\n      <td>20.92</td>\n      <td>0.74</td>\n      <td>0.010882</td>\n      <td>0</td>\n    </tr>\n    <tr>\n      <th>1970-07-01</th>\n      <td>75.72</td>\n      <td>3.18</td>\n      <td>5.47</td>\n      <td>39.00</td>\n      <td>7.46</td>\n      <td>485.07</td>\n      <td>20.39</td>\n      <td>35.02</td>\n      <td>13.73</td>\n      <td>0.13</td>\n      <td>0.001717</td>\n      <td>0</td>\n    </tr>\n    <tr>\n      <th>1884-02-01</th>\n      <td>5.32</td>\n      <td>0.33</td>\n      <td>0.39</td>\n      <td>9.23</td>\n      <td>3.61</td>\n      <td>144.01</td>\n      <td>8.84</td>\n      <td>10.42</td>\n      <td>14.81</td>\n      <td>0.14</td>\n      <td>0.026316</td>\n      <td>1</td>\n    </tr>\n    <tr>\n      <th>1989-05-01</th>\n      <td>313.90</td>\n      <td>10.19</td>\n      <td>25.13</td>\n      <td>123.80</td>\n      <td>8.86</td>\n      <td>633.47</td>\n      <td>20.57</td>\n      <td>50.72</td>\n      <td>16.19</td>\n      <td>11.60</td>\n      <td>0.036954</td>\n      <td>1</td>\n    </tr>\n    <tr>\n      <th>1923-09-01</th>\n      <td>8.15</td>\n      <td>0.53</td>\n      <td>0.91</td>\n      <td>17.20</td>\n      <td>4.16</td>\n      <td>118.38</td>\n      <td>7.63</td>\n      <td>13.18</td>\n      <td>7.46</td>\n      <td>0.05</td>\n      <td>0.006135</td>\n      <td>0</td>\n    </tr>\n    <tr>\n      <th>1932-05-01</th>\n      <td>5.51</td>\n      <td>0.69</td>\n      <td>0.53</td>\n      <td>13.70</td>\n      <td>3.56</td>\n      <td>100.48</td>\n      <td>12.52</td>\n      <td>9.60</td>\n      <td>6.39</td>\n      <td>-0.77</td>\n      <td>-0.139746</td>\n      <td>-1</td>\n    </tr>\n    <tr>\n      <th>1986-05-01</th>\n      <td>238.50</td>\n      <td>8.07</td>\n      <td>14.65</td>\n      <td>108.90</td>\n      <td>7.71</td>\n      <td>547.16</td>\n      <td>18.52</td>\n      <td>33.60</td>\n      <td>13.56</td>\n      <td>0.50</td>\n      <td>0.002096</td>\n      <td>0</td>\n    </tr>\n    <tr>\n      <th>1908-12-01</th>\n      <td>9.03</td>\n      <td>0.40</td>\n      <td>0.58</td>\n      <td>9.04</td>\n      <td>3.77</td>\n      <td>249.59</td>\n      <td>11.06</td>\n      <td>16.03</td>\n      <td>14.58</td>\n      <td>0.20</td>\n      <td>0.022148</td>\n      <td>1</td>\n    </tr>\n    <tr>\n      <th>2007-07-01</th>\n      <td>1520.71</td>\n      <td>26.44</td>\n      <td>82.81</td>\n      <td>208.30</td>\n      <td>5.00</td>\n      <td>1823.95</td>\n      <td>31.71</td>\n      <td>99.33</td>\n      <td>27.41</td>\n      <td>6.52</td>\n      <td>0.004287</td>\n      <td>0</td>\n    </tr>\n    <tr>\n      <th>1972-05-01</th>\n      <td>107.70</td>\n      <td>3.07</td>\n      <td>5.92</td>\n      <td>41.60</td>\n      <td>6.13</td>\n      <td>646.81</td>\n      <td>18.44</td>\n      <td>35.53</td>\n      <td>17.66</td>\n      <td>-1.10</td>\n      <td>-0.010214</td>\n      <td>0</td>\n    </tr>\n    <tr>\n      <th>1941-02-01</th>\n      <td>9.89</td>\n      <td>0.68</td>\n      <td>1.06</td>\n      <td>14.10</td>\n      <td>1.99</td>\n      <td>175.24</td>\n      <td>11.99</td>\n      <td>18.72</td>\n      <td>13.00</td>\n      <td>-0.66</td>\n      <td>-0.066734</td>\n      <td>-1</td>\n    </tr>\n    <tr>\n      <th>2014-11-01</th>\n      <td>2044.57</td>\n      <td>39.12</td>\n      <td>103.53</td>\n      <td>236.15</td>\n      <td>2.33</td>\n      <td>2163.05</td>\n      <td>41.39</td>\n      <td>109.53</td>\n      <td>26.61</td>\n      <td>107.30</td>\n      <td>0.052480</td>\n      <td>1</td>\n    </tr>\n    <tr>\n      <th>1893-10-01</th>\n      <td>4.50</td>\n      <td>0.25</td>\n      <td>0.28</td>\n      <td>7.33</td>\n      <td>3.71</td>\n      <td>153.46</td>\n      <td>8.47</td>\n      <td>9.49</td>\n      <td>15.27</td>\n      <td>0.13</td>\n      <td>0.028889</td>\n      <td>1</td>\n    </tr>\n    <tr>\n      <th>1993-03-01</th>\n      <td>450.16</td>\n      <td>12.48</td>\n      <td>19.84</td>\n      <td>143.60</td>\n      <td>5.98</td>\n      <td>783.19</td>\n      <td>21.71</td>\n      <td>34.52</td>\n      <td>20.86</td>\n      <td>8.46</td>\n      <td>0.018793</td>\n      <td>0</td>\n    </tr>\n  </tbody>\n</table>\n</div>"
     },
     "metadata": {},
     "execution_count": 38
    }
   ],
   "source": [
    "sp500.sample(n=30)"
   ]
  },
  {
   "cell_type": "code",
   "execution_count": null,
   "metadata": {},
   "outputs": [],
   "source": []
  }
 ]
}