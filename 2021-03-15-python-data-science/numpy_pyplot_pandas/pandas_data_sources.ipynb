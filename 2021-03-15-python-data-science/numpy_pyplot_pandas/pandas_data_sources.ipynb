{
 "metadata": {
  "language_info": {
   "codemirror_mode": {
    "name": "ipython",
    "version": 3
   },
   "file_extension": ".py",
   "mimetype": "text/x-python",
   "name": "python",
   "nbconvert_exporter": "python",
   "pygments_lexer": "ipython3",
   "version": "3.9.1-final"
  },
  "orig_nbformat": 2,
  "kernelspec": {
   "name": "python3",
   "display_name": "Python 3.9.1 64-bit",
   "metadata": {
    "interpreter": {
     "hash": "ae90dfe03a2ff2a8ba59a379b95d74bdb27cf9a7ce93f86ebd19f2fc7c49c750"
    }
   }
  }
 },
 "nbformat": 4,
 "nbformat_minor": 2,
 "cells": [
  {
   "cell_type": "code",
   "execution_count": 1,
   "metadata": {},
   "outputs": [],
   "source": [
    "import pandas as pd"
   ]
  },
  {
   "cell_type": "code",
   "execution_count": 6,
   "metadata": {},
   "outputs": [],
   "source": [
    "euribor = pd.read_csv(\n",
    "    \"https://datahub.io/core/euribor/r/euribor-12m-monthly.csv\",\n",
    "    parse_dates=[\"date\"],\n",
    "    index_col=\"date\",\n",
    "    usecols=[\"date\", \"rate\"]\n",
    ")"
   ]
  },
  {
   "cell_type": "code",
   "execution_count": 10,
   "metadata": {},
   "outputs": [],
   "source": [
    "sp500 = pd.read_csv(\n",
    "    \"https://datahub.io/core/s-and-p-500/r/data.csv\",\n",
    "    index_col=\"Date\",\n",
    "    parse_dates=[\"Date\"],\n",
    ")"
   ]
  },
  {
   "cell_type": "code",
   "execution_count": 16,
   "metadata": {},
   "outputs": [],
   "source": [
    "exchange_rates = pd.read_csv(\n",
    "    \"https://datahub.io/core/us-euro-foreign-exchange-rate/r/monthly.csv\",\n",
    "    parse_dates=[\"Date\"]\n",
    ")"
   ]
  },
  {
   "cell_type": "code",
   "execution_count": 17,
   "metadata": {},
   "outputs": [],
   "source": [
    "iris = pd.read_csv(\n",
    "    \"https://raw.githubusercontent.com/mwaskom/seaborn-data/master/iris.csv\"\n",
    ")"
   ]
  },
  {
   "cell_type": "code",
   "execution_count": 18,
   "metadata": {},
   "outputs": [],
   "source": [
    "titanic = pd.read_csv(\n",
    "    \"https://public.opendatasoft.com/explore/dataset/titanic-passengers/download\",\n",
    "    sep=\";\",\n",
    ")"
   ]
  },
  {
   "cell_type": "code",
   "execution_count": 20,
   "metadata": {},
   "outputs": [
    {
     "output_type": "execute_result",
     "data": {
      "text/plain": [
       "count    150.000000\n",
       "mean       5.843333\n",
       "std        0.828066\n",
       "min        4.300000\n",
       "25%        5.100000\n",
       "50%        5.800000\n",
       "75%        6.400000\n",
       "max        7.900000\n",
       "Name: sepal_length, dtype: float64"
      ]
     },
     "metadata": {},
     "execution_count": 20
    }
   ],
   "source": [
    "iris[\"sepal_length\"].describe()"
   ]
  },
  {
   "cell_type": "code",
   "execution_count": 21,
   "metadata": {},
   "outputs": [
    {
     "output_type": "execute_result",
     "data": {
      "text/plain": [
       "       sepal_length  sepal_width  petal_length  petal_width\n",
       "count    150.000000   150.000000    150.000000   150.000000\n",
       "mean       5.843333     3.057333      3.758000     1.199333\n",
       "std        0.828066     0.435866      1.765298     0.762238\n",
       "min        4.300000     2.000000      1.000000     0.100000\n",
       "25%        5.100000     2.800000      1.600000     0.300000\n",
       "50%        5.800000     3.000000      4.350000     1.300000\n",
       "75%        6.400000     3.300000      5.100000     1.800000\n",
       "max        7.900000     4.400000      6.900000     2.500000"
      ],
      "text/html": "<div>\n<style scoped>\n    .dataframe tbody tr th:only-of-type {\n        vertical-align: middle;\n    }\n\n    .dataframe tbody tr th {\n        vertical-align: top;\n    }\n\n    .dataframe thead th {\n        text-align: right;\n    }\n</style>\n<table border=\"1\" class=\"dataframe\">\n  <thead>\n    <tr style=\"text-align: right;\">\n      <th></th>\n      <th>sepal_length</th>\n      <th>sepal_width</th>\n      <th>petal_length</th>\n      <th>petal_width</th>\n    </tr>\n  </thead>\n  <tbody>\n    <tr>\n      <th>count</th>\n      <td>150.000000</td>\n      <td>150.000000</td>\n      <td>150.000000</td>\n      <td>150.000000</td>\n    </tr>\n    <tr>\n      <th>mean</th>\n      <td>5.843333</td>\n      <td>3.057333</td>\n      <td>3.758000</td>\n      <td>1.199333</td>\n    </tr>\n    <tr>\n      <th>std</th>\n      <td>0.828066</td>\n      <td>0.435866</td>\n      <td>1.765298</td>\n      <td>0.762238</td>\n    </tr>\n    <tr>\n      <th>min</th>\n      <td>4.300000</td>\n      <td>2.000000</td>\n      <td>1.000000</td>\n      <td>0.100000</td>\n    </tr>\n    <tr>\n      <th>25%</th>\n      <td>5.100000</td>\n      <td>2.800000</td>\n      <td>1.600000</td>\n      <td>0.300000</td>\n    </tr>\n    <tr>\n      <th>50%</th>\n      <td>5.800000</td>\n      <td>3.000000</td>\n      <td>4.350000</td>\n      <td>1.300000</td>\n    </tr>\n    <tr>\n      <th>75%</th>\n      <td>6.400000</td>\n      <td>3.300000</td>\n      <td>5.100000</td>\n      <td>1.800000</td>\n    </tr>\n    <tr>\n      <th>max</th>\n      <td>7.900000</td>\n      <td>4.400000</td>\n      <td>6.900000</td>\n      <td>2.500000</td>\n    </tr>\n  </tbody>\n</table>\n</div>"
     },
     "metadata": {},
     "execution_count": 21
    }
   ],
   "source": [
    "iris.describe()"
   ]
  },
  {
   "cell_type": "code",
   "execution_count": 23,
   "metadata": {},
   "outputs": [
    {
     "output_type": "execute_result",
     "data": {
      "text/plain": [
       "2"
      ]
     },
     "metadata": {},
     "execution_count": 23
    }
   ],
   "source": [
    "titanic.iloc[3, 2]"
   ]
  },
  {
   "cell_type": "code",
   "execution_count": 28,
   "metadata": {},
   "outputs": [
    {
     "output_type": "execute_result",
     "data": {
      "text/plain": [
       "   passengerid survived  pclass                                       name  \\\n",
       "0          431      Yes       1  Bjornstrom-Steffansson, Mr. Mauritz Hakan   \n",
       "1          664       No       3                           Coleff, Mr. Peju   \n",
       "2           44      Yes       2   Laroche, Miss. Simonne Marie Anne Andree   \n",
       "3          347      Yes       2                  Smith, Miss. Marion Elsie   \n",
       "4          891       No       3                        Dooley, Mr. Patrick   \n",
       "\n",
       "      sex   age  sibsp  parch         ticket     fare cabin embarked  \n",
       "0    male  28.0      0      0         110564  26.5500   C52        S  \n",
       "1    male  36.0      0      0         349210   7.4958   NaN        S  \n",
       "2  female   3.0      1      2  SC/Paris 2123  41.5792   NaN        C  \n",
       "3  female  40.0      0      0          31418  13.0000   NaN        S  \n",
       "4    male  32.0      0      0         370376   7.7500   NaN        Q  "
      ],
      "text/html": "<div>\n<style scoped>\n    .dataframe tbody tr th:only-of-type {\n        vertical-align: middle;\n    }\n\n    .dataframe tbody tr th {\n        vertical-align: top;\n    }\n\n    .dataframe thead th {\n        text-align: right;\n    }\n</style>\n<table border=\"1\" class=\"dataframe\">\n  <thead>\n    <tr style=\"text-align: right;\">\n      <th></th>\n      <th>passengerid</th>\n      <th>survived</th>\n      <th>pclass</th>\n      <th>name</th>\n      <th>sex</th>\n      <th>age</th>\n      <th>sibsp</th>\n      <th>parch</th>\n      <th>ticket</th>\n      <th>fare</th>\n      <th>cabin</th>\n      <th>embarked</th>\n    </tr>\n  </thead>\n  <tbody>\n    <tr>\n      <th>0</th>\n      <td>431</td>\n      <td>Yes</td>\n      <td>1</td>\n      <td>Bjornstrom-Steffansson, Mr. Mauritz Hakan</td>\n      <td>male</td>\n      <td>28.0</td>\n      <td>0</td>\n      <td>0</td>\n      <td>110564</td>\n      <td>26.5500</td>\n      <td>C52</td>\n      <td>S</td>\n    </tr>\n    <tr>\n      <th>1</th>\n      <td>664</td>\n      <td>No</td>\n      <td>3</td>\n      <td>Coleff, Mr. Peju</td>\n      <td>male</td>\n      <td>36.0</td>\n      <td>0</td>\n      <td>0</td>\n      <td>349210</td>\n      <td>7.4958</td>\n      <td>NaN</td>\n      <td>S</td>\n    </tr>\n    <tr>\n      <th>2</th>\n      <td>44</td>\n      <td>Yes</td>\n      <td>2</td>\n      <td>Laroche, Miss. Simonne Marie Anne Andree</td>\n      <td>female</td>\n      <td>3.0</td>\n      <td>1</td>\n      <td>2</td>\n      <td>SC/Paris 2123</td>\n      <td>41.5792</td>\n      <td>NaN</td>\n      <td>C</td>\n    </tr>\n    <tr>\n      <th>3</th>\n      <td>347</td>\n      <td>Yes</td>\n      <td>2</td>\n      <td>Smith, Miss. Marion Elsie</td>\n      <td>female</td>\n      <td>40.0</td>\n      <td>0</td>\n      <td>0</td>\n      <td>31418</td>\n      <td>13.0000</td>\n      <td>NaN</td>\n      <td>S</td>\n    </tr>\n    <tr>\n      <th>4</th>\n      <td>891</td>\n      <td>No</td>\n      <td>3</td>\n      <td>Dooley, Mr. Patrick</td>\n      <td>male</td>\n      <td>32.0</td>\n      <td>0</td>\n      <td>0</td>\n      <td>370376</td>\n      <td>7.7500</td>\n      <td>NaN</td>\n      <td>Q</td>\n    </tr>\n  </tbody>\n</table>\n</div>"
     },
     "metadata": {},
     "execution_count": 28
    }
   ],
   "source": [
    "titanic.iloc[:5]"
   ]
  },
  {
   "cell_type": "code",
   "execution_count": 30,
   "metadata": {},
   "outputs": [
    {
     "output_type": "execute_result",
     "data": {
      "text/plain": [
       "DatetimeIndex(['1871-01-01', '1871-02-01', '1871-03-01', '1871-04-01',\n",
       "               '1871-05-01', '1871-06-01', '1871-07-01', '1871-08-01',\n",
       "               '1871-09-01', '1871-10-01',\n",
       "               ...\n",
       "               '2017-07-01', '2017-08-01', '2017-09-01', '2017-10-01',\n",
       "               '2017-11-01', '2017-12-01', '2018-01-01', '2018-02-01',\n",
       "               '2018-03-01', '2018-04-01'],\n",
       "              dtype='datetime64[ns]', name='Date', length=1768, freq=None)"
      ]
     },
     "metadata": {},
     "execution_count": 30
    }
   ],
   "source": [
    "sp500.index"
   ]
  },
  {
   "cell_type": "code",
   "execution_count": 31,
   "metadata": {},
   "outputs": [
    {
     "output_type": "execute_result",
     "data": {
      "text/plain": [
       "Index(['SP500', 'Dividend', 'Earnings', 'Consumer Price Index',\n",
       "       'Long Interest Rate', 'Real Price', 'Real Dividend', 'Real Earnings',\n",
       "       'PE10'],\n",
       "      dtype='object')"
      ]
     },
     "metadata": {},
     "execution_count": 31
    }
   ],
   "source": [
    "sp500.columns"
   ]
  },
  {
   "cell_type": "code",
   "execution_count": 35,
   "metadata": {},
   "outputs": [
    {
     "output_type": "execute_result",
     "data": {
      "text/plain": [
       "              SP500  Dividend  Earnings  Consumer Price Index  \\\n",
       "Date                                                            \n",
       "2009-01-01   865.58     28.01     12.21                211.14   \n",
       "2009-02-01   805.23     27.64      9.53                212.19   \n",
       "2009-03-01   757.13     27.26      6.86                212.71   \n",
       "2009-04-01   848.15     26.70      7.08                213.24   \n",
       "2009-05-01   902.41     26.15      7.29                213.86   \n",
       "2009-06-01   926.12     25.59      7.51                215.69   \n",
       "2009-07-01   935.82     25.03      9.19                215.35   \n",
       "2009-08-01  1009.73     24.46     10.86                215.83   \n",
       "2009-09-01  1044.55     23.90     12.54                215.97   \n",
       "2009-10-01  1067.66     23.40     25.35                216.18   \n",
       "2009-11-01  1088.07     22.91     38.16                216.33   \n",
       "2009-12-01  1110.38     22.41     50.97                215.95   \n",
       "\n",
       "            Long Interest Rate  Real Price  Real Dividend  Real Earnings  \\\n",
       "Date                                                                       \n",
       "2009-01-01                2.52     1024.20          33.15          14.44   \n",
       "2009-02-01                2.87      948.08          32.54          11.22   \n",
       "2009-03-01                2.82      889.28          32.02           8.06   \n",
       "2009-04-01                2.93      993.71          31.29           8.29   \n",
       "2009-05-01                3.29     1054.23          30.55           8.52   \n",
       "2009-06-01                3.72     1072.72          29.64           8.70   \n",
       "2009-07-01                3.56     1085.67          29.03          10.66   \n",
       "2009-08-01                3.59     1168.80          28.32          12.57   \n",
       "2009-09-01                3.40     1208.35          27.65          14.51   \n",
       "2009-10-01                3.39     1233.89          27.05          29.30   \n",
       "2009-11-01                3.40     1256.59          26.45          44.07   \n",
       "2009-12-01                3.59     1284.62          25.93          58.97   \n",
       "\n",
       "             PE10  \n",
       "Date               \n",
       "2009-01-01  15.17  \n",
       "2009-02-01  14.12  \n",
       "2009-03-01  13.32  \n",
       "2009-04-01  14.98  \n",
       "2009-05-01  16.00  \n",
       "2009-06-01  16.38  \n",
       "2009-07-01  16.69  \n",
       "2009-08-01  18.09  \n",
       "2009-09-01  18.83  \n",
       "2009-10-01  19.36  \n",
       "2009-11-01  19.81  \n",
       "2009-12-01  20.32  "
      ],
      "text/html": "<div>\n<style scoped>\n    .dataframe tbody tr th:only-of-type {\n        vertical-align: middle;\n    }\n\n    .dataframe tbody tr th {\n        vertical-align: top;\n    }\n\n    .dataframe thead th {\n        text-align: right;\n    }\n</style>\n<table border=\"1\" class=\"dataframe\">\n  <thead>\n    <tr style=\"text-align: right;\">\n      <th></th>\n      <th>SP500</th>\n      <th>Dividend</th>\n      <th>Earnings</th>\n      <th>Consumer Price Index</th>\n      <th>Long Interest Rate</th>\n      <th>Real Price</th>\n      <th>Real Dividend</th>\n      <th>Real Earnings</th>\n      <th>PE10</th>\n    </tr>\n    <tr>\n      <th>Date</th>\n      <th></th>\n      <th></th>\n      <th></th>\n      <th></th>\n      <th></th>\n      <th></th>\n      <th></th>\n      <th></th>\n      <th></th>\n    </tr>\n  </thead>\n  <tbody>\n    <tr>\n      <th>2009-01-01</th>\n      <td>865.58</td>\n      <td>28.01</td>\n      <td>12.21</td>\n      <td>211.14</td>\n      <td>2.52</td>\n      <td>1024.20</td>\n      <td>33.15</td>\n      <td>14.44</td>\n      <td>15.17</td>\n    </tr>\n    <tr>\n      <th>2009-02-01</th>\n      <td>805.23</td>\n      <td>27.64</td>\n      <td>9.53</td>\n      <td>212.19</td>\n      <td>2.87</td>\n      <td>948.08</td>\n      <td>32.54</td>\n      <td>11.22</td>\n      <td>14.12</td>\n    </tr>\n    <tr>\n      <th>2009-03-01</th>\n      <td>757.13</td>\n      <td>27.26</td>\n      <td>6.86</td>\n      <td>212.71</td>\n      <td>2.82</td>\n      <td>889.28</td>\n      <td>32.02</td>\n      <td>8.06</td>\n      <td>13.32</td>\n    </tr>\n    <tr>\n      <th>2009-04-01</th>\n      <td>848.15</td>\n      <td>26.70</td>\n      <td>7.08</td>\n      <td>213.24</td>\n      <td>2.93</td>\n      <td>993.71</td>\n      <td>31.29</td>\n      <td>8.29</td>\n      <td>14.98</td>\n    </tr>\n    <tr>\n      <th>2009-05-01</th>\n      <td>902.41</td>\n      <td>26.15</td>\n      <td>7.29</td>\n      <td>213.86</td>\n      <td>3.29</td>\n      <td>1054.23</td>\n      <td>30.55</td>\n      <td>8.52</td>\n      <td>16.00</td>\n    </tr>\n    <tr>\n      <th>2009-06-01</th>\n      <td>926.12</td>\n      <td>25.59</td>\n      <td>7.51</td>\n      <td>215.69</td>\n      <td>3.72</td>\n      <td>1072.72</td>\n      <td>29.64</td>\n      <td>8.70</td>\n      <td>16.38</td>\n    </tr>\n    <tr>\n      <th>2009-07-01</th>\n      <td>935.82</td>\n      <td>25.03</td>\n      <td>9.19</td>\n      <td>215.35</td>\n      <td>3.56</td>\n      <td>1085.67</td>\n      <td>29.03</td>\n      <td>10.66</td>\n      <td>16.69</td>\n    </tr>\n    <tr>\n      <th>2009-08-01</th>\n      <td>1009.73</td>\n      <td>24.46</td>\n      <td>10.86</td>\n      <td>215.83</td>\n      <td>3.59</td>\n      <td>1168.80</td>\n      <td>28.32</td>\n      <td>12.57</td>\n      <td>18.09</td>\n    </tr>\n    <tr>\n      <th>2009-09-01</th>\n      <td>1044.55</td>\n      <td>23.90</td>\n      <td>12.54</td>\n      <td>215.97</td>\n      <td>3.40</td>\n      <td>1208.35</td>\n      <td>27.65</td>\n      <td>14.51</td>\n      <td>18.83</td>\n    </tr>\n    <tr>\n      <th>2009-10-01</th>\n      <td>1067.66</td>\n      <td>23.40</td>\n      <td>25.35</td>\n      <td>216.18</td>\n      <td>3.39</td>\n      <td>1233.89</td>\n      <td>27.05</td>\n      <td>29.30</td>\n      <td>19.36</td>\n    </tr>\n    <tr>\n      <th>2009-11-01</th>\n      <td>1088.07</td>\n      <td>22.91</td>\n      <td>38.16</td>\n      <td>216.33</td>\n      <td>3.40</td>\n      <td>1256.59</td>\n      <td>26.45</td>\n      <td>44.07</td>\n      <td>19.81</td>\n    </tr>\n    <tr>\n      <th>2009-12-01</th>\n      <td>1110.38</td>\n      <td>22.41</td>\n      <td>50.97</td>\n      <td>215.95</td>\n      <td>3.59</td>\n      <td>1284.62</td>\n      <td>25.93</td>\n      <td>58.97</td>\n      <td>20.32</td>\n    </tr>\n  </tbody>\n</table>\n</div>"
     },
     "metadata": {},
     "execution_count": 35
    }
   ],
   "source": [
    "sp500.loc[\"2009-01-01\" : \"2009-12-31\"]"
   ]
  },
  {
   "cell_type": "code",
   "execution_count": 39,
   "metadata": {},
   "outputs": [
    {
     "output_type": "execute_result",
     "data": {
      "text/plain": [
       "Date\n",
       "1871-01-01     12.46\n",
       "1871-02-01     12.84\n",
       "1871-03-01     13.03\n",
       "1871-04-01     12.56\n",
       "1871-05-01     12.27\n",
       "               ...  \n",
       "2017-12-01    246.52\n",
       "2018-01-01    247.87\n",
       "2018-02-01    248.99\n",
       "2018-03-01    249.55\n",
       "2018-04-01    249.84\n",
       "Name: Consumer Price Index, Length: 1768, dtype: float64"
      ]
     },
     "metadata": {},
     "execution_count": 39
    }
   ],
   "source": [
    "sp500[\"Consumer Price Index\"]"
   ]
  },
  {
   "cell_type": "code",
   "execution_count": 38,
   "metadata": {},
   "outputs": [
    {
     "output_type": "error",
     "ename": "SyntaxError",
     "evalue": "invalid syntax (<ipython-input-38-df4ce409af4e>, line 1)",
     "traceback": [
      "\u001b[1;36m  File \u001b[1;32m\"<ipython-input-38-df4ce409af4e>\"\u001b[1;36m, line \u001b[1;32m1\u001b[0m\n\u001b[1;33m    sp500.Consumer Price Index\u001b[0m\n\u001b[1;37m                   ^\u001b[0m\n\u001b[1;31mSyntaxError\u001b[0m\u001b[1;31m:\u001b[0m invalid syntax\n"
     ]
    }
   ],
   "source": [
    "sp500.Consumer Price Index"
   ]
  },
  {
   "cell_type": "code",
   "execution_count": 48,
   "metadata": {},
   "outputs": [
    {
     "output_type": "execute_result",
     "data": {
      "text/plain": [
       "     passengerid survived  pclass  \\\n",
       "862          269      Yes       1   \n",
       "223          438      Yes       2   \n",
       "84           468       No       1   \n",
       "680          695       No       1   \n",
       "535          187      Yes       3   \n",
       "\n",
       "                                                name     sex   age  sibsp  \\\n",
       "862    Graham, Mrs. William Thompson (Edith Junkins)  female  58.0      0   \n",
       "223            Richards, Mrs. Sidney (Emily Hocking)  female  24.0      2   \n",
       "84                        Smart, Mr. John Montgomery    male  56.0      0   \n",
       "680                                  Weir, Col. John    male  60.0      0   \n",
       "535  O'Brien, Mrs. Thomas (Johanna \"Hannah\" Godfrey)  female   NaN      1   \n",
       "\n",
       "     parch    ticket      fare cabin embarked  \n",
       "862      1  PC 17582  153.4625  C125        S  \n",
       "223      3     29106   18.7500   NaN        S  \n",
       "84       0    113792   26.5500   NaN        S  \n",
       "680      0    113800   26.5500   NaN        S  \n",
       "535      0    370365   15.5000   NaN        Q  "
      ],
      "text/html": "<div>\n<style scoped>\n    .dataframe tbody tr th:only-of-type {\n        vertical-align: middle;\n    }\n\n    .dataframe tbody tr th {\n        vertical-align: top;\n    }\n\n    .dataframe thead th {\n        text-align: right;\n    }\n</style>\n<table border=\"1\" class=\"dataframe\">\n  <thead>\n    <tr style=\"text-align: right;\">\n      <th></th>\n      <th>passengerid</th>\n      <th>survived</th>\n      <th>pclass</th>\n      <th>name</th>\n      <th>sex</th>\n      <th>age</th>\n      <th>sibsp</th>\n      <th>parch</th>\n      <th>ticket</th>\n      <th>fare</th>\n      <th>cabin</th>\n      <th>embarked</th>\n    </tr>\n  </thead>\n  <tbody>\n    <tr>\n      <th>862</th>\n      <td>269</td>\n      <td>Yes</td>\n      <td>1</td>\n      <td>Graham, Mrs. William Thompson (Edith Junkins)</td>\n      <td>female</td>\n      <td>58.0</td>\n      <td>0</td>\n      <td>1</td>\n      <td>PC 17582</td>\n      <td>153.4625</td>\n      <td>C125</td>\n      <td>S</td>\n    </tr>\n    <tr>\n      <th>223</th>\n      <td>438</td>\n      <td>Yes</td>\n      <td>2</td>\n      <td>Richards, Mrs. Sidney (Emily Hocking)</td>\n      <td>female</td>\n      <td>24.0</td>\n      <td>2</td>\n      <td>3</td>\n      <td>29106</td>\n      <td>18.7500</td>\n      <td>NaN</td>\n      <td>S</td>\n    </tr>\n    <tr>\n      <th>84</th>\n      <td>468</td>\n      <td>No</td>\n      <td>1</td>\n      <td>Smart, Mr. John Montgomery</td>\n      <td>male</td>\n      <td>56.0</td>\n      <td>0</td>\n      <td>0</td>\n      <td>113792</td>\n      <td>26.5500</td>\n      <td>NaN</td>\n      <td>S</td>\n    </tr>\n    <tr>\n      <th>680</th>\n      <td>695</td>\n      <td>No</td>\n      <td>1</td>\n      <td>Weir, Col. John</td>\n      <td>male</td>\n      <td>60.0</td>\n      <td>0</td>\n      <td>0</td>\n      <td>113800</td>\n      <td>26.5500</td>\n      <td>NaN</td>\n      <td>S</td>\n    </tr>\n    <tr>\n      <th>535</th>\n      <td>187</td>\n      <td>Yes</td>\n      <td>3</td>\n      <td>O'Brien, Mrs. Thomas (Johanna \"Hannah\" Godfrey)</td>\n      <td>female</td>\n      <td>NaN</td>\n      <td>1</td>\n      <td>0</td>\n      <td>370365</td>\n      <td>15.5000</td>\n      <td>NaN</td>\n      <td>Q</td>\n    </tr>\n  </tbody>\n</table>\n</div>"
     },
     "metadata": {},
     "execution_count": 48
    }
   ],
   "source": [
    "titanic.sample(5, random_state=1)"
   ]
  },
  {
   "cell_type": "code",
   "execution_count": 52,
   "metadata": {},
   "outputs": [
    {
     "output_type": "execute_result",
     "data": {
      "text/plain": [
       "Empty DataFrame\n",
       "Columns: [rate]\n",
       "Index: []"
      ],
      "text/html": "<div>\n<style scoped>\n    .dataframe tbody tr th:only-of-type {\n        vertical-align: middle;\n    }\n\n    .dataframe tbody tr th {\n        vertical-align: top;\n    }\n\n    .dataframe thead th {\n        text-align: right;\n    }\n</style>\n<table border=\"1\" class=\"dataframe\">\n  <thead>\n    <tr style=\"text-align: right;\">\n      <th></th>\n      <th>rate</th>\n    </tr>\n    <tr>\n      <th>date</th>\n      <th></th>\n    </tr>\n  </thead>\n  <tbody>\n  </tbody>\n</table>\n</div>"
     },
     "metadata": {},
     "execution_count": 52
    }
   ],
   "source": [
    "euribor[euribor.rate == 0]"
   ]
  },
  {
   "cell_type": "code",
   "execution_count": 56,
   "metadata": {},
   "outputs": [
    {
     "output_type": "execute_result",
     "data": {
      "text/plain": [
       "             rate\n",
       "date             \n",
       "2016-12-01 -0.079\n",
       "2017-01-02 -0.083\n",
       "2017-02-01 -0.103\n",
       "2017-03-01 -0.114\n",
       "2017-04-03 -0.111"
      ],
      "text/html": "<div>\n<style scoped>\n    .dataframe tbody tr th:only-of-type {\n        vertical-align: middle;\n    }\n\n    .dataframe tbody tr th {\n        vertical-align: top;\n    }\n\n    .dataframe thead th {\n        text-align: right;\n    }\n</style>\n<table border=\"1\" class=\"dataframe\">\n  <thead>\n    <tr style=\"text-align: right;\">\n      <th></th>\n      <th>rate</th>\n    </tr>\n    <tr>\n      <th>date</th>\n      <th></th>\n    </tr>\n  </thead>\n  <tbody>\n    <tr>\n      <th>2016-12-01</th>\n      <td>-0.079</td>\n    </tr>\n    <tr>\n      <th>2017-01-02</th>\n      <td>-0.083</td>\n    </tr>\n    <tr>\n      <th>2017-02-01</th>\n      <td>-0.103</td>\n    </tr>\n    <tr>\n      <th>2017-03-01</th>\n      <td>-0.114</td>\n    </tr>\n    <tr>\n      <th>2017-04-03</th>\n      <td>-0.111</td>\n    </tr>\n  </tbody>\n</table>\n</div>"
     },
     "metadata": {},
     "execution_count": 56
    }
   ],
   "source": [
    "euribor.iloc[-5:]"
   ]
  },
  {
   "cell_type": "code",
   "execution_count": 64,
   "metadata": {},
   "outputs": [
    {
     "output_type": "execute_result",
     "data": {
      "text/plain": [
       "rate    3.025\n",
       "Name: 2009-01-02 00:00:00, dtype: float64"
      ]
     },
     "metadata": {},
     "execution_count": 64
    }
   ],
   "source": [
    "euribor.loc[\"2009-01-02\"]"
   ]
  },
  {
   "cell_type": "code",
   "execution_count": 65,
   "metadata": {},
   "outputs": [
    {
     "output_type": "execute_result",
     "data": {
      "text/plain": [
       "             rate\n",
       "date             \n",
       "2009-01-02  3.025\n",
       "2009-02-02  2.259\n",
       "2009-03-02  2.025\n",
       "2009-04-01  1.801\n",
       "2009-05-04  1.718\n",
       "2009-06-01  1.626\n",
       "2009-07-01  1.497\n",
       "2009-08-03  1.346\n",
       "2009-09-01  1.302\n",
       "2009-10-01  1.237\n",
       "2009-11-02  1.237\n",
       "2009-12-01  1.236"
      ],
      "text/html": "<div>\n<style scoped>\n    .dataframe tbody tr th:only-of-type {\n        vertical-align: middle;\n    }\n\n    .dataframe tbody tr th {\n        vertical-align: top;\n    }\n\n    .dataframe thead th {\n        text-align: right;\n    }\n</style>\n<table border=\"1\" class=\"dataframe\">\n  <thead>\n    <tr style=\"text-align: right;\">\n      <th></th>\n      <th>rate</th>\n    </tr>\n    <tr>\n      <th>date</th>\n      <th></th>\n    </tr>\n  </thead>\n  <tbody>\n    <tr>\n      <th>2009-01-02</th>\n      <td>3.025</td>\n    </tr>\n    <tr>\n      <th>2009-02-02</th>\n      <td>2.259</td>\n    </tr>\n    <tr>\n      <th>2009-03-02</th>\n      <td>2.025</td>\n    </tr>\n    <tr>\n      <th>2009-04-01</th>\n      <td>1.801</td>\n    </tr>\n    <tr>\n      <th>2009-05-04</th>\n      <td>1.718</td>\n    </tr>\n    <tr>\n      <th>2009-06-01</th>\n      <td>1.626</td>\n    </tr>\n    <tr>\n      <th>2009-07-01</th>\n      <td>1.497</td>\n    </tr>\n    <tr>\n      <th>2009-08-03</th>\n      <td>1.346</td>\n    </tr>\n    <tr>\n      <th>2009-09-01</th>\n      <td>1.302</td>\n    </tr>\n    <tr>\n      <th>2009-10-01</th>\n      <td>1.237</td>\n    </tr>\n    <tr>\n      <th>2009-11-02</th>\n      <td>1.237</td>\n    </tr>\n    <tr>\n      <th>2009-12-01</th>\n      <td>1.236</td>\n    </tr>\n  </tbody>\n</table>\n</div>"
     },
     "metadata": {},
     "execution_count": 65
    }
   ],
   "source": [
    "euribor.loc[\"2009-01-01\":\"2009-12-31\"]"
   ]
  },
  {
   "cell_type": "code",
   "execution_count": null,
   "metadata": {},
   "outputs": [],
   "source": []
  }
 ]
}