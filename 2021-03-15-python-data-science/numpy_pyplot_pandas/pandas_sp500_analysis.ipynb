{
 "metadata": {
  "language_info": {
   "codemirror_mode": {
    "name": "ipython",
    "version": 3
   },
   "file_extension": ".py",
   "mimetype": "text/x-python",
   "name": "python",
   "nbconvert_exporter": "python",
   "pygments_lexer": "ipython3",
   "version": "3.9.1-final"
  },
  "orig_nbformat": 2,
  "kernelspec": {
   "name": "python3",
   "display_name": "Python 3.9.1 64-bit",
   "metadata": {
    "interpreter": {
     "hash": "ae90dfe03a2ff2a8ba59a379b95d74bdb27cf9a7ce93f86ebd19f2fc7c49c750"
    }
   }
  }
 },
 "nbformat": 4,
 "nbformat_minor": 2,
 "cells": [
  {
   "cell_type": "code",
   "execution_count": 2,
   "metadata": {},
   "outputs": [],
   "source": [
    "import pandas as pd\n",
    "\n",
    "sp500 = pd.read_csv(\n",
    "    \"https://datahub.io/core/s-and-p-500/r/data.csv\",\n",
    "    index_col=\"Date\",\n",
    "    parse_dates=[\"Date\"],\n",
    ")"
   ]
  },
  {
   "cell_type": "code",
   "execution_count": 3,
   "metadata": {},
   "outputs": [
    {
     "output_type": "execute_result",
     "data": {
      "text/plain": [
       "              SP500  Dividend  Earnings  Consumer Price Index  \\\n",
       "Date                                                            \n",
       "1871-01-01     4.44      0.26      0.40                 12.46   \n",
       "1871-02-01     4.50      0.26      0.40                 12.84   \n",
       "1871-03-01     4.61      0.26      0.40                 13.03   \n",
       "1871-04-01     4.74      0.26      0.40                 12.56   \n",
       "1871-05-01     4.86      0.26      0.40                 12.27   \n",
       "...             ...       ...       ...                   ...   \n",
       "2017-12-01  2664.34     48.93    109.88                246.52   \n",
       "2018-01-01  2789.80     49.29       NaN                247.87   \n",
       "2018-02-01  2705.16     49.64       NaN                248.99   \n",
       "2018-03-01  2702.77     50.00       NaN                249.55   \n",
       "2018-04-01  2642.19       NaN       NaN                249.84   \n",
       "\n",
       "            Long Interest Rate  Real Price  Real Dividend  Real Earnings  \\\n",
       "Date                                                                       \n",
       "1871-01-01                5.32       89.00           5.21           8.02   \n",
       "1871-02-01                5.32       87.53           5.06           7.78   \n",
       "1871-03-01                5.33       88.36           4.98           7.67   \n",
       "1871-04-01                5.33       94.29           5.17           7.96   \n",
       "1871-05-01                5.33       98.93           5.29           8.14   \n",
       "...                        ...         ...            ...            ...   \n",
       "2017-12-01                2.40     2700.13          49.59         111.36   \n",
       "2018-01-01                2.58     2811.96          49.68            NaN   \n",
       "2018-02-01                2.86     2714.34          49.81            NaN   \n",
       "2018-03-01                2.84     2705.82          50.06            NaN   \n",
       "2018-04-01                2.80     2642.19            NaN            NaN   \n",
       "\n",
       "             PE10  \n",
       "Date               \n",
       "1871-01-01    NaN  \n",
       "1871-02-01    NaN  \n",
       "1871-03-01    NaN  \n",
       "1871-04-01    NaN  \n",
       "1871-05-01    NaN  \n",
       "...           ...  \n",
       "2017-12-01  32.09  \n",
       "2018-01-01  33.31  \n",
       "2018-02-01  32.12  \n",
       "2018-03-01  31.99  \n",
       "2018-04-01  31.19  \n",
       "\n",
       "[1768 rows x 9 columns]"
      ],
      "text/html": "<div>\n<style scoped>\n    .dataframe tbody tr th:only-of-type {\n        vertical-align: middle;\n    }\n\n    .dataframe tbody tr th {\n        vertical-align: top;\n    }\n\n    .dataframe thead th {\n        text-align: right;\n    }\n</style>\n<table border=\"1\" class=\"dataframe\">\n  <thead>\n    <tr style=\"text-align: right;\">\n      <th></th>\n      <th>SP500</th>\n      <th>Dividend</th>\n      <th>Earnings</th>\n      <th>Consumer Price Index</th>\n      <th>Long Interest Rate</th>\n      <th>Real Price</th>\n      <th>Real Dividend</th>\n      <th>Real Earnings</th>\n      <th>PE10</th>\n    </tr>\n    <tr>\n      <th>Date</th>\n      <th></th>\n      <th></th>\n      <th></th>\n      <th></th>\n      <th></th>\n      <th></th>\n      <th></th>\n      <th></th>\n      <th></th>\n    </tr>\n  </thead>\n  <tbody>\n    <tr>\n      <th>1871-01-01</th>\n      <td>4.44</td>\n      <td>0.26</td>\n      <td>0.40</td>\n      <td>12.46</td>\n      <td>5.32</td>\n      <td>89.00</td>\n      <td>5.21</td>\n      <td>8.02</td>\n      <td>NaN</td>\n    </tr>\n    <tr>\n      <th>1871-02-01</th>\n      <td>4.50</td>\n      <td>0.26</td>\n      <td>0.40</td>\n      <td>12.84</td>\n      <td>5.32</td>\n      <td>87.53</td>\n      <td>5.06</td>\n      <td>7.78</td>\n      <td>NaN</td>\n    </tr>\n    <tr>\n      <th>1871-03-01</th>\n      <td>4.61</td>\n      <td>0.26</td>\n      <td>0.40</td>\n      <td>13.03</td>\n      <td>5.33</td>\n      <td>88.36</td>\n      <td>4.98</td>\n      <td>7.67</td>\n      <td>NaN</td>\n    </tr>\n    <tr>\n      <th>1871-04-01</th>\n      <td>4.74</td>\n      <td>0.26</td>\n      <td>0.40</td>\n      <td>12.56</td>\n      <td>5.33</td>\n      <td>94.29</td>\n      <td>5.17</td>\n      <td>7.96</td>\n      <td>NaN</td>\n    </tr>\n    <tr>\n      <th>1871-05-01</th>\n      <td>4.86</td>\n      <td>0.26</td>\n      <td>0.40</td>\n      <td>12.27</td>\n      <td>5.33</td>\n      <td>98.93</td>\n      <td>5.29</td>\n      <td>8.14</td>\n      <td>NaN</td>\n    </tr>\n    <tr>\n      <th>...</th>\n      <td>...</td>\n      <td>...</td>\n      <td>...</td>\n      <td>...</td>\n      <td>...</td>\n      <td>...</td>\n      <td>...</td>\n      <td>...</td>\n      <td>...</td>\n    </tr>\n    <tr>\n      <th>2017-12-01</th>\n      <td>2664.34</td>\n      <td>48.93</td>\n      <td>109.88</td>\n      <td>246.52</td>\n      <td>2.40</td>\n      <td>2700.13</td>\n      <td>49.59</td>\n      <td>111.36</td>\n      <td>32.09</td>\n    </tr>\n    <tr>\n      <th>2018-01-01</th>\n      <td>2789.80</td>\n      <td>49.29</td>\n      <td>NaN</td>\n      <td>247.87</td>\n      <td>2.58</td>\n      <td>2811.96</td>\n      <td>49.68</td>\n      <td>NaN</td>\n      <td>33.31</td>\n    </tr>\n    <tr>\n      <th>2018-02-01</th>\n      <td>2705.16</td>\n      <td>49.64</td>\n      <td>NaN</td>\n      <td>248.99</td>\n      <td>2.86</td>\n      <td>2714.34</td>\n      <td>49.81</td>\n      <td>NaN</td>\n      <td>32.12</td>\n    </tr>\n    <tr>\n      <th>2018-03-01</th>\n      <td>2702.77</td>\n      <td>50.00</td>\n      <td>NaN</td>\n      <td>249.55</td>\n      <td>2.84</td>\n      <td>2705.82</td>\n      <td>50.06</td>\n      <td>NaN</td>\n      <td>31.99</td>\n    </tr>\n    <tr>\n      <th>2018-04-01</th>\n      <td>2642.19</td>\n      <td>NaN</td>\n      <td>NaN</td>\n      <td>249.84</td>\n      <td>2.80</td>\n      <td>2642.19</td>\n      <td>NaN</td>\n      <td>NaN</td>\n      <td>31.19</td>\n    </tr>\n  </tbody>\n</table>\n<p>1768 rows × 9 columns</p>\n</div>"
     },
     "metadata": {},
     "execution_count": 3
    }
   ],
   "source": [
    "sp500"
   ]
  },
  {
   "cell_type": "code",
   "execution_count": 14,
   "metadata": {},
   "outputs": [
    {
     "output_type": "execute_result",
     "data": {
      "text/plain": [
       "True"
      ]
     },
     "metadata": {},
     "execution_count": 14
    }
   ],
   "source": [
    "dates = pd.date_range(\n",
    "    sp500.index[0], sp500.index[-1], freq=\"MS\"\n",
    ")\n",
    "sp500.index.equals(dates)"
   ]
  },
  {
   "cell_type": "code",
   "execution_count": 5,
   "metadata": {},
   "outputs": [
    {
     "output_type": "execute_result",
     "data": {
      "text/plain": [
       "Date\n",
       "1871-01-01       4.44\n",
       "1871-02-01       4.50\n",
       "1871-03-01       4.61\n",
       "1871-04-01       4.74\n",
       "1871-05-01       4.86\n",
       "               ...   \n",
       "2017-12-01    2664.34\n",
       "2018-01-01    2789.80\n",
       "2018-02-01    2705.16\n",
       "2018-03-01    2702.77\n",
       "2018-04-01    2642.19\n",
       "Name: SP500, Length: 1768, dtype: float64"
      ]
     },
     "metadata": {},
     "execution_count": 5
    }
   ],
   "source": [
    "values = sp500[\"SP500\"]\n",
    "values"
   ]
  },
  {
   "cell_type": "code",
   "execution_count": 6,
   "metadata": {},
   "outputs": [
    {
     "output_type": "execute_result",
     "data": {
      "text/plain": [
       "array([   4.44,    4.5 ,    4.61, ..., 2705.16, 2702.77, 2642.19])"
      ]
     },
     "metadata": {},
     "execution_count": 6
    }
   ],
   "source": [
    "values_numpy = values.to_numpy()\n",
    "values_numpy"
   ]
  },
  {
   "cell_type": "code",
   "execution_count": 7,
   "metadata": {},
   "outputs": [
    {
     "output_type": "execute_result",
     "data": {
      "text/plain": [
       "array([       nan,  6.000e-02,  1.100e-01, ..., -8.464e+01, -2.390e+00,\n",
       "       -6.058e+01])"
      ]
     },
     "metadata": {},
     "execution_count": 7
    }
   ],
   "source": [
    "import numpy as np\n",
    "diffs = values_numpy[1:] - values_numpy[:-1]\n",
    "diffs\n",
    "diffs = np.concatenate([[np.nan], diffs])\n",
    "diffs"
   ]
  },
  {
   "cell_type": "code",
   "execution_count": 8,
   "metadata": {},
   "outputs": [],
   "source": [
    "sp500[\"Diff\"] = diffs"
   ]
  },
  {
   "cell_type": "code",
   "execution_count": 9,
   "metadata": {},
   "outputs": [
    {
     "output_type": "execute_result",
     "data": {
      "text/plain": [
       "              SP500  Dividend  Earnings  Consumer Price Index  \\\n",
       "Date                                                            \n",
       "1871-01-01     4.44      0.26      0.40                 12.46   \n",
       "1871-02-01     4.50      0.26      0.40                 12.84   \n",
       "1871-03-01     4.61      0.26      0.40                 13.03   \n",
       "1871-04-01     4.74      0.26      0.40                 12.56   \n",
       "1871-05-01     4.86      0.26      0.40                 12.27   \n",
       "...             ...       ...       ...                   ...   \n",
       "2017-12-01  2664.34     48.93    109.88                246.52   \n",
       "2018-01-01  2789.80     49.29       NaN                247.87   \n",
       "2018-02-01  2705.16     49.64       NaN                248.99   \n",
       "2018-03-01  2702.77     50.00       NaN                249.55   \n",
       "2018-04-01  2642.19       NaN       NaN                249.84   \n",
       "\n",
       "            Long Interest Rate  Real Price  Real Dividend  Real Earnings  \\\n",
       "Date                                                                       \n",
       "1871-01-01                5.32       89.00           5.21           8.02   \n",
       "1871-02-01                5.32       87.53           5.06           7.78   \n",
       "1871-03-01                5.33       88.36           4.98           7.67   \n",
       "1871-04-01                5.33       94.29           5.17           7.96   \n",
       "1871-05-01                5.33       98.93           5.29           8.14   \n",
       "...                        ...         ...            ...            ...   \n",
       "2017-12-01                2.40     2700.13          49.59         111.36   \n",
       "2018-01-01                2.58     2811.96          49.68            NaN   \n",
       "2018-02-01                2.86     2714.34          49.81            NaN   \n",
       "2018-03-01                2.84     2705.82          50.06            NaN   \n",
       "2018-04-01                2.80     2642.19            NaN            NaN   \n",
       "\n",
       "             PE10    Diff  Diff_Rel  \n",
       "Date                                 \n",
       "1871-01-01    NaN     NaN       NaN  \n",
       "1871-02-01    NaN    0.06  0.013333  \n",
       "1871-03-01    NaN    0.11  0.023861  \n",
       "1871-04-01    NaN    0.13  0.027426  \n",
       "1871-05-01    NaN    0.12  0.024691  \n",
       "...           ...     ...       ...  \n",
       "2017-12-01  32.09   70.73  0.026547  \n",
       "2018-01-01  33.31  125.46  0.044971  \n",
       "2018-02-01  32.12  -84.64 -0.031288  \n",
       "2018-03-01  31.99   -2.39 -0.000884  \n",
       "2018-04-01  31.19  -60.58 -0.022928  \n",
       "\n",
       "[1768 rows x 11 columns]"
      ],
      "text/html": "<div>\n<style scoped>\n    .dataframe tbody tr th:only-of-type {\n        vertical-align: middle;\n    }\n\n    .dataframe tbody tr th {\n        vertical-align: top;\n    }\n\n    .dataframe thead th {\n        text-align: right;\n    }\n</style>\n<table border=\"1\" class=\"dataframe\">\n  <thead>\n    <tr style=\"text-align: right;\">\n      <th></th>\n      <th>SP500</th>\n      <th>Dividend</th>\n      <th>Earnings</th>\n      <th>Consumer Price Index</th>\n      <th>Long Interest Rate</th>\n      <th>Real Price</th>\n      <th>Real Dividend</th>\n      <th>Real Earnings</th>\n      <th>PE10</th>\n      <th>Diff</th>\n      <th>Diff_Rel</th>\n    </tr>\n    <tr>\n      <th>Date</th>\n      <th></th>\n      <th></th>\n      <th></th>\n      <th></th>\n      <th></th>\n      <th></th>\n      <th></th>\n      <th></th>\n      <th></th>\n      <th></th>\n      <th></th>\n    </tr>\n  </thead>\n  <tbody>\n    <tr>\n      <th>1871-01-01</th>\n      <td>4.44</td>\n      <td>0.26</td>\n      <td>0.40</td>\n      <td>12.46</td>\n      <td>5.32</td>\n      <td>89.00</td>\n      <td>5.21</td>\n      <td>8.02</td>\n      <td>NaN</td>\n      <td>NaN</td>\n      <td>NaN</td>\n    </tr>\n    <tr>\n      <th>1871-02-01</th>\n      <td>4.50</td>\n      <td>0.26</td>\n      <td>0.40</td>\n      <td>12.84</td>\n      <td>5.32</td>\n      <td>87.53</td>\n      <td>5.06</td>\n      <td>7.78</td>\n      <td>NaN</td>\n      <td>0.06</td>\n      <td>0.013333</td>\n    </tr>\n    <tr>\n      <th>1871-03-01</th>\n      <td>4.61</td>\n      <td>0.26</td>\n      <td>0.40</td>\n      <td>13.03</td>\n      <td>5.33</td>\n      <td>88.36</td>\n      <td>4.98</td>\n      <td>7.67</td>\n      <td>NaN</td>\n      <td>0.11</td>\n      <td>0.023861</td>\n    </tr>\n    <tr>\n      <th>1871-04-01</th>\n      <td>4.74</td>\n      <td>0.26</td>\n      <td>0.40</td>\n      <td>12.56</td>\n      <td>5.33</td>\n      <td>94.29</td>\n      <td>5.17</td>\n      <td>7.96</td>\n      <td>NaN</td>\n      <td>0.13</td>\n      <td>0.027426</td>\n    </tr>\n    <tr>\n      <th>1871-05-01</th>\n      <td>4.86</td>\n      <td>0.26</td>\n      <td>0.40</td>\n      <td>12.27</td>\n      <td>5.33</td>\n      <td>98.93</td>\n      <td>5.29</td>\n      <td>8.14</td>\n      <td>NaN</td>\n      <td>0.12</td>\n      <td>0.024691</td>\n    </tr>\n    <tr>\n      <th>...</th>\n      <td>...</td>\n      <td>...</td>\n      <td>...</td>\n      <td>...</td>\n      <td>...</td>\n      <td>...</td>\n      <td>...</td>\n      <td>...</td>\n      <td>...</td>\n      <td>...</td>\n      <td>...</td>\n    </tr>\n    <tr>\n      <th>2017-12-01</th>\n      <td>2664.34</td>\n      <td>48.93</td>\n      <td>109.88</td>\n      <td>246.52</td>\n      <td>2.40</td>\n      <td>2700.13</td>\n      <td>49.59</td>\n      <td>111.36</td>\n      <td>32.09</td>\n      <td>70.73</td>\n      <td>0.026547</td>\n    </tr>\n    <tr>\n      <th>2018-01-01</th>\n      <td>2789.80</td>\n      <td>49.29</td>\n      <td>NaN</td>\n      <td>247.87</td>\n      <td>2.58</td>\n      <td>2811.96</td>\n      <td>49.68</td>\n      <td>NaN</td>\n      <td>33.31</td>\n      <td>125.46</td>\n      <td>0.044971</td>\n    </tr>\n    <tr>\n      <th>2018-02-01</th>\n      <td>2705.16</td>\n      <td>49.64</td>\n      <td>NaN</td>\n      <td>248.99</td>\n      <td>2.86</td>\n      <td>2714.34</td>\n      <td>49.81</td>\n      <td>NaN</td>\n      <td>32.12</td>\n      <td>-84.64</td>\n      <td>-0.031288</td>\n    </tr>\n    <tr>\n      <th>2018-03-01</th>\n      <td>2702.77</td>\n      <td>50.00</td>\n      <td>NaN</td>\n      <td>249.55</td>\n      <td>2.84</td>\n      <td>2705.82</td>\n      <td>50.06</td>\n      <td>NaN</td>\n      <td>31.99</td>\n      <td>-2.39</td>\n      <td>-0.000884</td>\n    </tr>\n    <tr>\n      <th>2018-04-01</th>\n      <td>2642.19</td>\n      <td>NaN</td>\n      <td>NaN</td>\n      <td>249.84</td>\n      <td>2.80</td>\n      <td>2642.19</td>\n      <td>NaN</td>\n      <td>NaN</td>\n      <td>31.19</td>\n      <td>-60.58</td>\n      <td>-0.022928</td>\n    </tr>\n  </tbody>\n</table>\n<p>1768 rows × 11 columns</p>\n</div>"
     },
     "metadata": {},
     "execution_count": 9
    }
   ],
   "source": [
    "sp500[\"Diff_Rel\"] = sp500[\"Diff\"] / sp500[\"SP500\"]\n",
    "sp500"
   ]
  },
  {
   "cell_type": "code",
   "execution_count": 10,
   "metadata": {},
   "outputs": [
    {
     "output_type": "execute_result",
     "data": {
      "text/plain": [
       "Timestamp('1929-11-01 00:00:00')"
      ]
     },
     "metadata": {},
     "execution_count": 10
    }
   ],
   "source": [
    "sp500[\"Diff_Rel\"].idxmin()"
   ]
  },
  {
   "cell_type": "code",
   "execution_count": 11,
   "metadata": {},
   "outputs": [
    {
     "output_type": "execute_result",
     "data": {
      "text/plain": [
       "-0.3600583090379009"
      ]
     },
     "metadata": {},
     "execution_count": 11
    }
   ],
   "source": [
    "sp500[\"Diff_Rel\"].min()"
   ]
  },
  {
   "cell_type": "code",
   "execution_count": 12,
   "metadata": {},
   "outputs": [],
   "source": [
    "def classifier(value):\n",
    "    if value < -0.02:\n",
    "        return -1\n",
    "    elif value < 0.02:\n",
    "        return 0\n",
    "    else:\n",
    "        return 1\n",
    "\n",
    "sp500[\"Class\"] = sp500[\"Diff_Rel\"].apply(classifier)\n",
    "#df[\"class\"] = df[\"value\"].apply(classifier)"
   ]
  },
  {
   "cell_type": "code",
   "execution_count": 13,
   "metadata": {},
   "outputs": [
    {
     "output_type": "execute_result",
     "data": {
      "text/plain": [
       "              SP500  Dividend  Earnings  Consumer Price Index  \\\n",
       "Date                                                            \n",
       "1971-04-01   103.00      3.11      5.25                 40.10   \n",
       "1928-03-01    18.25      0.79      1.18                 17.10   \n",
       "1976-12-01   104.70      4.05      9.91                 58.20   \n",
       "1972-02-01   105.20      3.07      5.77                 41.30   \n",
       "1945-05-01    14.82      0.65      0.99                 17.90   \n",
       "1935-02-01     8.98      0.45      0.65                 13.70   \n",
       "1985-04-01   180.60      7.69     16.13                106.90   \n",
       "1985-05-01   184.90      7.71     15.87                107.30   \n",
       "1893-04-01     5.31      0.24      0.33                  7.71   \n",
       "1962-03-01    70.29      2.04      3.37                 30.10   \n",
       "1914-05-01     8.17      0.46      0.58                  9.90   \n",
       "1887-12-01     5.27      0.25      0.36                  8.28   \n",
       "1982-12-01   139.40      6.87     12.64                 97.60   \n",
       "1932-12-01     6.82      0.50      0.41                 13.10   \n",
       "1957-11-01    40.35      1.78      3.40                 28.40   \n",
       "1998-10-01  1032.47     16.17     37.96                164.00   \n",
       "2003-03-01   846.63     16.22     30.32                184.20   \n",
       "2006-10-01  1363.38     24.36     79.55                201.80   \n",
       "1976-11-01   101.20      3.98      9.79                 58.00   \n",
       "1945-02-01    13.94      0.65      0.95                 17.80   \n",
       "1992-07-01   415.05     12.34     17.38                140.50   \n",
       "1954-02-01    26.02      1.46      2.54                 26.90   \n",
       "2009-04-01   848.15     26.70      7.08                213.24   \n",
       "1935-03-01     8.41      0.45      0.73                 13.70   \n",
       "1981-07-01   129.10      6.43     15.10                 91.60   \n",
       "1874-12-01     4.54      0.33      0.46                 11.51   \n",
       "1875-02-01     4.53      0.33      0.44                 11.51   \n",
       "1963-06-01    70.11      2.20      3.84                 30.60   \n",
       "1966-01-01    93.32      2.74      5.24                 31.80   \n",
       "1977-02-01   101.00      4.14     10.02                 59.10   \n",
       "\n",
       "            Long Interest Rate  Real Price  Real Dividend  Real Earnings  \\\n",
       "Date                                                                       \n",
       "1971-04-01                5.83      641.72          19.36          32.73   \n",
       "1928-03-01                3.38      266.64          11.54          17.20   \n",
       "1976-12-01                6.87      449.45          17.39          42.54   \n",
       "1972-02-01                6.08      636.38          18.57          34.92   \n",
       "1945-05-01                2.31      206.85           9.07          13.77   \n",
       "1935-02-01                2.78      163.76           8.21          11.85   \n",
       "1985-04-01               11.43      422.08          17.96          37.70   \n",
       "1985-05-01               10.85      430.52          17.96          36.95   \n",
       "1893-04-01                3.74      172.14           7.89          10.80   \n",
       "1962-03-01                3.93      583.42          16.93          27.97   \n",
       "1914-05-01                4.19      206.18          11.48          14.74   \n",
       "1887-12-01                3.66      159.06           7.55          10.87   \n",
       "1982-12-01               10.54      356.83          17.59          32.36   \n",
       "1932-12-01                3.34      130.07           9.54           7.82   \n",
       "1957-11-01                3.72      354.96          15.66          29.94   \n",
       "1998-10-01                4.53     1572.85          24.63          57.83   \n",
       "2003-03-01                3.81     1148.31          22.00          41.12   \n",
       "2006-10-01                4.73     1687.91          30.16          98.49   \n",
       "1976-11-01                7.29      435.92          17.16          42.17   \n",
       "1945-02-01                2.35      195.66           9.08          13.33   \n",
       "1992-07-01                6.84      738.04          21.95          30.90   \n",
       "1954-02-01                2.47      241.66          13.59          23.56   \n",
       "2009-04-01                2.93      993.71          31.29           8.29   \n",
       "1935-03-01                2.77      153.37           8.21          13.31   \n",
       "1981-07-01               14.28      352.12          17.55          41.18   \n",
       "1874-12-01                5.10       98.52           7.16           9.98   \n",
       "1875-02-01                5.03       98.31           7.05           9.62   \n",
       "1963-06-01                3.99      572.42          17.96          31.35   \n",
       "1966-01-01                4.61      733.17          21.53          41.17   \n",
       "1977-02-01                7.39      426.96          17.52          42.37   \n",
       "\n",
       "             PE10   Diff  Diff_Rel  Class  \n",
       "Date                                       \n",
       "1971-04-01  17.92   3.40  0.033010      1  \n",
       "1928-03-01  19.94   0.93  0.050959      1  \n",
       "1976-12-01  11.60   3.50  0.033429      1  \n",
       "1972-02-01  17.46   1.90  0.018061      0  \n",
       "1945-05-01  13.04   0.54  0.036437      1  \n",
       "1935-02-01  11.09  -0.28 -0.031180     -1  \n",
       "1985-04-01  10.40   1.20  0.006645      0  \n",
       "1985-05-01  10.61   4.30  0.023256      1  \n",
       "1893-04-01  17.10   0.00  0.000000      0  \n",
       "1962-03-01  21.44   0.07  0.000996      0  \n",
       "1914-05-01  11.48   0.05  0.006120      0  \n",
       "1887-12-01  15.46  -0.03 -0.005693      0  \n",
       "1982-12-01   8.47   1.30  0.009326      0  \n",
       "1932-12-01   8.26  -0.23 -0.033724     -1  \n",
       "1957-11-01  13.74  -0.89 -0.022057     -1  \n",
       "1998-10-01  33.77  11.83  0.011458      0  \n",
       "2003-03-01  21.31   9.60  0.011339      0  \n",
       "2006-10-01  26.54  45.64  0.033476      1  \n",
       "1976-11-01  11.25  -0.70 -0.006917      0  \n",
       "1945-02-01  12.34   0.45  0.032281      1  \n",
       "1992-07-01  19.62   6.78  0.016335      0  \n",
       "1954-02-01  12.22   0.56  0.021522      1  \n",
       "2009-04-01  14.98  91.02  0.107316      1  \n",
       "1935-03-01  10.40  -0.57 -0.067776     -1  \n",
       "1981-07-01   8.45  -3.20 -0.024787     -1  \n",
       "1874-12-01    NaN  -0.03 -0.006608      0  \n",
       "1875-02-01    NaN  -0.01 -0.002208      0  \n",
       "1963-06-01  20.38  -0.03 -0.000428      0  \n",
       "1966-01-01  24.06   1.59  0.017038      0  \n",
       "1977-02-01  11.01  -2.80 -0.027723     -1  "
      ],
      "text/html": "<div>\n<style scoped>\n    .dataframe tbody tr th:only-of-type {\n        vertical-align: middle;\n    }\n\n    .dataframe tbody tr th {\n        vertical-align: top;\n    }\n\n    .dataframe thead th {\n        text-align: right;\n    }\n</style>\n<table border=\"1\" class=\"dataframe\">\n  <thead>\n    <tr style=\"text-align: right;\">\n      <th></th>\n      <th>SP500</th>\n      <th>Dividend</th>\n      <th>Earnings</th>\n      <th>Consumer Price Index</th>\n      <th>Long Interest Rate</th>\n      <th>Real Price</th>\n      <th>Real Dividend</th>\n      <th>Real Earnings</th>\n      <th>PE10</th>\n      <th>Diff</th>\n      <th>Diff_Rel</th>\n      <th>Class</th>\n    </tr>\n    <tr>\n      <th>Date</th>\n      <th></th>\n      <th></th>\n      <th></th>\n      <th></th>\n      <th></th>\n      <th></th>\n      <th></th>\n      <th></th>\n      <th></th>\n      <th></th>\n      <th></th>\n      <th></th>\n    </tr>\n  </thead>\n  <tbody>\n    <tr>\n      <th>1971-04-01</th>\n      <td>103.00</td>\n      <td>3.11</td>\n      <td>5.25</td>\n      <td>40.10</td>\n      <td>5.83</td>\n      <td>641.72</td>\n      <td>19.36</td>\n      <td>32.73</td>\n      <td>17.92</td>\n      <td>3.40</td>\n      <td>0.033010</td>\n      <td>1</td>\n    </tr>\n    <tr>\n      <th>1928-03-01</th>\n      <td>18.25</td>\n      <td>0.79</td>\n      <td>1.18</td>\n      <td>17.10</td>\n      <td>3.38</td>\n      <td>266.64</td>\n      <td>11.54</td>\n      <td>17.20</td>\n      <td>19.94</td>\n      <td>0.93</td>\n      <td>0.050959</td>\n      <td>1</td>\n    </tr>\n    <tr>\n      <th>1976-12-01</th>\n      <td>104.70</td>\n      <td>4.05</td>\n      <td>9.91</td>\n      <td>58.20</td>\n      <td>6.87</td>\n      <td>449.45</td>\n      <td>17.39</td>\n      <td>42.54</td>\n      <td>11.60</td>\n      <td>3.50</td>\n      <td>0.033429</td>\n      <td>1</td>\n    </tr>\n    <tr>\n      <th>1972-02-01</th>\n      <td>105.20</td>\n      <td>3.07</td>\n      <td>5.77</td>\n      <td>41.30</td>\n      <td>6.08</td>\n      <td>636.38</td>\n      <td>18.57</td>\n      <td>34.92</td>\n      <td>17.46</td>\n      <td>1.90</td>\n      <td>0.018061</td>\n      <td>0</td>\n    </tr>\n    <tr>\n      <th>1945-05-01</th>\n      <td>14.82</td>\n      <td>0.65</td>\n      <td>0.99</td>\n      <td>17.90</td>\n      <td>2.31</td>\n      <td>206.85</td>\n      <td>9.07</td>\n      <td>13.77</td>\n      <td>13.04</td>\n      <td>0.54</td>\n      <td>0.036437</td>\n      <td>1</td>\n    </tr>\n    <tr>\n      <th>1935-02-01</th>\n      <td>8.98</td>\n      <td>0.45</td>\n      <td>0.65</td>\n      <td>13.70</td>\n      <td>2.78</td>\n      <td>163.76</td>\n      <td>8.21</td>\n      <td>11.85</td>\n      <td>11.09</td>\n      <td>-0.28</td>\n      <td>-0.031180</td>\n      <td>-1</td>\n    </tr>\n    <tr>\n      <th>1985-04-01</th>\n      <td>180.60</td>\n      <td>7.69</td>\n      <td>16.13</td>\n      <td>106.90</td>\n      <td>11.43</td>\n      <td>422.08</td>\n      <td>17.96</td>\n      <td>37.70</td>\n      <td>10.40</td>\n      <td>1.20</td>\n      <td>0.006645</td>\n      <td>0</td>\n    </tr>\n    <tr>\n      <th>1985-05-01</th>\n      <td>184.90</td>\n      <td>7.71</td>\n      <td>15.87</td>\n      <td>107.30</td>\n      <td>10.85</td>\n      <td>430.52</td>\n      <td>17.96</td>\n      <td>36.95</td>\n      <td>10.61</td>\n      <td>4.30</td>\n      <td>0.023256</td>\n      <td>1</td>\n    </tr>\n    <tr>\n      <th>1893-04-01</th>\n      <td>5.31</td>\n      <td>0.24</td>\n      <td>0.33</td>\n      <td>7.71</td>\n      <td>3.74</td>\n      <td>172.14</td>\n      <td>7.89</td>\n      <td>10.80</td>\n      <td>17.10</td>\n      <td>0.00</td>\n      <td>0.000000</td>\n      <td>0</td>\n    </tr>\n    <tr>\n      <th>1962-03-01</th>\n      <td>70.29</td>\n      <td>2.04</td>\n      <td>3.37</td>\n      <td>30.10</td>\n      <td>3.93</td>\n      <td>583.42</td>\n      <td>16.93</td>\n      <td>27.97</td>\n      <td>21.44</td>\n      <td>0.07</td>\n      <td>0.000996</td>\n      <td>0</td>\n    </tr>\n    <tr>\n      <th>1914-05-01</th>\n      <td>8.17</td>\n      <td>0.46</td>\n      <td>0.58</td>\n      <td>9.90</td>\n      <td>4.19</td>\n      <td>206.18</td>\n      <td>11.48</td>\n      <td>14.74</td>\n      <td>11.48</td>\n      <td>0.05</td>\n      <td>0.006120</td>\n      <td>0</td>\n    </tr>\n    <tr>\n      <th>1887-12-01</th>\n      <td>5.27</td>\n      <td>0.25</td>\n      <td>0.36</td>\n      <td>8.28</td>\n      <td>3.66</td>\n      <td>159.06</td>\n      <td>7.55</td>\n      <td>10.87</td>\n      <td>15.46</td>\n      <td>-0.03</td>\n      <td>-0.005693</td>\n      <td>0</td>\n    </tr>\n    <tr>\n      <th>1982-12-01</th>\n      <td>139.40</td>\n      <td>6.87</td>\n      <td>12.64</td>\n      <td>97.60</td>\n      <td>10.54</td>\n      <td>356.83</td>\n      <td>17.59</td>\n      <td>32.36</td>\n      <td>8.47</td>\n      <td>1.30</td>\n      <td>0.009326</td>\n      <td>0</td>\n    </tr>\n    <tr>\n      <th>1932-12-01</th>\n      <td>6.82</td>\n      <td>0.50</td>\n      <td>0.41</td>\n      <td>13.10</td>\n      <td>3.34</td>\n      <td>130.07</td>\n      <td>9.54</td>\n      <td>7.82</td>\n      <td>8.26</td>\n      <td>-0.23</td>\n      <td>-0.033724</td>\n      <td>-1</td>\n    </tr>\n    <tr>\n      <th>1957-11-01</th>\n      <td>40.35</td>\n      <td>1.78</td>\n      <td>3.40</td>\n      <td>28.40</td>\n      <td>3.72</td>\n      <td>354.96</td>\n      <td>15.66</td>\n      <td>29.94</td>\n      <td>13.74</td>\n      <td>-0.89</td>\n      <td>-0.022057</td>\n      <td>-1</td>\n    </tr>\n    <tr>\n      <th>1998-10-01</th>\n      <td>1032.47</td>\n      <td>16.17</td>\n      <td>37.96</td>\n      <td>164.00</td>\n      <td>4.53</td>\n      <td>1572.85</td>\n      <td>24.63</td>\n      <td>57.83</td>\n      <td>33.77</td>\n      <td>11.83</td>\n      <td>0.011458</td>\n      <td>0</td>\n    </tr>\n    <tr>\n      <th>2003-03-01</th>\n      <td>846.63</td>\n      <td>16.22</td>\n      <td>30.32</td>\n      <td>184.20</td>\n      <td>3.81</td>\n      <td>1148.31</td>\n      <td>22.00</td>\n      <td>41.12</td>\n      <td>21.31</td>\n      <td>9.60</td>\n      <td>0.011339</td>\n      <td>0</td>\n    </tr>\n    <tr>\n      <th>2006-10-01</th>\n      <td>1363.38</td>\n      <td>24.36</td>\n      <td>79.55</td>\n      <td>201.80</td>\n      <td>4.73</td>\n      <td>1687.91</td>\n      <td>30.16</td>\n      <td>98.49</td>\n      <td>26.54</td>\n      <td>45.64</td>\n      <td>0.033476</td>\n      <td>1</td>\n    </tr>\n    <tr>\n      <th>1976-11-01</th>\n      <td>101.20</td>\n      <td>3.98</td>\n      <td>9.79</td>\n      <td>58.00</td>\n      <td>7.29</td>\n      <td>435.92</td>\n      <td>17.16</td>\n      <td>42.17</td>\n      <td>11.25</td>\n      <td>-0.70</td>\n      <td>-0.006917</td>\n      <td>0</td>\n    </tr>\n    <tr>\n      <th>1945-02-01</th>\n      <td>13.94</td>\n      <td>0.65</td>\n      <td>0.95</td>\n      <td>17.80</td>\n      <td>2.35</td>\n      <td>195.66</td>\n      <td>9.08</td>\n      <td>13.33</td>\n      <td>12.34</td>\n      <td>0.45</td>\n      <td>0.032281</td>\n      <td>1</td>\n    </tr>\n    <tr>\n      <th>1992-07-01</th>\n      <td>415.05</td>\n      <td>12.34</td>\n      <td>17.38</td>\n      <td>140.50</td>\n      <td>6.84</td>\n      <td>738.04</td>\n      <td>21.95</td>\n      <td>30.90</td>\n      <td>19.62</td>\n      <td>6.78</td>\n      <td>0.016335</td>\n      <td>0</td>\n    </tr>\n    <tr>\n      <th>1954-02-01</th>\n      <td>26.02</td>\n      <td>1.46</td>\n      <td>2.54</td>\n      <td>26.90</td>\n      <td>2.47</td>\n      <td>241.66</td>\n      <td>13.59</td>\n      <td>23.56</td>\n      <td>12.22</td>\n      <td>0.56</td>\n      <td>0.021522</td>\n      <td>1</td>\n    </tr>\n    <tr>\n      <th>2009-04-01</th>\n      <td>848.15</td>\n      <td>26.70</td>\n      <td>7.08</td>\n      <td>213.24</td>\n      <td>2.93</td>\n      <td>993.71</td>\n      <td>31.29</td>\n      <td>8.29</td>\n      <td>14.98</td>\n      <td>91.02</td>\n      <td>0.107316</td>\n      <td>1</td>\n    </tr>\n    <tr>\n      <th>1935-03-01</th>\n      <td>8.41</td>\n      <td>0.45</td>\n      <td>0.73</td>\n      <td>13.70</td>\n      <td>2.77</td>\n      <td>153.37</td>\n      <td>8.21</td>\n      <td>13.31</td>\n      <td>10.40</td>\n      <td>-0.57</td>\n      <td>-0.067776</td>\n      <td>-1</td>\n    </tr>\n    <tr>\n      <th>1981-07-01</th>\n      <td>129.10</td>\n      <td>6.43</td>\n      <td>15.10</td>\n      <td>91.60</td>\n      <td>14.28</td>\n      <td>352.12</td>\n      <td>17.55</td>\n      <td>41.18</td>\n      <td>8.45</td>\n      <td>-3.20</td>\n      <td>-0.024787</td>\n      <td>-1</td>\n    </tr>\n    <tr>\n      <th>1874-12-01</th>\n      <td>4.54</td>\n      <td>0.33</td>\n      <td>0.46</td>\n      <td>11.51</td>\n      <td>5.10</td>\n      <td>98.52</td>\n      <td>7.16</td>\n      <td>9.98</td>\n      <td>NaN</td>\n      <td>-0.03</td>\n      <td>-0.006608</td>\n      <td>0</td>\n    </tr>\n    <tr>\n      <th>1875-02-01</th>\n      <td>4.53</td>\n      <td>0.33</td>\n      <td>0.44</td>\n      <td>11.51</td>\n      <td>5.03</td>\n      <td>98.31</td>\n      <td>7.05</td>\n      <td>9.62</td>\n      <td>NaN</td>\n      <td>-0.01</td>\n      <td>-0.002208</td>\n      <td>0</td>\n    </tr>\n    <tr>\n      <th>1963-06-01</th>\n      <td>70.11</td>\n      <td>2.20</td>\n      <td>3.84</td>\n      <td>30.60</td>\n      <td>3.99</td>\n      <td>572.42</td>\n      <td>17.96</td>\n      <td>31.35</td>\n      <td>20.38</td>\n      <td>-0.03</td>\n      <td>-0.000428</td>\n      <td>0</td>\n    </tr>\n    <tr>\n      <th>1966-01-01</th>\n      <td>93.32</td>\n      <td>2.74</td>\n      <td>5.24</td>\n      <td>31.80</td>\n      <td>4.61</td>\n      <td>733.17</td>\n      <td>21.53</td>\n      <td>41.17</td>\n      <td>24.06</td>\n      <td>1.59</td>\n      <td>0.017038</td>\n      <td>0</td>\n    </tr>\n    <tr>\n      <th>1977-02-01</th>\n      <td>101.00</td>\n      <td>4.14</td>\n      <td>10.02</td>\n      <td>59.10</td>\n      <td>7.39</td>\n      <td>426.96</td>\n      <td>17.52</td>\n      <td>42.37</td>\n      <td>11.01</td>\n      <td>-2.80</td>\n      <td>-0.027723</td>\n      <td>-1</td>\n    </tr>\n  </tbody>\n</table>\n</div>"
     },
     "metadata": {},
     "execution_count": 13
    }
   ],
   "source": [
    "sp500.sample(n=30)"
   ]
  },
  {
   "cell_type": "code",
   "execution_count": null,
   "metadata": {},
   "outputs": [],
   "source": []
  }
 ]
}