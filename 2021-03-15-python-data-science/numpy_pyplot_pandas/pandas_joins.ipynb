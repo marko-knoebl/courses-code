{
 "metadata": {
  "language_info": {
   "codemirror_mode": {
    "name": "ipython",
    "version": 3
   },
   "file_extension": ".py",
   "mimetype": "text/x-python",
   "name": "python",
   "nbconvert_exporter": "python",
   "pygments_lexer": "ipython3",
   "version": "3.9.1-final"
  },
  "orig_nbformat": 2,
  "kernelspec": {
   "name": "python3",
   "display_name": "Python 3.9.1 64-bit",
   "metadata": {
    "interpreter": {
     "hash": "ae90dfe03a2ff2a8ba59a379b95d74bdb27cf9a7ce93f86ebd19f2fc7c49c750"
    }
   }
  }
 },
 "nbformat": 4,
 "nbformat_minor": 2,
 "cells": [
  {
   "cell_type": "code",
   "execution_count": 1,
   "metadata": {},
   "outputs": [],
   "source": [
    "import pandas as pd"
   ]
  },
  {
   "cell_type": "code",
   "execution_count": 2,
   "metadata": {},
   "outputs": [
    {
     "output_type": "execute_result",
     "data": {
      "text/plain": [
       "          Date    SP500  Dividend  Earnings  Consumer Price Index  \\\n",
       "0   1999-01-01  1248.77     16.28     37.93                164.30   \n",
       "1   1999-02-01  1246.58     16.37     38.16                164.50   \n",
       "2   1999-03-01  1281.66     16.45     38.38                165.00   \n",
       "3   1999-04-01  1334.76     16.45     39.26                166.20   \n",
       "4   1999-06-01  1322.55     16.45     41.02                166.20   \n",
       "..         ...      ...       ...       ...                   ...   \n",
       "128 2016-09-01  2157.69     45.03     89.09                241.43   \n",
       "129 2016-11-01  2164.99     45.48     92.73                241.35   \n",
       "130 2016-12-01  2246.63     45.70     94.55                241.43   \n",
       "131 2017-02-01  2329.91     46.15     98.38                243.60   \n",
       "132 2017-03-01  2366.82     46.38    100.29                243.80   \n",
       "\n",
       "     Long Interest Rate  Real Price  Real Dividend  Real Earnings   PE10  \\\n",
       "0                  4.72     1898.89          24.76          57.68  40.58   \n",
       "1                  5.00     1893.25          24.86          57.95  40.40   \n",
       "2                  5.23     1940.63          24.91          58.11  41.36   \n",
       "3                  5.18     2006.44          24.73          59.02  42.70   \n",
       "4                  5.90     1988.09          24.73          61.66  42.18   \n",
       "..                  ...         ...            ...            ...    ...   \n",
       "128                1.63     2232.83          46.60          92.19  26.73   \n",
       "129                2.14     2241.08          47.07          95.99  26.85   \n",
       "130                2.49     2324.83          47.29          97.84  27.87   \n",
       "131                2.42     2389.52          47.33         100.89  28.66   \n",
       "132                2.48     2425.40          47.53         102.77  29.09   \n",
       "\n",
       "          date   rate  \n",
       "0   1999-01-01  3.213  \n",
       "1   1999-02-01  2.998  \n",
       "2   1999-03-01  3.079  \n",
       "3   1999-04-01  2.939  \n",
       "4   1999-06-01  2.735  \n",
       "..         ...    ...  \n",
       "128 2016-09-01 -0.051  \n",
       "129 2016-11-01 -0.069  \n",
       "130 2016-12-01 -0.079  \n",
       "131 2017-02-01 -0.103  \n",
       "132 2017-03-01 -0.114  \n",
       "\n",
       "[133 rows x 12 columns]"
      ],
      "text/html": "<div>\n<style scoped>\n    .dataframe tbody tr th:only-of-type {\n        vertical-align: middle;\n    }\n\n    .dataframe tbody tr th {\n        vertical-align: top;\n    }\n\n    .dataframe thead th {\n        text-align: right;\n    }\n</style>\n<table border=\"1\" class=\"dataframe\">\n  <thead>\n    <tr style=\"text-align: right;\">\n      <th></th>\n      <th>Date</th>\n      <th>SP500</th>\n      <th>Dividend</th>\n      <th>Earnings</th>\n      <th>Consumer Price Index</th>\n      <th>Long Interest Rate</th>\n      <th>Real Price</th>\n      <th>Real Dividend</th>\n      <th>Real Earnings</th>\n      <th>PE10</th>\n      <th>date</th>\n      <th>rate</th>\n    </tr>\n  </thead>\n  <tbody>\n    <tr>\n      <th>0</th>\n      <td>1999-01-01</td>\n      <td>1248.77</td>\n      <td>16.28</td>\n      <td>37.93</td>\n      <td>164.30</td>\n      <td>4.72</td>\n      <td>1898.89</td>\n      <td>24.76</td>\n      <td>57.68</td>\n      <td>40.58</td>\n      <td>1999-01-01</td>\n      <td>3.213</td>\n    </tr>\n    <tr>\n      <th>1</th>\n      <td>1999-02-01</td>\n      <td>1246.58</td>\n      <td>16.37</td>\n      <td>38.16</td>\n      <td>164.50</td>\n      <td>5.00</td>\n      <td>1893.25</td>\n      <td>24.86</td>\n      <td>57.95</td>\n      <td>40.40</td>\n      <td>1999-02-01</td>\n      <td>2.998</td>\n    </tr>\n    <tr>\n      <th>2</th>\n      <td>1999-03-01</td>\n      <td>1281.66</td>\n      <td>16.45</td>\n      <td>38.38</td>\n      <td>165.00</td>\n      <td>5.23</td>\n      <td>1940.63</td>\n      <td>24.91</td>\n      <td>58.11</td>\n      <td>41.36</td>\n      <td>1999-03-01</td>\n      <td>3.079</td>\n    </tr>\n    <tr>\n      <th>3</th>\n      <td>1999-04-01</td>\n      <td>1334.76</td>\n      <td>16.45</td>\n      <td>39.26</td>\n      <td>166.20</td>\n      <td>5.18</td>\n      <td>2006.44</td>\n      <td>24.73</td>\n      <td>59.02</td>\n      <td>42.70</td>\n      <td>1999-04-01</td>\n      <td>2.939</td>\n    </tr>\n    <tr>\n      <th>4</th>\n      <td>1999-06-01</td>\n      <td>1322.55</td>\n      <td>16.45</td>\n      <td>41.02</td>\n      <td>166.20</td>\n      <td>5.90</td>\n      <td>1988.09</td>\n      <td>24.73</td>\n      <td>61.66</td>\n      <td>42.18</td>\n      <td>1999-06-01</td>\n      <td>2.735</td>\n    </tr>\n    <tr>\n      <th>...</th>\n      <td>...</td>\n      <td>...</td>\n      <td>...</td>\n      <td>...</td>\n      <td>...</td>\n      <td>...</td>\n      <td>...</td>\n      <td>...</td>\n      <td>...</td>\n      <td>...</td>\n      <td>...</td>\n      <td>...</td>\n    </tr>\n    <tr>\n      <th>128</th>\n      <td>2016-09-01</td>\n      <td>2157.69</td>\n      <td>45.03</td>\n      <td>89.09</td>\n      <td>241.43</td>\n      <td>1.63</td>\n      <td>2232.83</td>\n      <td>46.60</td>\n      <td>92.19</td>\n      <td>26.73</td>\n      <td>2016-09-01</td>\n      <td>-0.051</td>\n    </tr>\n    <tr>\n      <th>129</th>\n      <td>2016-11-01</td>\n      <td>2164.99</td>\n      <td>45.48</td>\n      <td>92.73</td>\n      <td>241.35</td>\n      <td>2.14</td>\n      <td>2241.08</td>\n      <td>47.07</td>\n      <td>95.99</td>\n      <td>26.85</td>\n      <td>2016-11-01</td>\n      <td>-0.069</td>\n    </tr>\n    <tr>\n      <th>130</th>\n      <td>2016-12-01</td>\n      <td>2246.63</td>\n      <td>45.70</td>\n      <td>94.55</td>\n      <td>241.43</td>\n      <td>2.49</td>\n      <td>2324.83</td>\n      <td>47.29</td>\n      <td>97.84</td>\n      <td>27.87</td>\n      <td>2016-12-01</td>\n      <td>-0.079</td>\n    </tr>\n    <tr>\n      <th>131</th>\n      <td>2017-02-01</td>\n      <td>2329.91</td>\n      <td>46.15</td>\n      <td>98.38</td>\n      <td>243.60</td>\n      <td>2.42</td>\n      <td>2389.52</td>\n      <td>47.33</td>\n      <td>100.89</td>\n      <td>28.66</td>\n      <td>2017-02-01</td>\n      <td>-0.103</td>\n    </tr>\n    <tr>\n      <th>132</th>\n      <td>2017-03-01</td>\n      <td>2366.82</td>\n      <td>46.38</td>\n      <td>100.29</td>\n      <td>243.80</td>\n      <td>2.48</td>\n      <td>2425.40</td>\n      <td>47.53</td>\n      <td>102.77</td>\n      <td>29.09</td>\n      <td>2017-03-01</td>\n      <td>-0.114</td>\n    </tr>\n  </tbody>\n</table>\n<p>133 rows × 12 columns</p>\n</div>"
     },
     "metadata": {},
     "execution_count": 2
    }
   ],
   "source": [
    "sp500_no_index = pd.read_csv(\n",
    "    \"https://datahub.io/core/s-and-p-500/r/data.csv\",\n",
    "    parse_dates=[\"Date\"],\n",
    ")\n",
    "euribor_no_index = pd.read_csv(\n",
    "    \"https://datahub.io/core/euribor/r/euribor-12m-monthly.csv\",\n",
    "    parse_dates=[\"date\"],\n",
    "    usecols=[\"date\", \"rate\"]\n",
    ")\n",
    "\n",
    "pd.merge(sp500_no_index, euribor_no_index, left_on=\"Date\",\n",
    "         right_on=\"date\")"
   ]
  },
  {
   "cell_type": "code",
   "execution_count": null,
   "metadata": {},
   "outputs": [],
   "source": []
  }
 ]
}