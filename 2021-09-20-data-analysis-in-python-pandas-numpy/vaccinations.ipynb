{
 "cells": [
  {
   "cell_type": "code",
   "execution_count": 12,
   "id": "f8312e8c",
   "metadata": {},
   "outputs": [],
   "source": [
    "import pandas as pd\n",
    "\n",
    "vaccinations = pd.read_csv(\n",
    "    \"https://raw.githubusercontent.com/owid/covid-19-data/master/public/data/vaccinations/vaccinations.csv\",\n",
    "    index_col=[\"location\", \"date\"],\n",
    "    parse_dates=[\"date\"]\n",
    ")[\"people_fully_vaccinated_per_hundred\"]"
   ]
  },
  {
   "cell_type": "code",
   "execution_count": 13,
   "id": "705944af",
   "metadata": {},
   "outputs": [
    {
     "data": {
      "text/plain": [
       "location     date      \n",
       "Afghanistan  2021-02-22      NaN\n",
       "             2021-02-23      NaN\n",
       "             2021-02-24      NaN\n",
       "             2021-02-25      NaN\n",
       "             2021-02-26      NaN\n",
       "                           ...  \n",
       "Zimbabwe     2021-09-18    13.59\n",
       "             2021-09-19    13.69\n",
       "             2021-09-20    13.80\n",
       "             2021-09-21    13.97\n",
       "             2021-09-22    14.12\n",
       "Name: people_fully_vaccinated_per_hundred, Length: 49729, dtype: float64"
      ]
     },
     "execution_count": 13,
     "metadata": {},
     "output_type": "execute_result"
    }
   ],
   "source": [
    "vaccinations"
   ]
  },
  {
   "cell_type": "code",
   "execution_count": 22,
   "id": "3fd7cdf8",
   "metadata": {},
   "outputs": [],
   "source": [
    "vaccinations_2021_08 = vaccinations[:, \"2021-08-01\"]"
   ]
  },
  {
   "cell_type": "code",
   "execution_count": 8,
   "id": "c1710580",
   "metadata": {},
   "outputs": [],
   "source": [
    "gdp = pd.read_csv(\n",
    "    \"https://raw.githubusercontent.com/owid/owid-datasets/master/datasets/Maddison%20Project%20Database%202020%20(Bolt%20and%20van%20Zanden%20(2020))/Maddison%20Project%20Database%202020%20(Bolt%20and%20van%20Zanden%20(2020)).csv\",\n",
    "    index_col=[\"Entity\", \"Year\"]\n",
    ")[\"GDP per capita\"]"
   ]
  },
  {
   "cell_type": "code",
   "execution_count": 20,
   "id": "80c274eb",
   "metadata": {},
   "outputs": [],
   "source": [
    "gdp_2018 = gdp[:, 2018]"
   ]
  },
  {
   "cell_type": "code",
   "execution_count": 27,
   "id": "7eb838de",
   "metadata": {},
   "outputs": [],
   "source": [
    "data = pd.DataFrame({\n",
    "    \"gdp\": gdp_2018,\n",
    "    \"vaccinations\": vaccinations_2021_08\n",
    "}).dropna()"
   ]
  },
  {
   "cell_type": "code",
   "execution_count": 28,
   "id": "dc7b19d0",
   "metadata": {},
   "outputs": [
    {
     "data": {
      "text/html": [
       "<div>\n",
       "<style scoped>\n",
       "    .dataframe tbody tr th:only-of-type {\n",
       "        vertical-align: middle;\n",
       "    }\n",
       "\n",
       "    .dataframe tbody tr th {\n",
       "        vertical-align: top;\n",
       "    }\n",
       "\n",
       "    .dataframe thead th {\n",
       "        text-align: right;\n",
       "    }\n",
       "</style>\n",
       "<table border=\"1\" class=\"dataframe\">\n",
       "  <thead>\n",
       "    <tr style=\"text-align: right;\">\n",
       "      <th></th>\n",
       "      <th>gdp</th>\n",
       "      <th>vaccinations</th>\n",
       "    </tr>\n",
       "  </thead>\n",
       "  <tbody>\n",
       "    <tr>\n",
       "      <th>Albania</th>\n",
       "      <td>11104.166500</td>\n",
       "      <td>18.46</td>\n",
       "    </tr>\n",
       "    <tr>\n",
       "      <th>Argentina</th>\n",
       "      <td>18556.383100</td>\n",
       "      <td>15.47</td>\n",
       "    </tr>\n",
       "    <tr>\n",
       "      <th>Armenia</th>\n",
       "      <td>11454.425100</td>\n",
       "      <td>1.74</td>\n",
       "    </tr>\n",
       "    <tr>\n",
       "      <th>Australia</th>\n",
       "      <td>49830.799300</td>\n",
       "      <td>15.23</td>\n",
       "    </tr>\n",
       "    <tr>\n",
       "      <th>Austria</th>\n",
       "      <td>42988.070900</td>\n",
       "      <td>51.42</td>\n",
       "    </tr>\n",
       "    <tr>\n",
       "      <th>...</th>\n",
       "      <td>...</td>\n",
       "      <td>...</td>\n",
       "    </tr>\n",
       "    <tr>\n",
       "      <th>United States</th>\n",
       "      <td>55334.739400</td>\n",
       "      <td>48.99</td>\n",
       "    </tr>\n",
       "    <tr>\n",
       "      <th>Uruguay</th>\n",
       "      <td>20185.836000</td>\n",
       "      <td>64.06</td>\n",
       "    </tr>\n",
       "    <tr>\n",
       "      <th>Vietnam</th>\n",
       "      <td>6814.142300</td>\n",
       "      <td>0.67</td>\n",
       "    </tr>\n",
       "    <tr>\n",
       "      <th>World</th>\n",
       "      <td>15212.415062</td>\n",
       "      <td>11.74</td>\n",
       "    </tr>\n",
       "    <tr>\n",
       "      <th>Zambia</th>\n",
       "      <td>3534.033700</td>\n",
       "      <td>0.81</td>\n",
       "    </tr>\n",
       "  </tbody>\n",
       "</table>\n",
       "<p>89 rows × 2 columns</p>\n",
       "</div>"
      ],
      "text/plain": [
       "                        gdp  vaccinations\n",
       "Albania        11104.166500         18.46\n",
       "Argentina      18556.383100         15.47\n",
       "Armenia        11454.425100          1.74\n",
       "Australia      49830.799300         15.23\n",
       "Austria        42988.070900         51.42\n",
       "...                     ...           ...\n",
       "United States  55334.739400         48.99\n",
       "Uruguay        20185.836000         64.06\n",
       "Vietnam         6814.142300          0.67\n",
       "World          15212.415062         11.74\n",
       "Zambia          3534.033700          0.81\n",
       "\n",
       "[89 rows x 2 columns]"
      ]
     },
     "execution_count": 28,
     "metadata": {},
     "output_type": "execute_result"
    }
   ],
   "source": [
    "data"
   ]
  },
  {
   "cell_type": "code",
   "execution_count": 30,
   "id": "872a6ee5",
   "metadata": {},
   "outputs": [
    {
     "data": {
      "text/plain": [
       "<AxesSubplot:xlabel='gdp', ylabel='vaccinations'>"
      ]
     },
     "execution_count": 30,
     "metadata": {},
     "output_type": "execute_result"
    },
    {
     "data": {
      "image/png": "[encoded data removed]",
      "text/plain": [
       "<Figure size 432x288 with 1 Axes>"
      ]
     },
     "metadata": {
      "needs_background": "light"
     },
     "output_type": "display_data"
    }
   ],
   "source": [
    "data.plot.scatter(x=\"gdp\", y=\"vaccinations\")"
   ]
  },
  {
   "cell_type": "code",
   "execution_count": null,
   "id": "9875a57b",
   "metadata": {},
   "outputs": [],
   "source": []
  }
 ],
 "metadata": {
  "kernelspec": {
   "display_name": "Python 3 (ipykernel)",
   "language": "python",
   "name": "python3"
  },
  "language_info": {
   "codemirror_mode": {
    "name": "ipython",
    "version": 3
   },
   "file_extension": ".py",
   "mimetype": "text/x-python",
   "name": "python",
   "nbconvert_exporter": "python",
   "pygments_lexer": "ipython3",
   "version": "3.9.7"
  }
 },
 "nbformat": 4,
 "nbformat_minor": 5
}
