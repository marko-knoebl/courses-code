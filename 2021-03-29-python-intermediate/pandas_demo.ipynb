{
 "metadata": {
  "language_info": {
   "codemirror_mode": {
    "name": "ipython",
    "version": 3
   },
   "file_extension": ".py",
   "mimetype": "text/x-python",
   "name": "python",
   "nbconvert_exporter": "python",
   "pygments_lexer": "ipython3",
   "version": "3.8.8"
  },
  "orig_nbformat": 2,
  "kernelspec": {
   "name": "python3",
   "display_name": "Python 3.8.8 64-bit",
   "metadata": {
    "interpreter": {
     "hash": "3bd83cba822250f924734b20660aeac6ef07c54d0e9cbe4e486aad50913bf439"
    }
   }
  }
 },
 "nbformat": 4,
 "nbformat_minor": 2,
 "cells": [
  {
   "cell_type": "code",
   "execution_count": 5,
   "metadata": {},
   "outputs": [
    {
     "output_type": "execute_result",
     "data": {
      "text/plain": [
       "    area  population\n",
       "CN   9.6        1386\n",
       "RU  17.0         144\n",
       "US   9.8         327"
      ],
      "text/html": "<div>\n<style scoped>\n    .dataframe tbody tr th:only-of-type {\n        vertical-align: middle;\n    }\n\n    .dataframe tbody tr th {\n        vertical-align: top;\n    }\n\n    .dataframe thead th {\n        text-align: right;\n    }\n</style>\n<table border=\"1\" class=\"dataframe\">\n  <thead>\n    <tr style=\"text-align: right;\">\n      <th></th>\n      <th>area</th>\n      <th>population</th>\n    </tr>\n  </thead>\n  <tbody>\n    <tr>\n      <th>CN</th>\n      <td>9.6</td>\n      <td>1386</td>\n    </tr>\n    <tr>\n      <th>RU</th>\n      <td>17.0</td>\n      <td>144</td>\n    </tr>\n    <tr>\n      <th>US</th>\n      <td>9.8</td>\n      <td>327</td>\n    </tr>\n  </tbody>\n</table>\n</div>"
     },
     "metadata": {},
     "execution_count": 5
    }
   ],
   "source": [
    "import pandas as pd\n",
    "\n",
    "area = pd.Series({'CN': 9.6, 'RU': 17, 'US': 9.8})\n",
    "population = pd.Series({'CN': 1386, 'RU': 144, 'US': 327})\n",
    "\n",
    "countries = pd.DataFrame(\n",
    "    {\"area\": area, \"population\": population}\n",
    ")\n",
    "countries"
   ]
  },
  {
   "cell_type": "code",
   "execution_count": 6,
   "metadata": {},
   "outputs": [],
   "source": [
    "euribor = pd.read_csv(\n",
    "    \"https://datahub.io/core/euribor/r/euribor-12m-monthly.csv\"\n",
    ")"
   ]
  },
  {
   "cell_type": "code",
   "execution_count": 10,
   "metadata": {},
   "outputs": [],
   "source": [
    "euribor = pd.read_csv(\n",
    "    \"https://datahub.io/core/euribor/r/euribor-12m-monthly.csv\",\n",
    "    parse_dates=[\"date\"],\n",
    "    index_col=\"date\",\n",
    "    usecols=[\"date\", \"rate\"]\n",
    ")"
   ]
  },
  {
   "cell_type": "code",
   "execution_count": 15,
   "metadata": {},
   "outputs": [],
   "source": [
    "sp500 = pd.read_csv(\n",
    "    \"https://datahub.io/core/s-and-p-500/r/data.csv\",\n",
    "    index_col=\"Date\",\n",
    "    parse_dates=[\"Date\"]\n",
    ")"
   ]
  },
  {
   "cell_type": "code",
   "execution_count": 18,
   "metadata": {},
   "outputs": [],
   "source": [
    "er = pd.read_csv(\n",
    "    \"https://datahub.io/core/us-euro-foreign-exchange-rate/r/monthly.csv\",\n",
    "    parse_dates=[\"Date\"]\n",
    ")"
   ]
  },
  {
   "cell_type": "code",
   "execution_count": 26,
   "metadata": {},
   "outputs": [],
   "source": [
    "iris = pd.read_csv(\n",
    "    \"https://raw.githubusercontent.com/mwaskom/seaborn-data/master/iris.csv\"\n",
    ")"
   ]
  },
  {
   "cell_type": "code",
   "execution_count": 24,
   "metadata": {},
   "outputs": [],
   "source": [
    "titanic = pd.read_csv(\n",
    "    \"https://public.opendatasoft.com/explore/dataset/titanic-passengers/download\",\n",
    "    sep=\";\",\n",
    "    index_col=\"passengerid\"\n",
    ")"
   ]
  },
  {
   "cell_type": "code",
   "execution_count": 27,
   "metadata": {},
   "outputs": [
    {
     "output_type": "execute_result",
     "data": {
      "text/plain": [
       "           pclass         age       sibsp       parch        fare\n",
       "count  891.000000  714.000000  891.000000  891.000000  891.000000\n",
       "mean     2.308642   29.699118    0.523008    0.381594   32.204208\n",
       "std      0.836071   14.526497    1.102743    0.806057   49.693429\n",
       "min      1.000000    0.420000    0.000000    0.000000    0.000000\n",
       "25%      2.000000   20.125000    0.000000    0.000000    7.910400\n",
       "50%      3.000000   28.000000    0.000000    0.000000   14.454200\n",
       "75%      3.000000   38.000000    1.000000    0.000000   31.000000\n",
       "max      3.000000   80.000000    8.000000    6.000000  512.329200"
      ],
      "text/html": "<div>\n<style scoped>\n    .dataframe tbody tr th:only-of-type {\n        vertical-align: middle;\n    }\n\n    .dataframe tbody tr th {\n        vertical-align: top;\n    }\n\n    .dataframe thead th {\n        text-align: right;\n    }\n</style>\n<table border=\"1\" class=\"dataframe\">\n  <thead>\n    <tr style=\"text-align: right;\">\n      <th></th>\n      <th>pclass</th>\n      <th>age</th>\n      <th>sibsp</th>\n      <th>parch</th>\n      <th>fare</th>\n    </tr>\n  </thead>\n  <tbody>\n    <tr>\n      <th>count</th>\n      <td>891.000000</td>\n      <td>714.000000</td>\n      <td>891.000000</td>\n      <td>891.000000</td>\n      <td>891.000000</td>\n    </tr>\n    <tr>\n      <th>mean</th>\n      <td>2.308642</td>\n      <td>29.699118</td>\n      <td>0.523008</td>\n      <td>0.381594</td>\n      <td>32.204208</td>\n    </tr>\n    <tr>\n      <th>std</th>\n      <td>0.836071</td>\n      <td>14.526497</td>\n      <td>1.102743</td>\n      <td>0.806057</td>\n      <td>49.693429</td>\n    </tr>\n    <tr>\n      <th>min</th>\n      <td>1.000000</td>\n      <td>0.420000</td>\n      <td>0.000000</td>\n      <td>0.000000</td>\n      <td>0.000000</td>\n    </tr>\n    <tr>\n      <th>25%</th>\n      <td>2.000000</td>\n      <td>20.125000</td>\n      <td>0.000000</td>\n      <td>0.000000</td>\n      <td>7.910400</td>\n    </tr>\n    <tr>\n      <th>50%</th>\n      <td>3.000000</td>\n      <td>28.000000</td>\n      <td>0.000000</td>\n      <td>0.000000</td>\n      <td>14.454200</td>\n    </tr>\n    <tr>\n      <th>75%</th>\n      <td>3.000000</td>\n      <td>38.000000</td>\n      <td>1.000000</td>\n      <td>0.000000</td>\n      <td>31.000000</td>\n    </tr>\n    <tr>\n      <th>max</th>\n      <td>3.000000</td>\n      <td>80.000000</td>\n      <td>8.000000</td>\n      <td>6.000000</td>\n      <td>512.329200</td>\n    </tr>\n  </tbody>\n</table>\n</div>"
     },
     "metadata": {},
     "execution_count": 27
    }
   ],
   "source": [
    "titanic.describe()"
   ]
  },
  {
   "cell_type": "code",
   "execution_count": 28,
   "metadata": {},
   "outputs": [
    {
     "output_type": "execute_result",
     "data": {
      "text/plain": [
       "28.0"
      ]
     },
     "metadata": {},
     "execution_count": 28
    }
   ],
   "source": [
    "titanic[\"age\"].median()"
   ]
  },
  {
   "cell_type": "code",
   "execution_count": 30,
   "metadata": {},
   "outputs": [
    {
     "output_type": "execute_result",
     "data": {
      "text/plain": [
       "Index(['survived', 'pclass', 'name', 'sex', 'age', 'sibsp', 'parch', 'ticket',\n",
       "       'fare', 'cabin', 'embarked'],\n",
       "      dtype='object')"
      ]
     },
     "metadata": {},
     "execution_count": 30
    }
   ],
   "source": [
    "titanic.columns"
   ]
  },
  {
   "cell_type": "code",
   "execution_count": 34,
   "metadata": {},
   "outputs": [
    {
     "output_type": "execute_result",
     "data": {
      "text/plain": [
       "passengerid\n",
       "431    Bjornstrom-Steffansson, Mr. Mauritz Hakan\n",
       "664                             Coleff, Mr. Peju\n",
       "44      Laroche, Miss. Simonne Marie Anne Andree\n",
       "347                    Smith, Miss. Marion Elsie\n",
       "891                          Dooley, Mr. Patrick\n",
       "                         ...                    \n",
       "743        Ryerson, Miss. Susan Parker \"Suzette\"\n",
       "766         Hogeboom, Mrs. John C (Anna Andrews)\n",
       "356                  Vanden Steen, Mr. Leo Peter\n",
       "449               Baclini, Miss. Marie Catherine\n",
       "546                 Nicholson, Mr. Arthur Ernest\n",
       "Name: name, Length: 891, dtype: object"
      ]
     },
     "metadata": {},
     "execution_count": 34
    }
   ],
   "source": [
    "titanic.name"
   ]
  },
  {
   "cell_type": "code",
   "execution_count": 35,
   "metadata": {},
   "outputs": [
    {
     "output_type": "execute_result",
     "data": {
      "text/plain": [
       "passengerid\n",
       "431    Bjornstrom-Steffansson, Mr. Mauritz Hakan\n",
       "664                             Coleff, Mr. Peju\n",
       "44      Laroche, Miss. Simonne Marie Anne Andree\n",
       "347                    Smith, Miss. Marion Elsie\n",
       "891                          Dooley, Mr. Patrick\n",
       "                         ...                    \n",
       "743        Ryerson, Miss. Susan Parker \"Suzette\"\n",
       "766         Hogeboom, Mrs. John C (Anna Andrews)\n",
       "356                  Vanden Steen, Mr. Leo Peter\n",
       "449               Baclini, Miss. Marie Catherine\n",
       "546                 Nicholson, Mr. Arthur Ernest\n",
       "Name: name, Length: 891, dtype: object"
      ]
     },
     "metadata": {},
     "execution_count": 35
    }
   ],
   "source": [
    "titanic[\"name\"]"
   ]
  },
  {
   "cell_type": "code",
   "execution_count": 37,
   "metadata": {},
   "outputs": [
    {
     "output_type": "execute_result",
     "data": {
      "text/plain": [
       "SP500                    4.86\n",
       "Dividend                 0.26\n",
       "Earnings                 0.40\n",
       "Consumer Price Index    12.27\n",
       "Long Interest Rate       5.33\n",
       "Real Price              98.93\n",
       "Real Dividend            5.29\n",
       "Real Earnings            8.14\n",
       "PE10                      NaN\n",
       "Name: 1871-05-01 00:00:00, dtype: float64"
      ]
     },
     "metadata": {},
     "execution_count": 37
    }
   ],
   "source": [
    "sp500.loc[\"1871-05-01\"]"
   ]
  },
  {
   "cell_type": "code",
   "execution_count": 38,
   "metadata": {},
   "outputs": [
    {
     "output_type": "execute_result",
     "data": {
      "text/plain": [
       "            SP500  Dividend  Earnings  Consumer Price Index  \\\n",
       "Date                                                          \n",
       "1872-01-01   4.86      0.26      0.40                 12.65   \n",
       "1872-02-01   4.88      0.27      0.41                 12.65   \n",
       "1872-03-01   5.04      0.27      0.41                 12.84   \n",
       "1872-04-01   5.18      0.27      0.41                 13.13   \n",
       "1872-05-01   5.18      0.28      0.41                 13.13   \n",
       "1872-06-01   5.13      0.28      0.41                 13.03   \n",
       "1872-07-01   5.10      0.28      0.42                 12.84   \n",
       "1872-08-01   5.04      0.29      0.42                 12.94   \n",
       "1872-09-01   4.95      0.29      0.42                 13.03   \n",
       "1872-10-01   4.97      0.29      0.42                 12.75   \n",
       "1872-11-01   4.95      0.30      0.43                 13.13   \n",
       "1872-12-01   5.07      0.30      0.43                 12.94   \n",
       "\n",
       "            Long Interest Rate  Real Price  Real Dividend  Real Earnings  PE10  \n",
       "Date                                                                            \n",
       "1872-01-01                5.36       95.95           5.20           7.95   NaN  \n",
       "1872-02-01                5.38       96.35           5.27           8.00   NaN  \n",
       "1872-03-01                5.40       98.03           5.25           7.93   NaN  \n",
       "1872-04-01                5.42       98.56           5.20           7.80   NaN  \n",
       "1872-05-01                5.43       98.56           5.26           7.85   NaN  \n",
       "1872-06-01                5.45       98.32           5.37           7.95   NaN  \n",
       "1872-07-01                5.47       99.20           5.51           8.12   NaN  \n",
       "1872-08-01                5.49       97.31           5.54           8.11   NaN  \n",
       "1872-09-01                5.51       94.87           5.56           8.10   NaN  \n",
       "1872-10-01                5.52       97.39           5.75           8.33   NaN  \n",
       "1872-11-01                5.54       94.19           5.65           8.13   NaN  \n",
       "1872-12-01                5.56       97.89           5.79           8.30   NaN  "
      ],
      "text/html": "<div>\n<style scoped>\n    .dataframe tbody tr th:only-of-type {\n        vertical-align: middle;\n    }\n\n    .dataframe tbody tr th {\n        vertical-align: top;\n    }\n\n    .dataframe thead th {\n        text-align: right;\n    }\n</style>\n<table border=\"1\" class=\"dataframe\">\n  <thead>\n    <tr style=\"text-align: right;\">\n      <th></th>\n      <th>SP500</th>\n      <th>Dividend</th>\n      <th>Earnings</th>\n      <th>Consumer Price Index</th>\n      <th>Long Interest Rate</th>\n      <th>Real Price</th>\n      <th>Real Dividend</th>\n      <th>Real Earnings</th>\n      <th>PE10</th>\n    </tr>\n    <tr>\n      <th>Date</th>\n      <th></th>\n      <th></th>\n      <th></th>\n      <th></th>\n      <th></th>\n      <th></th>\n      <th></th>\n      <th></th>\n      <th></th>\n    </tr>\n  </thead>\n  <tbody>\n    <tr>\n      <th>1872-01-01</th>\n      <td>4.86</td>\n      <td>0.26</td>\n      <td>0.40</td>\n      <td>12.65</td>\n      <td>5.36</td>\n      <td>95.95</td>\n      <td>5.20</td>\n      <td>7.95</td>\n      <td>NaN</td>\n    </tr>\n    <tr>\n      <th>1872-02-01</th>\n      <td>4.88</td>\n      <td>0.27</td>\n      <td>0.41</td>\n      <td>12.65</td>\n      <td>5.38</td>\n      <td>96.35</td>\n      <td>5.27</td>\n      <td>8.00</td>\n      <td>NaN</td>\n    </tr>\n    <tr>\n      <th>1872-03-01</th>\n      <td>5.04</td>\n      <td>0.27</td>\n      <td>0.41</td>\n      <td>12.84</td>\n      <td>5.40</td>\n      <td>98.03</td>\n      <td>5.25</td>\n      <td>7.93</td>\n      <td>NaN</td>\n    </tr>\n    <tr>\n      <th>1872-04-01</th>\n      <td>5.18</td>\n      <td>0.27</td>\n      <td>0.41</td>\n      <td>13.13</td>\n      <td>5.42</td>\n      <td>98.56</td>\n      <td>5.20</td>\n      <td>7.80</td>\n      <td>NaN</td>\n    </tr>\n    <tr>\n      <th>1872-05-01</th>\n      <td>5.18</td>\n      <td>0.28</td>\n      <td>0.41</td>\n      <td>13.13</td>\n      <td>5.43</td>\n      <td>98.56</td>\n      <td>5.26</td>\n      <td>7.85</td>\n      <td>NaN</td>\n    </tr>\n    <tr>\n      <th>1872-06-01</th>\n      <td>5.13</td>\n      <td>0.28</td>\n      <td>0.41</td>\n      <td>13.03</td>\n      <td>5.45</td>\n      <td>98.32</td>\n      <td>5.37</td>\n      <td>7.95</td>\n      <td>NaN</td>\n    </tr>\n    <tr>\n      <th>1872-07-01</th>\n      <td>5.10</td>\n      <td>0.28</td>\n      <td>0.42</td>\n      <td>12.84</td>\n      <td>5.47</td>\n      <td>99.20</td>\n      <td>5.51</td>\n      <td>8.12</td>\n      <td>NaN</td>\n    </tr>\n    <tr>\n      <th>1872-08-01</th>\n      <td>5.04</td>\n      <td>0.29</td>\n      <td>0.42</td>\n      <td>12.94</td>\n      <td>5.49</td>\n      <td>97.31</td>\n      <td>5.54</td>\n      <td>8.11</td>\n      <td>NaN</td>\n    </tr>\n    <tr>\n      <th>1872-09-01</th>\n      <td>4.95</td>\n      <td>0.29</td>\n      <td>0.42</td>\n      <td>13.03</td>\n      <td>5.51</td>\n      <td>94.87</td>\n      <td>5.56</td>\n      <td>8.10</td>\n      <td>NaN</td>\n    </tr>\n    <tr>\n      <th>1872-10-01</th>\n      <td>4.97</td>\n      <td>0.29</td>\n      <td>0.42</td>\n      <td>12.75</td>\n      <td>5.52</td>\n      <td>97.39</td>\n      <td>5.75</td>\n      <td>8.33</td>\n      <td>NaN</td>\n    </tr>\n    <tr>\n      <th>1872-11-01</th>\n      <td>4.95</td>\n      <td>0.30</td>\n      <td>0.43</td>\n      <td>13.13</td>\n      <td>5.54</td>\n      <td>94.19</td>\n      <td>5.65</td>\n      <td>8.13</td>\n      <td>NaN</td>\n    </tr>\n    <tr>\n      <th>1872-12-01</th>\n      <td>5.07</td>\n      <td>0.30</td>\n      <td>0.43</td>\n      <td>12.94</td>\n      <td>5.56</td>\n      <td>97.89</td>\n      <td>5.79</td>\n      <td>8.30</td>\n      <td>NaN</td>\n    </tr>\n  </tbody>\n</table>\n</div>"
     },
     "metadata": {},
     "execution_count": 38
    }
   ],
   "source": [
    "sp500.loc[\"1872-01-01\" : \"1872-12-31\"]"
   ]
  },
  {
   "cell_type": "code",
   "execution_count": 39,
   "metadata": {},
   "outputs": [
    {
     "output_type": "execute_result",
     "data": {
      "text/plain": [
       "            SP500  Dividend  Earnings  Consumer Price Index  \\\n",
       "Date                                                          \n",
       "1871-01-01   4.44      0.26       0.4                 12.46   \n",
       "1871-02-01   4.50      0.26       0.4                 12.84   \n",
       "1871-03-01   4.61      0.26       0.4                 13.03   \n",
       "1871-04-01   4.74      0.26       0.4                 12.56   \n",
       "1871-05-01   4.86      0.26       0.4                 12.27   \n",
       "1871-06-01   4.82      0.26       0.4                 12.08   \n",
       "1871-07-01   4.73      0.26       0.4                 12.08   \n",
       "1871-08-01   4.79      0.26       0.4                 11.89   \n",
       "1871-09-01   4.84      0.26       0.4                 12.18   \n",
       "1871-10-01   4.59      0.26       0.4                 12.37   \n",
       "\n",
       "            Long Interest Rate  Real Price  Real Dividend  Real Earnings  PE10  \n",
       "Date                                                                            \n",
       "1871-01-01                5.32       89.00           5.21           8.02   NaN  \n",
       "1871-02-01                5.32       87.53           5.06           7.78   NaN  \n",
       "1871-03-01                5.33       88.36           4.98           7.67   NaN  \n",
       "1871-04-01                5.33       94.29           5.17           7.96   NaN  \n",
       "1871-05-01                5.33       98.93           5.29           8.14   NaN  \n",
       "1871-06-01                5.34       99.66           5.38           8.27   NaN  \n",
       "1871-07-01                5.34       97.80           5.38           8.27   NaN  \n",
       "1871-08-01                5.34      100.62           5.46           8.40   NaN  \n",
       "1871-09-01                5.35       99.29           5.33           8.21   NaN  \n",
       "1871-10-01                5.35       92.71           5.25           8.08   NaN  "
      ],
      "text/html": "<div>\n<style scoped>\n    .dataframe tbody tr th:only-of-type {\n        vertical-align: middle;\n    }\n\n    .dataframe tbody tr th {\n        vertical-align: top;\n    }\n\n    .dataframe thead th {\n        text-align: right;\n    }\n</style>\n<table border=\"1\" class=\"dataframe\">\n  <thead>\n    <tr style=\"text-align: right;\">\n      <th></th>\n      <th>SP500</th>\n      <th>Dividend</th>\n      <th>Earnings</th>\n      <th>Consumer Price Index</th>\n      <th>Long Interest Rate</th>\n      <th>Real Price</th>\n      <th>Real Dividend</th>\n      <th>Real Earnings</th>\n      <th>PE10</th>\n    </tr>\n    <tr>\n      <th>Date</th>\n      <th></th>\n      <th></th>\n      <th></th>\n      <th></th>\n      <th></th>\n      <th></th>\n      <th></th>\n      <th></th>\n      <th></th>\n    </tr>\n  </thead>\n  <tbody>\n    <tr>\n      <th>1871-01-01</th>\n      <td>4.44</td>\n      <td>0.26</td>\n      <td>0.4</td>\n      <td>12.46</td>\n      <td>5.32</td>\n      <td>89.00</td>\n      <td>5.21</td>\n      <td>8.02</td>\n      <td>NaN</td>\n    </tr>\n    <tr>\n      <th>1871-02-01</th>\n      <td>4.50</td>\n      <td>0.26</td>\n      <td>0.4</td>\n      <td>12.84</td>\n      <td>5.32</td>\n      <td>87.53</td>\n      <td>5.06</td>\n      <td>7.78</td>\n      <td>NaN</td>\n    </tr>\n    <tr>\n      <th>1871-03-01</th>\n      <td>4.61</td>\n      <td>0.26</td>\n      <td>0.4</td>\n      <td>13.03</td>\n      <td>5.33</td>\n      <td>88.36</td>\n      <td>4.98</td>\n      <td>7.67</td>\n      <td>NaN</td>\n    </tr>\n    <tr>\n      <th>1871-04-01</th>\n      <td>4.74</td>\n      <td>0.26</td>\n      <td>0.4</td>\n      <td>12.56</td>\n      <td>5.33</td>\n      <td>94.29</td>\n      <td>5.17</td>\n      <td>7.96</td>\n      <td>NaN</td>\n    </tr>\n    <tr>\n      <th>1871-05-01</th>\n      <td>4.86</td>\n      <td>0.26</td>\n      <td>0.4</td>\n      <td>12.27</td>\n      <td>5.33</td>\n      <td>98.93</td>\n      <td>5.29</td>\n      <td>8.14</td>\n      <td>NaN</td>\n    </tr>\n    <tr>\n      <th>1871-06-01</th>\n      <td>4.82</td>\n      <td>0.26</td>\n      <td>0.4</td>\n      <td>12.08</td>\n      <td>5.34</td>\n      <td>99.66</td>\n      <td>5.38</td>\n      <td>8.27</td>\n      <td>NaN</td>\n    </tr>\n    <tr>\n      <th>1871-07-01</th>\n      <td>4.73</td>\n      <td>0.26</td>\n      <td>0.4</td>\n      <td>12.08</td>\n      <td>5.34</td>\n      <td>97.80</td>\n      <td>5.38</td>\n      <td>8.27</td>\n      <td>NaN</td>\n    </tr>\n    <tr>\n      <th>1871-08-01</th>\n      <td>4.79</td>\n      <td>0.26</td>\n      <td>0.4</td>\n      <td>11.89</td>\n      <td>5.34</td>\n      <td>100.62</td>\n      <td>5.46</td>\n      <td>8.40</td>\n      <td>NaN</td>\n    </tr>\n    <tr>\n      <th>1871-09-01</th>\n      <td>4.84</td>\n      <td>0.26</td>\n      <td>0.4</td>\n      <td>12.18</td>\n      <td>5.35</td>\n      <td>99.29</td>\n      <td>5.33</td>\n      <td>8.21</td>\n      <td>NaN</td>\n    </tr>\n    <tr>\n      <th>1871-10-01</th>\n      <td>4.59</td>\n      <td>0.26</td>\n      <td>0.4</td>\n      <td>12.37</td>\n      <td>5.35</td>\n      <td>92.71</td>\n      <td>5.25</td>\n      <td>8.08</td>\n      <td>NaN</td>\n    </tr>\n  </tbody>\n</table>\n</div>"
     },
     "metadata": {},
     "execution_count": 39
    }
   ],
   "source": [
    "sp500.iloc[0:10]"
   ]
  },
  {
   "cell_type": "code",
   "execution_count": 41,
   "metadata": {},
   "outputs": [
    {
     "output_type": "execute_result",
     "data": {
      "text/plain": [
       "            survived  pclass                                       name  \\\n",
       "passengerid                                                               \n",
       "664               No       3                           Coleff, Mr. Peju   \n",
       "44               Yes       2   Laroche, Miss. Simonne Marie Anne Andree   \n",
       "347              Yes       2                  Smith, Miss. Marion Elsie   \n",
       "891               No       3                        Dooley, Mr. Patrick   \n",
       "100               No       2                          Kantor, Mr. Sinai   \n",
       "...              ...     ...                                        ...   \n",
       "203               No       3                 Johanson, Mr. Jakob Alfred   \n",
       "348              Yes       3  Davison, Mrs. Thomas Henry (Mary E Finck)   \n",
       "645              Yes       3                     Baclini, Miss. Eugenie   \n",
       "356               No       3                Vanden Steen, Mr. Leo Peter   \n",
       "449              Yes       3             Baclini, Miss. Marie Catherine   \n",
       "\n",
       "                sex    age  sibsp  parch         ticket     fare cabin  \\\n",
       "passengerid                                                              \n",
       "664            male  36.00      0      0         349210   7.4958   NaN   \n",
       "44           female   3.00      1      2  SC/Paris 2123  41.5792   NaN   \n",
       "347          female  40.00      0      0          31418  13.0000   NaN   \n",
       "891            male  32.00      0      0         370376   7.7500   NaN   \n",
       "100            male  34.00      1      0         244367  26.0000   NaN   \n",
       "...             ...    ...    ...    ...            ...      ...   ...   \n",
       "203            male  34.00      0      0        3101264   6.4958   NaN   \n",
       "348          female    NaN      1      0         386525  16.1000   NaN   \n",
       "645          female   0.75      2      1           2666  19.2583   NaN   \n",
       "356            male  28.00      0      0         345783   9.5000   NaN   \n",
       "449          female   5.00      2      1           2666  19.2583   NaN   \n",
       "\n",
       "            embarked  \n",
       "passengerid           \n",
       "664                S  \n",
       "44                 C  \n",
       "347                S  \n",
       "891                Q  \n",
       "100                S  \n",
       "...              ...  \n",
       "203                S  \n",
       "348                S  \n",
       "645                C  \n",
       "356                S  \n",
       "449                C  \n",
       "\n",
       "[675 rows x 11 columns]"
      ],
      "text/html": "<div>\n<style scoped>\n    .dataframe tbody tr th:only-of-type {\n        vertical-align: middle;\n    }\n\n    .dataframe tbody tr th {\n        vertical-align: top;\n    }\n\n    .dataframe thead th {\n        text-align: right;\n    }\n</style>\n<table border=\"1\" class=\"dataframe\">\n  <thead>\n    <tr style=\"text-align: right;\">\n      <th></th>\n      <th>survived</th>\n      <th>pclass</th>\n      <th>name</th>\n      <th>sex</th>\n      <th>age</th>\n      <th>sibsp</th>\n      <th>parch</th>\n      <th>ticket</th>\n      <th>fare</th>\n      <th>cabin</th>\n      <th>embarked</th>\n    </tr>\n    <tr>\n      <th>passengerid</th>\n      <th></th>\n      <th></th>\n      <th></th>\n      <th></th>\n      <th></th>\n      <th></th>\n      <th></th>\n      <th></th>\n      <th></th>\n      <th></th>\n      <th></th>\n    </tr>\n  </thead>\n  <tbody>\n    <tr>\n      <th>664</th>\n      <td>No</td>\n      <td>3</td>\n      <td>Coleff, Mr. Peju</td>\n      <td>male</td>\n      <td>36.00</td>\n      <td>0</td>\n      <td>0</td>\n      <td>349210</td>\n      <td>7.4958</td>\n      <td>NaN</td>\n      <td>S</td>\n    </tr>\n    <tr>\n      <th>44</th>\n      <td>Yes</td>\n      <td>2</td>\n      <td>Laroche, Miss. Simonne Marie Anne Andree</td>\n      <td>female</td>\n      <td>3.00</td>\n      <td>1</td>\n      <td>2</td>\n      <td>SC/Paris 2123</td>\n      <td>41.5792</td>\n      <td>NaN</td>\n      <td>C</td>\n    </tr>\n    <tr>\n      <th>347</th>\n      <td>Yes</td>\n      <td>2</td>\n      <td>Smith, Miss. Marion Elsie</td>\n      <td>female</td>\n      <td>40.00</td>\n      <td>0</td>\n      <td>0</td>\n      <td>31418</td>\n      <td>13.0000</td>\n      <td>NaN</td>\n      <td>S</td>\n    </tr>\n    <tr>\n      <th>891</th>\n      <td>No</td>\n      <td>3</td>\n      <td>Dooley, Mr. Patrick</td>\n      <td>male</td>\n      <td>32.00</td>\n      <td>0</td>\n      <td>0</td>\n      <td>370376</td>\n      <td>7.7500</td>\n      <td>NaN</td>\n      <td>Q</td>\n    </tr>\n    <tr>\n      <th>100</th>\n      <td>No</td>\n      <td>2</td>\n      <td>Kantor, Mr. Sinai</td>\n      <td>male</td>\n      <td>34.00</td>\n      <td>1</td>\n      <td>0</td>\n      <td>244367</td>\n      <td>26.0000</td>\n      <td>NaN</td>\n      <td>S</td>\n    </tr>\n    <tr>\n      <th>...</th>\n      <td>...</td>\n      <td>...</td>\n      <td>...</td>\n      <td>...</td>\n      <td>...</td>\n      <td>...</td>\n      <td>...</td>\n      <td>...</td>\n      <td>...</td>\n      <td>...</td>\n      <td>...</td>\n    </tr>\n    <tr>\n      <th>203</th>\n      <td>No</td>\n      <td>3</td>\n      <td>Johanson, Mr. Jakob Alfred</td>\n      <td>male</td>\n      <td>34.00</td>\n      <td>0</td>\n      <td>0</td>\n      <td>3101264</td>\n      <td>6.4958</td>\n      <td>NaN</td>\n      <td>S</td>\n    </tr>\n    <tr>\n      <th>348</th>\n      <td>Yes</td>\n      <td>3</td>\n      <td>Davison, Mrs. Thomas Henry (Mary E Finck)</td>\n      <td>female</td>\n      <td>NaN</td>\n      <td>1</td>\n      <td>0</td>\n      <td>386525</td>\n      <td>16.1000</td>\n      <td>NaN</td>\n      <td>S</td>\n    </tr>\n    <tr>\n      <th>645</th>\n      <td>Yes</td>\n      <td>3</td>\n      <td>Baclini, Miss. Eugenie</td>\n      <td>female</td>\n      <td>0.75</td>\n      <td>2</td>\n      <td>1</td>\n      <td>2666</td>\n      <td>19.2583</td>\n      <td>NaN</td>\n      <td>C</td>\n    </tr>\n    <tr>\n      <th>356</th>\n      <td>No</td>\n      <td>3</td>\n      <td>Vanden Steen, Mr. Leo Peter</td>\n      <td>male</td>\n      <td>28.00</td>\n      <td>0</td>\n      <td>0</td>\n      <td>345783</td>\n      <td>9.5000</td>\n      <td>NaN</td>\n      <td>S</td>\n    </tr>\n    <tr>\n      <th>449</th>\n      <td>Yes</td>\n      <td>3</td>\n      <td>Baclini, Miss. Marie Catherine</td>\n      <td>female</td>\n      <td>5.00</td>\n      <td>2</td>\n      <td>1</td>\n      <td>2666</td>\n      <td>19.2583</td>\n      <td>NaN</td>\n      <td>C</td>\n    </tr>\n  </tbody>\n</table>\n<p>675 rows × 11 columns</p>\n</div>"
     },
     "metadata": {},
     "execution_count": 41
    }
   ],
   "source": [
    "titanic[titanic.pclass != 1]\n",
    "titanic[titanic[\"pclass\"] != 1]"
   ]
  },
  {
   "cell_type": "code",
   "execution_count": 44,
   "metadata": {},
   "outputs": [
    {
     "output_type": "execute_result",
     "data": {
      "text/plain": [
       "            survived  pclass  \\\n",
       "passengerid                    \n",
       "552               No       2   \n",
       "464               No       2   \n",
       "582              Yes       1   \n",
       "712               No       1   \n",
       "623              Yes       3   \n",
       "\n",
       "                                                          name     sex   age  \\\n",
       "passengerid                                                                    \n",
       "552                                Sharp, Mr. Percival James R    male  27.0   \n",
       "464                               Milling, Mr. Jacob Christian    male  48.0   \n",
       "582          Thayer, Mrs. John Borland (Marian Longstreth M...  female  39.0   \n",
       "712                                         Klaber, Mr. Herman    male   NaN   \n",
       "623                                           Nakid, Mr. Sahid    male  20.0   \n",
       "\n",
       "             sibsp  parch  ticket      fare cabin embarked  \n",
       "passengerid                                                 \n",
       "552              0      0  244358   26.0000   NaN        S  \n",
       "464              0      0  234360   13.0000   NaN        S  \n",
       "582              1      1   17421  110.8833   C68        C  \n",
       "712              0      0  113028   26.5500  C124        S  \n",
       "623              1      1    2653   15.7417   NaN        C  "
      ],
      "text/html": "<div>\n<style scoped>\n    .dataframe tbody tr th:only-of-type {\n        vertical-align: middle;\n    }\n\n    .dataframe tbody tr th {\n        vertical-align: top;\n    }\n\n    .dataframe thead th {\n        text-align: right;\n    }\n</style>\n<table border=\"1\" class=\"dataframe\">\n  <thead>\n    <tr style=\"text-align: right;\">\n      <th></th>\n      <th>survived</th>\n      <th>pclass</th>\n      <th>name</th>\n      <th>sex</th>\n      <th>age</th>\n      <th>sibsp</th>\n      <th>parch</th>\n      <th>ticket</th>\n      <th>fare</th>\n      <th>cabin</th>\n      <th>embarked</th>\n    </tr>\n    <tr>\n      <th>passengerid</th>\n      <th></th>\n      <th></th>\n      <th></th>\n      <th></th>\n      <th></th>\n      <th></th>\n      <th></th>\n      <th></th>\n      <th></th>\n      <th></th>\n      <th></th>\n    </tr>\n  </thead>\n  <tbody>\n    <tr>\n      <th>552</th>\n      <td>No</td>\n      <td>2</td>\n      <td>Sharp, Mr. Percival James R</td>\n      <td>male</td>\n      <td>27.0</td>\n      <td>0</td>\n      <td>0</td>\n      <td>244358</td>\n      <td>26.0000</td>\n      <td>NaN</td>\n      <td>S</td>\n    </tr>\n    <tr>\n      <th>464</th>\n      <td>No</td>\n      <td>2</td>\n      <td>Milling, Mr. Jacob Christian</td>\n      <td>male</td>\n      <td>48.0</td>\n      <td>0</td>\n      <td>0</td>\n      <td>234360</td>\n      <td>13.0000</td>\n      <td>NaN</td>\n      <td>S</td>\n    </tr>\n    <tr>\n      <th>582</th>\n      <td>Yes</td>\n      <td>1</td>\n      <td>Thayer, Mrs. John Borland (Marian Longstreth M...</td>\n      <td>female</td>\n      <td>39.0</td>\n      <td>1</td>\n      <td>1</td>\n      <td>17421</td>\n      <td>110.8833</td>\n      <td>C68</td>\n      <td>C</td>\n    </tr>\n    <tr>\n      <th>712</th>\n      <td>No</td>\n      <td>1</td>\n      <td>Klaber, Mr. Herman</td>\n      <td>male</td>\n      <td>NaN</td>\n      <td>0</td>\n      <td>0</td>\n      <td>113028</td>\n      <td>26.5500</td>\n      <td>C124</td>\n      <td>S</td>\n    </tr>\n    <tr>\n      <th>623</th>\n      <td>Yes</td>\n      <td>3</td>\n      <td>Nakid, Mr. Sahid</td>\n      <td>male</td>\n      <td>20.0</td>\n      <td>1</td>\n      <td>1</td>\n      <td>2653</td>\n      <td>15.7417</td>\n      <td>NaN</td>\n      <td>C</td>\n    </tr>\n  </tbody>\n</table>\n</div>"
     },
     "metadata": {},
     "execution_count": 44
    }
   ],
   "source": [
    "titanic.sample(5)"
   ]
  },
  {
   "cell_type": "code",
   "execution_count": 45,
   "metadata": {},
   "outputs": [
    {
     "output_type": "stream",
     "name": "stdout",
     "text": [
      "survived\npclass\nname\nsex\nage\nsibsp\nparch\nticket\nfare\ncabin\nembarked\n"
     ]
    }
   ],
   "source": [
    "for x in titanic:\n",
    "    print(x)"
   ]
  },
  {
   "cell_type": "code",
   "execution_count": 47,
   "metadata": {},
   "outputs": [
    {
     "output_type": "execute_result",
     "data": {
      "text/plain": [
       "array(['Australia', 'Austria', 'Belgium', 'Brazil', 'Canada', 'China',\n",
       "       'Denmark', 'Euro', 'Finland', 'France', 'Germany', 'Greece',\n",
       "       'Hong Kong', 'India', 'Ireland', 'Italy', 'Japan', 'Malaysia',\n",
       "       'Mexico', 'Netherlands', 'New Zealand', 'Norway', 'Portugal',\n",
       "       'Singapore', 'South Africa', 'South Korea', 'Spain', 'Sri Lanka',\n",
       "       'Sweden', 'Switzerland', 'Taiwan', 'Thailand', 'United Kingdom',\n",
       "       'Venezuela'], dtype=object)"
      ]
     },
     "metadata": {},
     "execution_count": 47
    }
   ],
   "source": [
    "er[\"Country\"].unique()"
   ]
  },
  {
   "cell_type": "code",
   "execution_count": 48,
   "metadata": {},
   "outputs": [],
   "source": [
    "a = [0, 1, 2, 3, 4]"
   ]
  },
  {
   "cell_type": "code",
   "execution_count": 49,
   "metadata": {},
   "outputs": [
    {
     "output_type": "execute_result",
     "data": {
      "text/plain": [
       "[0, 1, 2, 3]"
      ]
     },
     "metadata": {},
     "execution_count": 49
    }
   ],
   "source": [
    "a[0:]"
   ]
  },
  {
   "cell_type": "code",
   "execution_count": 50,
   "metadata": {},
   "outputs": [],
   "source": [
    "import tables"
   ]
  },
  {
   "cell_type": "code",
   "execution_count": null,
   "metadata": {},
   "outputs": [],
   "source": []
  }
 ]
}